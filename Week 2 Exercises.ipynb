{
 "cells": [
  {
   "cell_type": "markdown",
   "id": "b1d6fbba-c790-4385-8180-1de8049e988e",
   "metadata": {},
   "source": [
    "# Week 2 Exercises"
   ]
  },
  {
   "cell_type": "markdown",
   "id": "6ac92b08-19ae-4be2-b2f1-b28473e74257",
   "metadata": {},
   "source": [
    "#### 1. Calculate the minimum number of cups of tea required to ensure the probability of randomly selecting the correct cups is less than or equal to 1%."
   ]
  },
  {
   "cell_type": "markdown",
   "id": "a2f799b1-aae5-4448-9b4b-d4d58b552d94",
   "metadata": {},
   "source": [
    "The math.comb function can be used for this purpose. Math.comb returns the total number of ways of picking k items from n items without repetition or order. We can then get the probabilty of selecting the correct cups by dividing the total selection options by 1. Multiplying the result by 100 will give the percentage probability."
   ]
  },
  {
   "cell_type": "code",
   "execution_count": 2,
   "id": "bda8dcd1-ca5d-47b2-9604-b41961ae0ea0",
   "metadata": {},
   "outputs": [],
   "source": [
    "# Import Math module\n",
    "import math\n",
    "import itertools\n",
    "import random\n",
    "import numpy as np\n",
    "import seaborn as sns"
   ]
  },
  {
   "cell_type": "markdown",
   "id": "ea7d985e-c057-470b-a206-609147955c24",
   "metadata": {},
   "source": [
    "First, we will calculate the probability of selecting 4 cups correctly from 8, per the original experiment. "
   ]
  },
  {
   "cell_type": "code",
   "execution_count": 11,
   "id": "6a7cc673-2c76-4e51-9afd-822e5ce97909",
   "metadata": {},
   "outputs": [
    {
     "data": {
      "text/plain": [
       "1.4285714285714286"
      ]
     },
     "execution_count": 11,
     "metadata": {},
     "output_type": "execute_result"
    }
   ],
   "source": [
    "(1/math.comb(8,4)) * 100"
   ]
  },
  {
   "cell_type": "markdown",
   "id": "785bf9db-79e3-464b-a5ef-2d3a1aea3461",
   "metadata": {},
   "source": [
    "The probability of selecting all 4 cups correctly is 1.4%. To decrease the probability of randomly selecting the correct cups, we must increase the sample size. The more possibilities we have for selection, the less chance we have of randomly selecting the correct set. Below, the sample size is increased to 10, and the probability of getting 5 correct is calculated."
   ]
  },
  {
   "cell_type": "code",
   "execution_count": 13,
   "id": "0d00f5f6-a25c-4945-82fa-42465434e1eb",
   "metadata": {},
   "outputs": [
    {
     "data": {
      "text/plain": [
       "0.3968253968253968"
      ]
     },
     "execution_count": 13,
     "metadata": {},
     "output_type": "execute_result"
    }
   ],
   "source": [
    "(1/math.comb(10,5)) * 100"
   ]
  },
  {
   "cell_type": "markdown",
   "id": "77e24eaa-da7e-4af7-b275-f3e222ea7656",
   "metadata": {},
   "source": [
    "The probability of getting all five correct cups by selecting randomly is 0.4%. Therefore, 10 cups is the minimum sample size required to ensure a probability of less than 1%."
   ]
  },
  {
   "cell_type": "markdown",
   "id": "213d3b2f-54c7-4b5f-9d80-3c3b2ae372d0",
   "metadata": {},
   "source": [
    "#### 2. Bonus: How many would be required if you were to let the taster get one cup wrong while maintaining the 1% threshold?\n",
    "\n"
   ]
  },
  {
   "cell_type": "markdown",
   "id": "769ebba0-249c-4d5f-88ab-42253ebc9c60",
   "metadata": {},
   "source": [
    "Allowing the taster to get one cup wrong will increase the number of potential combinations to choose from. Therefore, we must increase the sample size to counter this, as this will increase the number of available choices, and reduce the probability of randomly selecting the correct cups.\n",
    "\n",
    "The below function is based on the code used to plot the possibilities of total correct answers for the original sample size of 8. It takes a single parameter, n, which corresponds to the total number of cups. It generates a list of integers of length n, and the number of choices corresponds to n/2. All possible combinations are generated and stored in the array poss. A sample is randomly chosen to correspond to the cups with the milk added. The function then iterates through all potential combinations, and counts the total cups with the milk in them first. Every time all cups except one are correct, the count is increased. The total count of times where just one cup is incorrect are divided by the total potential options to get the probability of random selection"
   ]
  },
  {
   "cell_type": "code",
   "execution_count": 51,
   "id": "15bae8e4-0463-4d68-8407-1a835694efd0",
   "metadata": {},
   "outputs": [],
   "source": [
    "def find_probability (n) :\n",
    "    cups = np.arange(0, n)\n",
    "    choices = int(n/2)\n",
    "    poss = list(itertools.combinations(cups, choices))\n",
    "    total_options = len(poss)\n",
    "    milkfirst = set(random.choice(poss))\n",
    "\n",
    "    count = 0\n",
    "\n",
    "    for i in itertools.combinations(cups,choices):\n",
    "        no_correct = len(milkfirst & set(i))\n",
    "        if no_correct == choices - 1 :\n",
    "            count +=1\n",
    "        \n",
    "    probability = count/total_options\n",
    "    return probability*100\n",
    "    "
   ]
  },
  {
   "cell_type": "markdown",
   "id": "af5e8a81-843d-4157-8c6d-b3abdc0622e2",
   "metadata": {},
   "source": [
    "Below is the probability of getting 3 cups correct and 1 incorrect, when the sample size is 8. This is calculated as a sanity check, if the function is correct we would expect it to return a probability of approximately 20%."
   ]
  },
  {
   "cell_type": "code",
   "execution_count": 58,
   "id": "cbe1e4a7-2f62-4a41-ba3f-791b6fe13991",
   "metadata": {},
   "outputs": [
    {
     "data": {
      "text/plain": [
       "22.857142857142858"
      ]
     },
     "execution_count": 58,
     "metadata": {},
     "output_type": "execute_result"
    }
   ],
   "source": [
    "find_probability(8)"
   ]
  },
  {
   "cell_type": "markdown",
   "id": "2a17ef4d-c603-42dd-bf0b-567de6e39f3f",
   "metadata": {},
   "source": [
    "The first even number to return a value of <1 is 16, hence we can say that 16 cups are required to allow the tester to get 1 wrong while maintaining a probability of random selection of ~1%."
   ]
  },
  {
   "cell_type": "code",
   "execution_count": 64,
   "id": "ab9cbfaa-c5c7-44af-921c-612eeb567cbe",
   "metadata": {},
   "outputs": [
    {
     "data": {
      "text/plain": [
       "0.4972804972804973"
      ]
     },
     "execution_count": 64,
     "metadata": {},
     "output_type": "execute_result"
    }
   ],
   "source": [
    "find_probability(16)"
   ]
  },
  {
   "cell_type": "code",
   "execution_count": null,
   "id": "26392f6d-b932-4001-981b-b73237869108",
   "metadata": {},
   "outputs": [],
   "source": []
  }
 ],
 "metadata": {
  "kernelspec": {
   "display_name": "Python 3.8.12 ('base')",
   "language": "python",
   "name": "python3"
  },
  "language_info": {
   "codemirror_mode": {
    "name": "ipython",
    "version": 3
   },
   "file_extension": ".py",
   "mimetype": "text/x-python",
   "name": "python",
   "nbconvert_exporter": "python",
   "pygments_lexer": "ipython3",
   "version": "3.8.12"
  },
  "vscode": {
   "interpreter": {
    "hash": "585a938ec471c889bf0cce0aed741a99eaf47ca09c0fa8393793bc5bfe77ba11"
   }
  }
 },
 "nbformat": 4,
 "nbformat_minor": 5
}
