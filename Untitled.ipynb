{
 "cells": [
  {
   "cell_type": "markdown",
   "id": "dfaf23e8",
   "metadata": {},
   "source": [
    "# Topic 3 : Parameters\n",
    "\n",
    "In this notebook, the numpy polyfit function is used to fit polynomials to two data sets. These data sets are as follows:\n",
    "\n",
    "\n",
    "Data Set 1:\n",
    "\n",
    "```python \n",
    "x = [0.0, 1.0, 2.0, 3.0, 4.0, 5.0, 6.0, 7.0, 8.0, 9.0, 10.0, 11.0, 12.0, 13.0, 14.0, 15.0]\n",
    "y = [1.3, 1.2, 9.4, 27.3, 63.1, 126.5, 217.3, 341.5, 512.8, 729.3, 1001.8, 1332.7, 1728.9, 2198.8, 2743.7, 3376.7]\n",
    "```\n",
    "Data Set 2:\n",
    "\n",
    "```python \n",
    "x = [0.0, 1.0, 2.0, 3.0, 4.0, 5.0, 6.0, 7.0, 8.0, 9.0, 10.0, 11.0, 12.0]\n",
    "y = [5.7, 16.6, 58.0, 278.9, 1069.3, 3181.4, 7844.3, 16883.9, 32854.9, 59144.2, 100106.7, 161166.3, 248958.6]\n",
    "```\n",
    "\n",
    "#### Overview of Polynomials\n",
    "\n",
    "The word polynomial comes from poly (meaning many) and nomial (meaning term); hence, polynomial functions can be considered algebraic expressions with manterms. Terms are variables, real numbers or a multiplication of one or more variables, and separated by addition or subtraction signs.\n",
    "\n",
    "Below are some examples of polynomials with varying numbers of terms.\n",
    "\n",
    "##### Mononomial (one term) \n",
    "$$$$3xy^2$$$$\n",
    "\n",
    "##### Binomial (two terms) \n",
    "$$$$4x - 1$$$$\n",
    "\n",
    "##### Trinomial (three terms)\n",
    "$$$$3x + y -2$$$$\n",
    "\n",
    "Certain conditions must be satisfied for an expression to be considered a polynomial; exponents must be whole, positive numbers, and the expression cannot include division by a variable.\n",
    "\n",
    "#### Linear vs Polynomial Regression.\n",
    "\n",
    "Linear regression is used to estimate the relationship between two quantitative variables by fitting a straight line to the observed data. \n",
    "\n",
    "Conversely, polynomial regression is a method of determining the relationship between an independent variable (x) and a dependent variable (y), and modelling this relationship as the nth degree polynomial, where degrees refer to the highest power of the variables in the function. \n",
    "\n",
    "Polynomial regression is used in scenarios where the relationship between x and y is not linear, and the line of best fit is closer to a curve. A polynomial regression model can be developed using Least Squares Fitting; this is a procedure for finding the best-fitting curve for a given dataset by minimizing the sum of the squares of the offsets of the points from the curve. \n",
    "\n",
    "#### NumPy Polyfit\n",
    "\n",
    "The numpy polyfit function fits a polynomial of degree deg to points x and y using Least Squares fitting. It returns a single-dimensional array of coefficients that minimize the squared error of the polynomial. Coefficients are the numbers that come before a term. For example in the polynomial 2x +3y, the coefficients would be 2 and 3. "
   ]
  },
  {
   "cell_type": "code",
   "execution_count": null,
   "id": "23e1599c",
   "metadata": {},
   "outputs": [],
   "source": []
  },
  {
   "cell_type": "code",
   "execution_count": null,
   "id": "da23f7bb",
   "metadata": {},
   "outputs": [],
   "source": []
  }
 ],
 "metadata": {
  "kernelspec": {
   "display_name": "Python 3 (ipykernel)",
   "language": "python",
   "name": "python3"
  },
  "language_info": {
   "codemirror_mode": {
    "name": "ipython",
    "version": 3
   },
   "file_extension": ".py",
   "mimetype": "text/x-python",
   "name": "python",
   "nbconvert_exporter": "python",
   "pygments_lexer": "ipython3",
   "version": "3.8.12"
  }
 },
 "nbformat": 4,
 "nbformat_minor": 5
}
