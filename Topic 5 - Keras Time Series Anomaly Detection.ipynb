{
 "cells": [
  {
   "cell_type": "markdown",
   "metadata": {},
   "source": [
    "# Keras Time Series Anomaly Detection"
   ]
  },
  {
   "cell_type": "markdown",
   "metadata": {},
   "source": [
    "# Introduction\n",
    "\n",
    "In this notebook, a neural network is developed using Keras to detect anomalies in the Numenta Anomaly benchmark dataset. The code and plots have been adapted from the Keras documentation, which can be accessed via the below link.\n",
    "\n",
    "https://keras.io/examples/timeseries/timeseries_anomaly_detection/.\n",
    "\n",
    "### Overview of Machine Learning and Neural Networks\n",
    "\n",
    "Machine learning is an area of computer science that allows computers to learn and act without being specifically programmed to do so. It entails building and adapting models that allow programmes to learn through experience. Algorithms are constructed to  adapt the models, which in turn gradually improves the predictions made by the programme.\n",
    "\n",
    "The machine learning process begins with input data, such as examples, direct experience or instruction. The algorithm will look for patterns in the data so it can later make predictions based on the examples provided. There are several ways the algorithm can be trained to identify patterns in data, including the following:\n",
    "- Supervised Learning: This is the most practical and widely used form of ML. It involves creating a function that relates input variables to labelled output values. The model is trained until it can detect the underlying patterns and relationships between the input and output data, meaning it can accurately predict output labels when presented with an entirely new dataset.In the real world, applications of supervised learning include risk assessment, image classification,fraud detection etc.\n",
    "- Unsupervised Learning: In this form, algorithims are trained on unlabeled data, and scans through the data sets looking for any meaningful connections. Hence, in unsupervised learning the algorithm finds the patterns/similarities within the data instead of relating the data to an external measurement.\n",
    "- Semi-supervised Learning: This is a combination of the two previous approaches. This is where unsupervised learning algorithms generate labels for input data, which are then fed into supervised learning algorithms. In this approach, some of the input data is labelled by humans, and some are guessed by unsupervised learning, and all these datapoints/labels are given to supervised learning algorithms to generate the AI model. \n",
    "\n",
    "\n",
    "### Keras Overview\n",
    "Keras is an open-source Neural Network library written in Python, capable of running on TensorFlow, which is an end-to-end machine learning framework developed by Google. "
   ]
  },
  {
   "cell_type": "markdown",
   "metadata": {},
   "source": [
    "### The Numenta Anomaly Benchmark (NAB)\n",
    "\n",
    "The ability to detect anomalies in data sets has numerous applications in fields such as fraud detection for credit cards, fault detection in safety critical systems and to detect network breaches in cybersecurity. Due to its wide range of potential uses, the problem of anomaly detection has been thoroughly researched, and several algorithms for this purpose have been proposed. However, there was no dataset or framework available for evaluating and benchmarking these algorithims; hence the Numenta Anomaly Benchmark was introduced in 2015. The NAB was developed by Numenta, which is a research company blending neuroscience and machine learning to drive advances in the field of Artificial intellegence.\n",
    "\n",
    "The NAB is an open-source framework used to evaluate and compare anomaly detection algorithms. It includes a set of open-access, labelled data files and a common scoring system to compare the ability of different algorithms to detect anomalies in streaming data. Anomalies are patterns that do not match with previous patterns of behaviour for the relevant data stream. \n",
    "\n",
    "#### Data Files\n",
    "\n",
    "In addition to simulated data files, the NAB also includes real-world data with outliers/anomalies that have known causes. These data files have been collected by Numenta over years of interacting with customers and resolving their anomaly-related issues. The NAB dataset includes a wide range of different metrics, such as IoT sensor output, social media activity, web server traffic and network utilization data. For these metrics, a range of anomaly types are included - for example, both planned system shutdowns and real failures, as different behaviour should be displayed for different types. The files also include some challenges in terms of anomaly detection, such as noise  In addition, data files without anomalies are included as a reference point. \n",
    "\n",
    "#### Anomaly Detection Scoring\n",
    "An anomaly detection algorithm has two main functions: accepting data input such as that from the NAB files, and flagging anomalies within this data. According to Numenta, the perfect detector is one that:\n",
    "- Works in real time\n",
    "- Detects all anomalies in streaming data\n",
    "- Is fully automated across all potential datasets\n",
    "- Detects anomalies as soon as possible\n",
    "- Does not supply any false positives.\n",
    "\n",
    "The scoring mechanism proposed by the NAB, which aims to recognize algorithms with these traits, consists of three main components: \n",
    "\n",
    "1. Anomaly Windows\n",
    "Anomaly windows are defined ranges of data points that surround a recorded anomaly, which represent the time immediately before/after the anomaly occurs. Points are awarded to algorithms that detect anomalies within this window, hence giving credit to algorithms capable of early detection. If an algorithm is detected outside the window, it is marked as a false positive and given a negative score.\n",
    "\n",
    "2. Scoring Function\n",
    "The scoring function is connected to the anomaly window; as mentioned above, positive scores are given for detections within the anomaly window and negative scores for detections outside the window.\n",
    "\n",
    "3. Application Profiles\n",
    "Application profiles acknowledge that the value/implications of false negatives and positives vary between industries and applications. For example, a false negative on a hospital EKG tracker may have much more serious effects on patient helat than a false positive. \n",
    "\n",
    "#### Source Data\n",
    "\n",
    "The NAB source files are available on Kaggle at the below link:\n",
    "\n",
    "[NAB Source Data](https://www.kaggle.com/datasets/boltzmannbrain/nab)\n",
    "\n",
    "Below is the link to the Github repository for the project:\n",
    "\n",
    "[GitHub Link](https://github.com/numenta/NAB)\n",
    "\n",
    "As mentioned above, numerous real-world datasets are available, such as the following:\n",
    "- AWS Server Metrics: Collected by AmazonCloudwatch Service. Metrics include CPU utilization, Network Bytes in and Disk Read bytes.\n",
    "- Real Tweets: Collections of Twitter mentions of publicly traded companies, such as Google and IBM. \n",
    "- NYC Taxi Data: Number of of NYC taxi passengers, where anomalies include the NYC marathon, Thanksgiving, Christmas and a snow storm.\n",
    "\n",
    "There are also two types of artificially-generated data:\n",
    "- artificialNoAnomaly: Simulated data without anomalies\n",
    "- artificalWithAnomaly: Simulated data with varying types of anomaly\n",
    "\n",
    "This notebook uses one of the artificial data sets - daily_small_noise and daily_jump_up. Both files emulate the same data source, but while daily_small_noise does not contain any anomalies, these are present in daily_jump_up.\n",
    "\n",
    "The code in this notebook demonstrates how a neural network, developed using Keras, can be trained to detect anomalies in the second file, by using the first file as a training data source."
   ]
  },
  {
   "cell_type": "markdown",
   "metadata": {},
   "source": [
    "# Loading the data"
   ]
  },
  {
   "cell_type": "markdown",
   "metadata": {},
   "source": [
    "### Python Packages"
   ]
  },
  {
   "cell_type": "code",
   "execution_count": 1,
   "metadata": {},
   "outputs": [],
   "source": [
    "# Numerical arrays.\n",
    "import numpy as np\n",
    "\n",
    "# Spreadsheet-like Data Frames.\n",
    "import pandas as pd\n",
    "\n",
    "# Neural networks.\n",
    "import tensorflow.keras as keras\n",
    "\n",
    "# Plotting\n",
    "import matplotlib.pyplot as plt"
   ]
  },
  {
   "cell_type": "markdown",
   "metadata": {},
   "source": [
    "### Data Sources\n",
    "\n",
    "Both data sources are available on the NAB Github repository in CSV format. The below code gets the files in raw format that can be then fed into a Pandas dataframe - linking directly to Github will cause issues as HTML will be returned along with the CSV data."
   ]
  },
  {
   "cell_type": "code",
   "execution_count": 2,
   "metadata": {},
   "outputs": [],
   "source": [
    "# Root of URLs.\n",
    "root_url = 'https://raw.githubusercontent.com/numenta/NAB/master/data/'\n",
    "\n",
    "# Data file without anomaly.\n",
    "no_anomaly_url = root_url + 'artificialNoAnomaly/art_daily_small_noise.csv'\n",
    "\n",
    "# Data file with anomaly.\n",
    "with_anomaly_url = root_url + 'artificialWithAnomaly/art_daily_jumpsup.csv'"
   ]
  },
  {
   "cell_type": "markdown",
   "metadata": {},
   "source": [
    "### Pandas Dataframes\n",
    "\n",
    "The below code reads the small_noise dataset and converts it to a Pandas dataframe. The parse_dates parameter allows the timestamp for the measurement to be interpreted as a datetime field, and the index_col paramaterconverts the timestamp column to the index column. "
   ]
  },
  {
   "cell_type": "code",
   "execution_count": 3,
   "metadata": {},
   "outputs": [],
   "source": [
    "# \n",
    "df_small_noise = pd.read_csv(no_anomaly_url, parse_dates=True, index_col=\"timestamp\")"
   ]
  },
  {
   "cell_type": "markdown",
   "metadata": {},
   "source": [
    "Below we can see that the data frame is generated as expected, with the timestamp used as an index column instead of the default column number."
   ]
  },
  {
   "cell_type": "code",
   "execution_count": 4,
   "metadata": {},
   "outputs": [
    {
     "data": {
      "text/html": [
       "<div>\n",
       "<style scoped>\n",
       "    .dataframe tbody tr th:only-of-type {\n",
       "        vertical-align: middle;\n",
       "    }\n",
       "\n",
       "    .dataframe tbody tr th {\n",
       "        vertical-align: top;\n",
       "    }\n",
       "\n",
       "    .dataframe thead th {\n",
       "        text-align: right;\n",
       "    }\n",
       "</style>\n",
       "<table border=\"1\" class=\"dataframe\">\n",
       "  <thead>\n",
       "    <tr style=\"text-align: right;\">\n",
       "      <th></th>\n",
       "      <th>value</th>\n",
       "    </tr>\n",
       "    <tr>\n",
       "      <th>timestamp</th>\n",
       "      <th></th>\n",
       "    </tr>\n",
       "  </thead>\n",
       "  <tbody>\n",
       "    <tr>\n",
       "      <th>2014-04-01 00:00:00</th>\n",
       "      <td>18.324919</td>\n",
       "    </tr>\n",
       "    <tr>\n",
       "      <th>2014-04-01 00:05:00</th>\n",
       "      <td>21.970327</td>\n",
       "    </tr>\n",
       "    <tr>\n",
       "      <th>2014-04-01 00:10:00</th>\n",
       "      <td>18.624806</td>\n",
       "    </tr>\n",
       "    <tr>\n",
       "      <th>2014-04-01 00:15:00</th>\n",
       "      <td>21.953684</td>\n",
       "    </tr>\n",
       "    <tr>\n",
       "      <th>2014-04-01 00:20:00</th>\n",
       "      <td>21.909120</td>\n",
       "    </tr>\n",
       "  </tbody>\n",
       "</table>\n",
       "</div>"
      ],
      "text/plain": [
       "                         value\n",
       "timestamp                     \n",
       "2014-04-01 00:00:00  18.324919\n",
       "2014-04-01 00:05:00  21.970327\n",
       "2014-04-01 00:10:00  18.624806\n",
       "2014-04-01 00:15:00  21.953684\n",
       "2014-04-01 00:20:00  21.909120"
      ]
     },
     "execution_count": 4,
     "metadata": {},
     "output_type": "execute_result"
    }
   ],
   "source": [
    "# \n",
    "df_small_noise.head()"
   ]
  },
  {
   "cell_type": "markdown",
   "metadata": {},
   "source": [
    "Below descriptive statistics are generated for the dataset - in total there are 4032 values counted, which also can be checked by getting the shape of the dataframe. "
   ]
  },
  {
   "cell_type": "code",
   "execution_count": 5,
   "metadata": {},
   "outputs": [
    {
     "data": {
      "text/html": [
       "<div>\n",
       "<style scoped>\n",
       "    .dataframe tbody tr th:only-of-type {\n",
       "        vertical-align: middle;\n",
       "    }\n",
       "\n",
       "    .dataframe tbody tr th {\n",
       "        vertical-align: top;\n",
       "    }\n",
       "\n",
       "    .dataframe thead th {\n",
       "        text-align: right;\n",
       "    }\n",
       "</style>\n",
       "<table border=\"1\" class=\"dataframe\">\n",
       "  <thead>\n",
       "    <tr style=\"text-align: right;\">\n",
       "      <th></th>\n",
       "      <th>value</th>\n",
       "    </tr>\n",
       "  </thead>\n",
       "  <tbody>\n",
       "    <tr>\n",
       "      <th>count</th>\n",
       "      <td>4032.000000</td>\n",
       "    </tr>\n",
       "    <tr>\n",
       "      <th>mean</th>\n",
       "      <td>42.438353</td>\n",
       "    </tr>\n",
       "    <tr>\n",
       "      <th>std</th>\n",
       "      <td>28.077122</td>\n",
       "    </tr>\n",
       "    <tr>\n",
       "      <th>min</th>\n",
       "      <td>18.000964</td>\n",
       "    </tr>\n",
       "    <tr>\n",
       "      <th>25%</th>\n",
       "      <td>19.841390</td>\n",
       "    </tr>\n",
       "    <tr>\n",
       "      <th>50%</th>\n",
       "      <td>21.608487</td>\n",
       "    </tr>\n",
       "    <tr>\n",
       "      <th>75%</th>\n",
       "      <td>75.450282</td>\n",
       "    </tr>\n",
       "    <tr>\n",
       "      <th>max</th>\n",
       "      <td>87.976128</td>\n",
       "    </tr>\n",
       "  </tbody>\n",
       "</table>\n",
       "</div>"
      ],
      "text/plain": [
       "             value\n",
       "count  4032.000000\n",
       "mean     42.438353\n",
       "std      28.077122\n",
       "min      18.000964\n",
       "25%      19.841390\n",
       "50%      21.608487\n",
       "75%      75.450282\n",
       "max      87.976128"
      ]
     },
     "execution_count": 5,
     "metadata": {},
     "output_type": "execute_result"
    }
   ],
   "source": [
    "# \n",
    "df_small_noise.describe()"
   ]
  },
  {
   "cell_type": "code",
   "execution_count": 6,
   "metadata": {},
   "outputs": [
    {
     "data": {
      "text/plain": [
       "(4032, 1)"
      ]
     },
     "execution_count": 6,
     "metadata": {},
     "output_type": "execute_result"
    }
   ],
   "source": [
    "df_small_noise.shape"
   ]
  },
  {
   "cell_type": "markdown",
   "metadata": {},
   "source": [
    "We can also repeat this for the daily_jump_up dataset to see if any significant differences between the two are apparent. "
   ]
  },
  {
   "cell_type": "code",
   "execution_count": 7,
   "metadata": {},
   "outputs": [],
   "source": [
    "df_daily_jumpsup = pd.read_csv(with_anomaly_url, parse_dates=True, index_col=\"timestamp\")"
   ]
  },
  {
   "cell_type": "code",
   "execution_count": 8,
   "metadata": {},
   "outputs": [
    {
     "data": {
      "text/html": [
       "<div>\n",
       "<style scoped>\n",
       "    .dataframe tbody tr th:only-of-type {\n",
       "        vertical-align: middle;\n",
       "    }\n",
       "\n",
       "    .dataframe tbody tr th {\n",
       "        vertical-align: top;\n",
       "    }\n",
       "\n",
       "    .dataframe thead th {\n",
       "        text-align: right;\n",
       "    }\n",
       "</style>\n",
       "<table border=\"1\" class=\"dataframe\">\n",
       "  <thead>\n",
       "    <tr style=\"text-align: right;\">\n",
       "      <th></th>\n",
       "      <th>value</th>\n",
       "    </tr>\n",
       "    <tr>\n",
       "      <th>timestamp</th>\n",
       "      <th></th>\n",
       "    </tr>\n",
       "  </thead>\n",
       "  <tbody>\n",
       "    <tr>\n",
       "      <th>2014-04-01 00:00:00</th>\n",
       "      <td>19.761252</td>\n",
       "    </tr>\n",
       "    <tr>\n",
       "      <th>2014-04-01 00:05:00</th>\n",
       "      <td>20.500833</td>\n",
       "    </tr>\n",
       "    <tr>\n",
       "      <th>2014-04-01 00:10:00</th>\n",
       "      <td>19.961641</td>\n",
       "    </tr>\n",
       "    <tr>\n",
       "      <th>2014-04-01 00:15:00</th>\n",
       "      <td>21.490266</td>\n",
       "    </tr>\n",
       "    <tr>\n",
       "      <th>2014-04-01 00:20:00</th>\n",
       "      <td>20.187739</td>\n",
       "    </tr>\n",
       "  </tbody>\n",
       "</table>\n",
       "</div>"
      ],
      "text/plain": [
       "                         value\n",
       "timestamp                     \n",
       "2014-04-01 00:00:00  19.761252\n",
       "2014-04-01 00:05:00  20.500833\n",
       "2014-04-01 00:10:00  19.961641\n",
       "2014-04-01 00:15:00  21.490266\n",
       "2014-04-01 00:20:00  20.187739"
      ]
     },
     "execution_count": 8,
     "metadata": {},
     "output_type": "execute_result"
    }
   ],
   "source": [
    "df_daily_jumpsup.head()"
   ]
  },
  {
   "cell_type": "code",
   "execution_count": 9,
   "metadata": {},
   "outputs": [
    {
     "data": {
      "text/html": [
       "<div>\n",
       "<style scoped>\n",
       "    .dataframe tbody tr th:only-of-type {\n",
       "        vertical-align: middle;\n",
       "    }\n",
       "\n",
       "    .dataframe tbody tr th {\n",
       "        vertical-align: top;\n",
       "    }\n",
       "\n",
       "    .dataframe thead th {\n",
       "        text-align: right;\n",
       "    }\n",
       "</style>\n",
       "<table border=\"1\" class=\"dataframe\">\n",
       "  <thead>\n",
       "    <tr style=\"text-align: right;\">\n",
       "      <th></th>\n",
       "      <th>value</th>\n",
       "    </tr>\n",
       "  </thead>\n",
       "  <tbody>\n",
       "    <tr>\n",
       "      <th>count</th>\n",
       "      <td>4032.000000</td>\n",
       "    </tr>\n",
       "    <tr>\n",
       "      <th>mean</th>\n",
       "      <td>44.494254</td>\n",
       "    </tr>\n",
       "    <tr>\n",
       "      <th>std</th>\n",
       "      <td>32.432473</td>\n",
       "    </tr>\n",
       "    <tr>\n",
       "      <th>min</th>\n",
       "      <td>18.001010</td>\n",
       "    </tr>\n",
       "    <tr>\n",
       "      <th>25%</th>\n",
       "      <td>19.991382</td>\n",
       "    </tr>\n",
       "    <tr>\n",
       "      <th>50%</th>\n",
       "      <td>21.648503</td>\n",
       "    </tr>\n",
       "    <tr>\n",
       "      <th>75%</th>\n",
       "      <td>76.435943</td>\n",
       "    </tr>\n",
       "    <tr>\n",
       "      <th>max</th>\n",
       "      <td>164.947481</td>\n",
       "    </tr>\n",
       "  </tbody>\n",
       "</table>\n",
       "</div>"
      ],
      "text/plain": [
       "             value\n",
       "count  4032.000000\n",
       "mean     44.494254\n",
       "std      32.432473\n",
       "min      18.001010\n",
       "25%      19.991382\n",
       "50%      21.648503\n",
       "75%      76.435943\n",
       "max     164.947481"
      ]
     },
     "execution_count": 9,
     "metadata": {},
     "output_type": "execute_result"
    }
   ],
   "source": [
    "df_daily_jumpsup.describe()"
   ]
  },
  {
   "cell_type": "code",
   "execution_count": 10,
   "metadata": {},
   "outputs": [
    {
     "data": {
      "text/plain": [
       "(4032, 1)"
      ]
     },
     "execution_count": 10,
     "metadata": {},
     "output_type": "execute_result"
    }
   ],
   "source": [
    "df_daily_jumpsup.shape"
   ]
  },
  {
   "cell_type": "markdown",
   "metadata": {},
   "source": [
    "Based on this initial analysis, we can see the following characteristics for the two datasets:\n",
    "- The same number of observations/measurements exist for both datasets.\n",
    "- The mean value is slightly higher in the daily_jump_up dataset\n",
    "- The values for upper, median and lower quartiles are similar across the two datasets\n",
    "- The max value in the jump_up dataset is twice that of the small_noise dataset - this is likely due to the recorded anomaly in the jump_up data. "
   ]
  },
  {
   "cell_type": "markdown",
   "metadata": {},
   "source": [
    "Below the data from the small_noise dataset is plotted. We can see that the data is relatively uniform, with peaks occurring betwwen 80 and 90 at approximately the same time intervals."
   ]
  },
  {
   "cell_type": "code",
   "execution_count": 11,
   "metadata": {},
   "outputs": [
    {
     "data": {
      "image/png": "[encoded data removed]",
      "text/plain": [
       "<Figure size 720x288 with 1 Axes>"
      ]
     },
     "metadata": {
      "needs_background": "light"
     },
     "output_type": "display_data"
    }
   ],
   "source": [
    "fig, ax = plt.subplots(figsize=(10,4))\n",
    "\n",
    "# Use pandas to plot data frame.\n",
    "df_small_noise.plot(legend=False, ax=ax, color=\"#89eb34\");\n",
    "ax.set_title(\"Data Set without Anomalies\");"
   ]
  },
  {
   "cell_type": "code",
   "execution_count": 12,
   "metadata": {},
   "outputs": [
    {
     "data": {
      "image/png": "[encoded data removed]",
      "text/plain": [
       "<Figure size 720x288 with 1 Axes>"
      ]
     },
     "metadata": {
      "needs_background": "light"
     },
     "output_type": "display_data"
    }
   ],
   "source": [
    "# \n",
    "fig, ax = plt.subplots(figsize=(10,4))\n",
    "\n",
    "# Use pandas to plot data frame.\n",
    "df_daily_jumpsup.plot(legend=False, ax=ax, color = \"#cf2141\");\n",
    "ax.set_title(\"Data Set with Anomalies\");"
   ]
  },
  {
   "cell_type": "markdown",
   "metadata": {},
   "source": [
    "We can see the data distribution is very similar to that of the first dataset, except for one measurement that reaches approximately 160."
   ]
  },
  {
   "cell_type": "markdown",
   "metadata": {},
   "source": [
    "## Preprocessing\n",
    "***"
   ]
  },
  {
   "cell_type": "markdown",
   "metadata": {},
   "source": [
    "### Data Normalization\n",
    "\n",
    "Once both datasets have been converted to Pandas dataframes, the next step is to normalize the data.\n",
    "\n",
    "Data is normalized by subtracting each value in the dataset from the mean, and dividing the result by the standard deviation. The main benefit of normalizing input data for neural networks is that it simplifies the traning process. For data that has not undergone this step, numerical ranges of different features may differ significantly. For example, a machine learning application that predicts house prices may consider different numerical factors, such as age of the house or square footage. In this scenario, the potential ranges for these two variables would be very different. House ages may be in the range of 0 to 25, while square footage may vary between 100 and 500 m<sup>2</sup>. If this data was given to the algorithm in its unnormalized form, the rate of convergence for the neural network will be adversely affected. Convergence is the stage at which no further improvements or changes to the model are expected. It is the point at which the learning rate decreases and the cost for the algorithm reaches its minimum value. If the input datasets are all on the same scale (normalized, generally between -1 and 1), the time taken to reach the point of convergence is signficantly reduced.\n",
    "\n",
    "Below, the small noise data set is normalized, and the normalized data is added to a new column in the dataframe called df_train_vals.\n",
    "\n",
    "First, the mean and standard deviation values are obtained."
   ]
  },
  {
   "cell_type": "code",
   "execution_count": 13,
   "metadata": {},
   "outputs": [
    {
     "data": {
      "text/plain": [
       "value    42.438353\n",
       "dtype: float64"
      ]
     },
     "execution_count": 13,
     "metadata": {},
     "output_type": "execute_result"
    }
   ],
   "source": [
    "# \n",
    "train_mean = df_small_noise.mean()\n",
    "\n",
    "train_mean"
   ]
  },
  {
   "cell_type": "code",
   "execution_count": 14,
   "metadata": {},
   "outputs": [
    {
     "data": {
      "text/plain": [
       "value    28.077122\n",
       "dtype: float64"
      ]
     },
     "execution_count": 14,
     "metadata": {},
     "output_type": "execute_result"
    }
   ],
   "source": [
    "# \n",
    "train_std = df_small_noise.std()\n",
    "\n",
    "train_std"
   ]
  },
  {
   "cell_type": "markdown",
   "metadata": {},
   "source": [
    "Next, the mean is subtracted from each datapoint, and the result divided by the standard deviation. This is saved to a new column, df_train_vals. These values will be used to train the anomaly detection algorithm."
   ]
  },
  {
   "cell_type": "code",
   "execution_count": 15,
   "metadata": {},
   "outputs": [],
   "source": [
    "df_train_vals = (df_small_noise - train_mean) / train_std"
   ]
  },
  {
   "cell_type": "code",
   "execution_count": 16,
   "metadata": {},
   "outputs": [
    {
     "data": {
      "text/html": [
       "<div>\n",
       "<style scoped>\n",
       "    .dataframe tbody tr th:only-of-type {\n",
       "        vertical-align: middle;\n",
       "    }\n",
       "\n",
       "    .dataframe tbody tr th {\n",
       "        vertical-align: top;\n",
       "    }\n",
       "\n",
       "    .dataframe thead th {\n",
       "        text-align: right;\n",
       "    }\n",
       "</style>\n",
       "<table border=\"1\" class=\"dataframe\">\n",
       "  <thead>\n",
       "    <tr style=\"text-align: right;\">\n",
       "      <th></th>\n",
       "      <th>value</th>\n",
       "    </tr>\n",
       "    <tr>\n",
       "      <th>timestamp</th>\n",
       "      <th></th>\n",
       "    </tr>\n",
       "  </thead>\n",
       "  <tbody>\n",
       "    <tr>\n",
       "      <th>2014-04-01 00:00:00</th>\n",
       "      <td>-0.858829</td>\n",
       "    </tr>\n",
       "    <tr>\n",
       "      <th>2014-04-01 00:05:00</th>\n",
       "      <td>-0.728993</td>\n",
       "    </tr>\n",
       "    <tr>\n",
       "      <th>2014-04-01 00:10:00</th>\n",
       "      <td>-0.848148</td>\n",
       "    </tr>\n",
       "    <tr>\n",
       "      <th>2014-04-01 00:15:00</th>\n",
       "      <td>-0.729586</td>\n",
       "    </tr>\n",
       "    <tr>\n",
       "      <th>2014-04-01 00:20:00</th>\n",
       "      <td>-0.731173</td>\n",
       "    </tr>\n",
       "  </tbody>\n",
       "</table>\n",
       "</div>"
      ],
      "text/plain": [
       "                        value\n",
       "timestamp                    \n",
       "2014-04-01 00:00:00 -0.858829\n",
       "2014-04-01 00:05:00 -0.728993\n",
       "2014-04-01 00:10:00 -0.848148\n",
       "2014-04-01 00:15:00 -0.729586\n",
       "2014-04-01 00:20:00 -0.731173"
      ]
     },
     "execution_count": 16,
     "metadata": {},
     "output_type": "execute_result"
    }
   ],
   "source": [
    "# Sanity check for training data\n",
    "df_train_vals.head()"
   ]
  },
  {
   "cell_type": "markdown",
   "metadata": {},
   "source": [
    "The below code divides the steps of the normalization process into thir own dataframe columns: less_mean and div_std. Then the mean and standard deviation values are compared for each preprocessing step: unprocessed data, subtracted mean, and divided by the standard deviation."
   ]
  },
  {
   "cell_type": "code",
   "execution_count": 17,
   "metadata": {},
   "outputs": [],
   "source": [
    "# For each value - subtract mean and add to new column. Then divide result by standard deviation and add to column\n",
    "df_small_noise['less_mean'] = df_small_noise['value'] - df_small_noise['value'].mean()\n",
    "df_small_noise['div_std'] = df_small_noise['less_mean'] / df_small_noise['value'].std()"
   ]
  },
  {
   "cell_type": "code",
   "execution_count": 18,
   "metadata": {},
   "outputs": [
    {
     "data": {
      "text/html": [
       "<div>\n",
       "<style scoped>\n",
       "    .dataframe tbody tr th:only-of-type {\n",
       "        vertical-align: middle;\n",
       "    }\n",
       "\n",
       "    .dataframe tbody tr th {\n",
       "        vertical-align: top;\n",
       "    }\n",
       "\n",
       "    .dataframe thead th {\n",
       "        text-align: right;\n",
       "    }\n",
       "</style>\n",
       "<table border=\"1\" class=\"dataframe\">\n",
       "  <thead>\n",
       "    <tr style=\"text-align: right;\">\n",
       "      <th></th>\n",
       "      <th>value</th>\n",
       "      <th>less_mean</th>\n",
       "      <th>div_std</th>\n",
       "    </tr>\n",
       "    <tr>\n",
       "      <th>timestamp</th>\n",
       "      <th></th>\n",
       "      <th></th>\n",
       "      <th></th>\n",
       "    </tr>\n",
       "  </thead>\n",
       "  <tbody>\n",
       "    <tr>\n",
       "      <th>2014-04-01 00:00:00</th>\n",
       "      <td>18.324919</td>\n",
       "      <td>-24.113435</td>\n",
       "      <td>-0.858829</td>\n",
       "    </tr>\n",
       "    <tr>\n",
       "      <th>2014-04-01 00:05:00</th>\n",
       "      <td>21.970327</td>\n",
       "      <td>-20.468026</td>\n",
       "      <td>-0.728993</td>\n",
       "    </tr>\n",
       "    <tr>\n",
       "      <th>2014-04-01 00:10:00</th>\n",
       "      <td>18.624806</td>\n",
       "      <td>-23.813547</td>\n",
       "      <td>-0.848148</td>\n",
       "    </tr>\n",
       "    <tr>\n",
       "      <th>2014-04-01 00:15:00</th>\n",
       "      <td>21.953684</td>\n",
       "      <td>-20.484669</td>\n",
       "      <td>-0.729586</td>\n",
       "    </tr>\n",
       "    <tr>\n",
       "      <th>2014-04-01 00:20:00</th>\n",
       "      <td>21.909120</td>\n",
       "      <td>-20.529234</td>\n",
       "      <td>-0.731173</td>\n",
       "    </tr>\n",
       "    <tr>\n",
       "      <th>...</th>\n",
       "      <td>...</td>\n",
       "      <td>...</td>\n",
       "      <td>...</td>\n",
       "    </tr>\n",
       "    <tr>\n",
       "      <th>2014-04-14 23:35:00</th>\n",
       "      <td>20.211195</td>\n",
       "      <td>-22.227159</td>\n",
       "      <td>-0.791647</td>\n",
       "    </tr>\n",
       "    <tr>\n",
       "      <th>2014-04-14 23:40:00</th>\n",
       "      <td>20.531041</td>\n",
       "      <td>-21.907313</td>\n",
       "      <td>-0.780255</td>\n",
       "    </tr>\n",
       "    <tr>\n",
       "      <th>2014-04-14 23:45:00</th>\n",
       "      <td>19.032127</td>\n",
       "      <td>-23.406226</td>\n",
       "      <td>-0.833640</td>\n",
       "    </tr>\n",
       "    <tr>\n",
       "      <th>2014-04-14 23:50:00</th>\n",
       "      <td>21.798801</td>\n",
       "      <td>-20.639552</td>\n",
       "      <td>-0.735102</td>\n",
       "    </tr>\n",
       "    <tr>\n",
       "      <th>2014-04-14 23:55:00</th>\n",
       "      <td>18.682620</td>\n",
       "      <td>-23.755733</td>\n",
       "      <td>-0.846089</td>\n",
       "    </tr>\n",
       "  </tbody>\n",
       "</table>\n",
       "<p>4032 rows × 3 columns</p>\n",
       "</div>"
      ],
      "text/plain": [
       "                         value  less_mean   div_std\n",
       "timestamp                                          \n",
       "2014-04-01 00:00:00  18.324919 -24.113435 -0.858829\n",
       "2014-04-01 00:05:00  21.970327 -20.468026 -0.728993\n",
       "2014-04-01 00:10:00  18.624806 -23.813547 -0.848148\n",
       "2014-04-01 00:15:00  21.953684 -20.484669 -0.729586\n",
       "2014-04-01 00:20:00  21.909120 -20.529234 -0.731173\n",
       "...                        ...        ...       ...\n",
       "2014-04-14 23:35:00  20.211195 -22.227159 -0.791647\n",
       "2014-04-14 23:40:00  20.531041 -21.907313 -0.780255\n",
       "2014-04-14 23:45:00  19.032127 -23.406226 -0.833640\n",
       "2014-04-14 23:50:00  21.798801 -20.639552 -0.735102\n",
       "2014-04-14 23:55:00  18.682620 -23.755733 -0.846089\n",
       "\n",
       "[4032 rows x 3 columns]"
      ]
     },
     "execution_count": 18,
     "metadata": {},
     "output_type": "execute_result"
    }
   ],
   "source": [
    "#Sanity Check\n",
    "df_small_noise"
   ]
  },
  {
   "cell_type": "markdown",
   "metadata": {},
   "source": [
    "The dataframe sample printed above shows the majority of datapoints are between 18 and 20, becoming negative once the mean has been subtracted. When the result is divided by the standard deviation, the values range between 0.7 and 0.9. Therefore, the potential range of values is reduced significantly. \n",
    "\n",
    "Below, the mean and standard deviation values are compared at each preprocessing stage. The standard deviations are almost the same for steps one and two, but at step three (less_mean/standard deviation) the value is much lower, showing that the spread of values has been significantly reduced as a result of preprocessing."
   ]
  },
  {
   "cell_type": "code",
   "execution_count": 19,
   "metadata": {},
   "outputs": [
    {
     "data": {
      "text/plain": [
       "(42.438353335806646, -7.342627387941552e-14, -2.616541242931684e-15)"
      ]
     },
     "execution_count": 19,
     "metadata": {},
     "output_type": "execute_result"
    }
   ],
   "source": [
    "df_small_noise['value'].mean(), df_small_noise['less_mean'].mean(), df_small_noise['div_std'].mean()"
   ]
  },
  {
   "cell_type": "code",
   "execution_count": 20,
   "metadata": {},
   "outputs": [
    {
     "data": {
      "text/plain": [
       "(28.077122281262515, 28.077122281262508, 1.0000000000000018)"
      ]
     },
     "execution_count": 20,
     "metadata": {},
     "output_type": "execute_result"
    }
   ],
   "source": [
    "df_small_noise['value'].std(), df_small_noise['less_mean'].std(), df_small_noise['div_std'].std()"
   ]
  },
  {
   "cell_type": "markdown",
   "metadata": {},
   "source": [
    "Below the preprocessed data is plotted. Before normalization values for the dataset ranged between 20 and 90. Now the range is between -0.25 and 1.5, while the structure of the data has remained the same as the plot shows."
   ]
  },
  {
   "cell_type": "code",
   "execution_count": 21,
   "metadata": {},
   "outputs": [
    {
     "data": {
      "image/png": "[encoded data removed]",
      "text/plain": [
       "<Figure size 720x288 with 1 Axes>"
      ]
     },
     "metadata": {
      "needs_background": "light"
     },
     "output_type": "display_data"
    }
   ],
   "source": [
    "# \n",
    "fig, ax = plt.subplots(figsize=(10,4))\n",
    "\n",
    "# Use pandas to plot data frame.\n",
    "df_train_vals.plot(legend=False, ax=ax, color=\"#89eb34\");\n",
    "ax.set_title(\"Normalized Data - Daily Small Noise\");"
   ]
  },
  {
   "cell_type": "markdown",
   "metadata": {},
   "source": [
    "### Time Steps/Windows\n",
    "\n",
    "The next step is to divide the data set into windows or time steps. In neural networks, windows represent the number of units (seconds,minutes,hours,days etc) that are used to predict future steps. For example, if creating a neural network to predict hourly stock market changes, one hour could be considered a single timestep.\n",
    "\n",
    "Our dataset can be divided into daily timesteps, each consisting of 288 recorded datapoints, as calculated below:"
   ]
  },
  {
   "cell_type": "code",
   "execution_count": 22,
   "metadata": {},
   "outputs": [
    {
     "name": "stdout",
     "output_type": "stream",
     "text": [
      "Total recorded values per day : 288\n",
      "Total recorded values: 4032\n"
     ]
    }
   ],
   "source": [
    "#Get total datapoints in one day by getting total minutes in 1 day and dividing by 5\n",
    "# As we have one data point for every 5 minutes\n",
    "mins_day = 24 * 60\n",
    "samples_day = int(mins_day/5)\n",
    "print(\"Total recorded values per day : {}\".format(samples_day))\n",
    "\n",
    "#14 days of data in df - need to multiply daily values by 14\n",
    "print(\"Total recorded values: {}\".format(samples_day * 14))"
   ]
  },
  {
   "cell_type": "markdown",
   "metadata": {},
   "source": [
    "As seen above, our dataset consists of one dimension/column with 4032 values, and the window size is 288. "
   ]
  },
  {
   "cell_type": "code",
   "execution_count": 23,
   "metadata": {},
   "outputs": [],
   "source": [
    "# Variable to hold window size, this will be required to iterate through training data\n",
    "window_size = 288"
   ]
  },
  {
   "cell_type": "markdown",
   "metadata": {},
   "source": [
    "### Window Example\n",
    "\n",
    "The windows will be used to structure how data is passed to the neural network. In the case of this dataset, the datapoints will be passed in batches of 288, so the network will learn the typical pattern of recorded values for one 24-hour period. The entire dataset will be iterated through,with a new window created for each datapoint.\n",
    "\n",
    "The below code illustrates how the windows concept works with a smaller array.\n",
    "\n",
    "#### Step 1: Initialize Array and Define Windows\n",
    "\n",
    "First, an array of size 14 is defined. The windows for this array will consist of three elements each."
   ]
  },
  {
   "cell_type": "code",
   "execution_count": 24,
   "metadata": {},
   "outputs": [
    {
     "data": {
      "text/plain": [
       "14"
      ]
     },
     "execution_count": 24,
     "metadata": {},
     "output_type": "execute_result"
    }
   ],
   "source": [
    "# Window list example.\n",
    "L = [1, 1, 2, 4, 5, 6, 7,4,5, 1, 2, 3, 4, 5]\n",
    "# Example window size.\n",
    "win_size = 3\n",
    "# Length of L.\n",
    "len(L)"
   ]
  },
  {
   "cell_type": "markdown",
   "metadata": {},
   "source": [
    "#### Step 2: Create Windows\n",
    "\n",
    "The next step is to iterate through the array L and create windows of 3: the current element in the loop should be the first element in the window, and the next two elements should be those to its right.\n",
    "\n",
    "It will not be possible to create a new window for the last two elements, as they do not have two elements to their right. Therefore, we can calculate the number of windows required by subtracting 1 from the win_size variable and subtracting this from the length of our array."
   ]
  },
  {
   "cell_type": "code",
   "execution_count": 25,
   "metadata": {},
   "outputs": [
    {
     "data": {
      "text/plain": [
       "12"
      ]
     },
     "execution_count": 25,
     "metadata": {},
     "output_type": "execute_result"
    }
   ],
   "source": [
    "# Number of windows from L.\n",
    "len(L) - (win_size - 1)"
   ]
  },
  {
   "cell_type": "code",
   "execution_count": 26,
   "metadata": {},
   "outputs": [
    {
     "data": {
      "text/plain": [
       "12"
      ]
     },
     "execution_count": 26,
     "metadata": {},
     "output_type": "execute_result"
    }
   ],
   "source": [
    "# Remove brackets.\n",
    "len(L) - win_size + 1"
   ]
  },
  {
   "cell_type": "markdown",
   "metadata": {},
   "source": [
    "The below code generates and prints the windows. For each iteration, the current element along with the two values to its right are printed."
   ]
  },
  {
   "cell_type": "code",
   "execution_count": 27,
   "metadata": {},
   "outputs": [
    {
     "name": "stdout",
     "output_type": "stream",
     "text": [
      "[1, 1, 2]\n",
      "[1, 2, 4]\n",
      "[2, 4, 5]\n",
      "[4, 5, 6]\n",
      "[5, 6, 7]\n",
      "[6, 7, 4]\n",
      "[7, 4, 5]\n",
      "[4, 5, 1]\n",
      "[5, 1, 2]\n",
      "[1, 2, 3]\n",
      "[2, 3, 4]\n",
      "[3, 4, 5]\n",
      "Total Windows : 12\n"
     ]
    }
   ],
   "source": [
    "# Print the windows.\n",
    "count = 0\n",
    "for i in range(len(L) - win_size + 1):\n",
    "    count += 1\n",
    "    print(L[i:i + win_size])\n",
    "print(\"Total Windows : {}\".format(count))"
   ]
  },
  {
   "cell_type": "markdown",
   "metadata": {},
   "source": [
    "Note what happens when we attempt to print windows for each element in the array. Instead of 12 windows, 11 are returned: the window for the last full set of three (2,3,4) is printed and the last two elements are skipped."
   ]
  },
  {
   "cell_type": "code",
   "execution_count": 28,
   "metadata": {},
   "outputs": [
    {
     "name": "stdout",
     "output_type": "stream",
     "text": [
      "[1, 1, 2]\n",
      "[1, 2, 4]\n",
      "[2, 4, 5]\n",
      "[4, 5, 6]\n",
      "[5, 6, 7]\n",
      "[6, 7, 4]\n",
      "[7, 4, 5]\n",
      "[4, 5, 1]\n",
      "[5, 1, 2]\n",
      "[1, 2, 3]\n",
      "[2, 3, 4]\n",
      "Total Windows : 11\n"
     ]
    }
   ],
   "source": [
    "count = 0\n",
    "for i in range(len(L) - win_size):\n",
    "    count += 1\n",
    "    print(L[i:i + win_size])\n",
    "print(\"Total Windows : {}\".format(count))"
   ]
  },
  {
   "cell_type": "markdown",
   "metadata": {},
   "source": [
    "Next, the windows are appended to an empty array."
   ]
  },
  {
   "cell_type": "code",
   "execution_count": 29,
   "metadata": {
    "scrolled": true
   },
   "outputs": [
    {
     "data": {
      "text/plain": [
       "[[1, 1, 2],\n",
       " [1, 2, 4],\n",
       " [2, 4, 5],\n",
       " [4, 5, 6],\n",
       " [5, 6, 7],\n",
       " [6, 7, 4],\n",
       " [7, 4, 5],\n",
       " [4, 5, 1],\n",
       " [5, 1, 2],\n",
       " [1, 2, 3],\n",
       " [2, 3, 4]]"
      ]
     },
     "execution_count": 29,
     "metadata": {},
     "output_type": "execute_result"
    }
   ],
   "source": [
    "# For accumulating the windows.\n",
    "wins = []\n",
    "\n",
    "# Generate the windows\n",
    "for i in range(len(L) - win_size):\n",
    "    wins.append(L[i:i + win_size])\n",
    "\n",
    "wins"
   ]
  },
  {
   "cell_type": "markdown",
   "metadata": {},
   "source": [
    "#### Step 3 : Create 2D Array from windows\n",
    "\n",
    "The next step is to create a 2D NumPy array from the windows array, as this format is required when passing input data to the Keras model creation functions later."
   ]
  },
  {
   "cell_type": "code",
   "execution_count": 30,
   "metadata": {},
   "outputs": [
    {
     "data": {
      "text/plain": [
       "array([[1, 1, 2],\n",
       "       [1, 2, 4],\n",
       "       [2, 4, 5],\n",
       "       [4, 5, 6],\n",
       "       [5, 6, 7],\n",
       "       [6, 7, 4],\n",
       "       [7, 4, 5],\n",
       "       [4, 5, 1],\n",
       "       [5, 1, 2],\n",
       "       [1, 2, 3],\n",
       "       [2, 3, 4]])"
      ]
     },
     "execution_count": 30,
     "metadata": {},
     "output_type": "execute_result"
    }
   ],
   "source": [
    "# Create a 2D numpy array from wins.\n",
    "np.stack(wins)"
   ]
  },
  {
   "cell_type": "markdown",
   "metadata": {},
   "source": [
    "#### Step 4: Repeat to create windows for NAB Dataset\n",
    "\n",
    "Below, the steps detailed in the previous sections are repeated to create windows from the NAB small_noise dataset.\n",
    "\n",
    "The function takes two parameters, the array to be processed and the window size. It loops through each element in the array and creates a window, stopping at the last element from which a full window of 288 elements can be created. The resulting data is then converted to a 2-dimensional NumPy array."
   ]
  },
  {
   "cell_type": "code",
   "execution_count": 31,
   "metadata": {},
   "outputs": [],
   "source": [
    "\n",
    "def windows(vals, N=window_size):\n",
    "  # Initialize array to hold values\n",
    "  L = []\n",
    "  # Loop through data\n",
    "  for i in range(len(vals) - N + 1):\n",
    "    # Create new window and add to array\n",
    "    L.append(vals[i:i+N])\n",
    "  # Stack\n",
    "  return np.stack(L)"
   ]
  },
  {
   "cell_type": "markdown",
   "metadata": {},
   "source": [
    "Below, the preprocessed data (subtracted mean,divided by standard deviation) is passed to the function. The output is a 2D array, consisting of 3745 windows of 288 data points each. The window count goes up to 3745 as this is the last element with 287 elements to its right."
   ]
  },
  {
   "cell_type": "code",
   "execution_count": 32,
   "metadata": {
    "scrolled": false
   },
   "outputs": [
    {
     "name": "stdout",
     "output_type": "stream",
     "text": [
      "Total Windows : 3745\n",
      "Elements per Window : 288\n",
      "287\n"
     ]
    }
   ],
   "source": [
    "\n",
    "x_train= windows(df_train_vals);\n",
    "print(\"Total Windows : {}\".format(x_train.shape[0]))\n",
    "print(\"Elements per Window : {}\".format(x_train.shape[1]))\n",
    "\n",
    "#Subtract total windows from total values in data set, \n",
    "#expecting that last window is created for last element with 287 values after it, i.e. full window\n",
    "print(4032-3745)"
   ]
  },
  {
   "cell_type": "markdown",
   "metadata": {},
   "source": [
    "#### Step 5: Plot X Train Dataset\n",
    "\n",
    "The final preprocessing step is to conduct some sanity checks on the x-train data and visualize the dataset with a plot.\n",
    "\n",
    "##### Sanity Check"
   ]
  },
  {
   "cell_type": "code",
   "execution_count": 33,
   "metadata": {},
   "outputs": [
    {
     "data": {
      "text/plain": [
       "(array([-0.85882857]), array([-0.8460886]))"
      ]
     },
     "execution_count": 33,
     "metadata": {},
     "output_type": "execute_result"
    }
   ],
   "source": [
    "# Get the first and last datapoint in first and last windows\n",
    "# Last : Window 3744, element at index 287\n",
    "\n",
    "x_train[0][0], x_train[-1][-1]"
   ]
  },
  {
   "cell_type": "code",
   "execution_count": 34,
   "metadata": {},
   "outputs": [
    {
     "data": {
      "text/plain": [
       "(value   -0.858829\n",
       " Name: 2014-04-01 00:00:00, dtype: float64,\n",
       " value   -0.846089\n",
       " Name: 2014-04-14 23:55:00, dtype: float64)"
      ]
     },
     "execution_count": 34,
     "metadata": {},
     "output_type": "execute_result"
    }
   ],
   "source": [
    "# Get first and last element of original dataset, ensure they match\n",
    "df_train_vals.iloc[0], df_train_vals.iloc[-1]"
   ]
  },
  {
   "cell_type": "markdown",
   "metadata": {},
   "source": [
    "Based on the above, we can conclude all data points in the original training dataframe have been copied to the x_train array, as the first and last values in both are consistent."
   ]
  },
  {
   "cell_type": "markdown",
   "metadata": {},
   "source": [
    "##### Plot\n",
    "\n",
    "Next, the full training dataset is plotted (values and cumulative counts).  \n",
    "\n",
    "The first and last windows will be plotted in different colours to illustrate the distribution of values over a full day.\n",
    "\n",
    "As mentioned above, a 2D Numpy array is required as input to the Keras modelling function. However, we require the windows to be one-dimensional for use in plotting. This can be achieved using the numpy flatten method. "
   ]
  },
  {
   "cell_type": "code",
   "execution_count": 35,
   "metadata": {},
   "outputs": [
    {
     "data": {
      "text/plain": [
       "array([-0.85882857, -0.72899302, -0.84814772, -0.72958579, -0.731173  ,\n",
       "       -0.75730984, -0.77645641, -0.7880838 , -0.747012  , -0.829166  ,\n",
       "       -0.80377285, -0.7821597 , -0.81182078, -0.80949918, -0.82334701,\n",
       "       -0.79001779, -0.74922405, -0.84169024, -0.73727717, -0.77223023,\n",
       "       -0.75311352, -0.79116337, -0.75934728, -0.86809294, -0.75381057,\n",
       "       -0.86468256, -0.74361965, -0.72908121, -0.82850668, -0.84043795,\n",
       "       -0.76136364, -0.8343536 , -0.74708881, -0.85574949, -0.85245676,\n",
       "       -0.73090636, -0.77440264, -0.74974936, -0.82419543, -0.77402585,\n",
       "       -0.78574242, -0.7844733 , -0.77316412, -0.78843253, -0.80927467,\n",
       "       -0.83109167, -0.76090519, -0.83816509, -0.77176485, -0.83715923,\n",
       "       -0.78131343, -0.76396862, -0.83924191, -0.86186112, -0.85174179,\n",
       "       -0.78406773, -0.74938477, -0.86399047, -0.76581026, -0.82177506,\n",
       "       -0.80222751, -0.73807119, -0.82310669, -0.80410682, -0.86845167,\n",
       "       -0.85877599, -0.83356075, -0.86643297, -0.78045221, -0.8096542 ,\n",
       "       -0.79230956, -0.84551986, -0.82824105, -0.77582935, -0.73287933,\n",
       "       -0.86321832, -0.74355256, -0.7882157 , -0.79006227, -0.79912888,\n",
       "       -0.86051472, -0.85759665, -0.78479216, -0.82182635, -0.73972257,\n",
       "       -0.81247611, -0.84998837, -0.76857869, -0.82860841, -0.79553994,\n",
       "       -0.77098436, -0.74214503, -0.75754161, -0.77404332, -0.77357716,\n",
       "       -0.73564002, -0.82825643, -0.8702425 , -0.83165699, -0.83935909,\n",
       "       -0.77611284, -0.78011937, -0.78585361, -0.86808681, -0.76657575,\n",
       "       -0.82430925, -0.7756539 , -0.79110813,  0.83423034,  0.73340436,\n",
       "        0.71395293,  1.07098925,  1.11307181,  0.98296271,  0.71831972,\n",
       "        0.86295228,  1.02130195,  1.04594803,  0.72548104,  0.66823317,\n",
       "        1.36958529,  1.17305538,  1.11661005,  0.98307138,  1.27459976,\n",
       "        1.44642694,  1.50528567,  1.28866513,  1.26031743,  1.02295817,\n",
       "        1.27933882,  1.18598059,  1.3813925 ,  1.25767699,  1.1736019 ,\n",
       "        1.09127902,  1.21586925,  1.09223039,  1.13768838,  1.59675342,\n",
       "        1.28904484,  1.33876025,  1.53233922,  1.60141677,  1.38146244,\n",
       "        1.51223576,  1.23588256,  1.22381772,  1.2790048 ,  1.43257027,\n",
       "        1.43808241,  1.22922231,  1.12561563,  1.40974009,  1.12283575,\n",
       "        1.37905941,  1.44731563,  1.45141157,  1.48152744,  1.54954504,\n",
       "        1.33709539,  1.46829683,  1.4050141 ,  1.15859057,  1.06689361,\n",
       "        1.21436719,  1.30466379,  1.40383661,  1.53708371,  1.16457702,\n",
       "        1.12429225,  1.60177134,  1.11431721,  1.32540935,  1.38642273,\n",
       "        1.36124227,  1.10177385,  1.08524575,  1.1128578 ,  1.38643638,\n",
       "        1.36304532,  1.18604649,  1.41628631,  1.52016681,  1.07654239,\n",
       "        1.33670957,  1.44565443,  1.19662931,  1.22823281,  1.40253218,\n",
       "        1.56454005,  1.51438674,  1.38516952,  1.46899077,  1.26076513,\n",
       "        1.41812743,  1.31852542,  1.16110478,  1.45275926,  1.36997393,\n",
       "        1.25723151,  1.57220199,  1.06479764,  1.23281399,  1.08528647,\n",
       "        1.48968441,  1.45297419,  1.24169607,  1.43790453,  1.2785004 ,\n",
       "        1.48382995,  1.31169265,  1.28781332,  1.58553613,  1.19583776,\n",
       "        1.12151008, -0.35250349, -0.26479567, -0.39962031, -0.47160544,\n",
       "       -0.40840388, -0.37042247, -0.44883702, -0.33573617, -0.25831579,\n",
       "       -0.38277522, -0.40488824, -0.39440839, -0.77509723, -0.65253443,\n",
       "       -0.72728022, -0.73167631, -0.6882095 , -0.72293893, -0.69003755,\n",
       "       -0.78366561, -0.6636319 , -0.64340272, -0.68995268, -0.64115899,\n",
       "       -0.83292321, -0.78536741, -0.76722084, -0.77014874, -0.79644794,\n",
       "       -0.80569367, -0.83651316, -0.79786583, -0.83128515, -0.74788262,\n",
       "       -0.82454968, -0.84647101, -0.78825327, -0.78211741, -0.74251058,\n",
       "       -0.7847296 , -0.8178686 , -0.75237369, -0.78998354, -0.85597483,\n",
       "       -0.78632299, -0.73734213, -0.81059211, -0.82490508, -0.84932652,\n",
       "       -0.84818912, -0.80807162, -0.78484064, -0.8582896 , -0.73580158,\n",
       "       -0.76210229, -0.78613203, -0.75164888, -0.85835073, -0.80178754,\n",
       "       -0.77993325, -0.75220135, -0.75863962, -0.83079766, -0.73620985,\n",
       "       -0.85255954, -0.74557822, -0.73192653, -0.84503486, -0.76738913,\n",
       "       -0.86453747, -0.81250829, -0.79671155])"
      ]
     },
     "execution_count": 35,
     "metadata": {},
     "output_type": "execute_result"
    }
   ],
   "source": [
    "# \n",
    "x_train[0].flatten()"
   ]
  },
  {
   "cell_type": "code",
   "execution_count": 36,
   "metadata": {},
   "outputs": [
    {
     "data": {
      "image/png": "[encoded data removed]",
      "text/plain": [
       "<Figure size 1152x432 with 1 Axes>"
      ]
     },
     "metadata": {
      "needs_background": "light"
     },
     "output_type": "display_data"
    }
   ],
   "source": [
    "# Index for first and last window starting points\n",
    "first_window = 0\n",
    "last_window = 3744\n",
    "\n",
    "# Generate Plot\n",
    "fig, ax = plt.subplots(figsize=(16, 6))\n",
    "\n",
    "# Y axis - processed values in data frame\n",
    "y = df_train_vals['value'].values\n",
    "\n",
    "# Plot data - x axis represents cumulative value counts - 0 - 4032\n",
    "ax.plot(np.arange(y.shape[0]), y, label='signal')\n",
    "\n",
    "# Get elems for first and last window, flatten them so they can be plotted\n",
    "w = x_train[first_window].flatten()\n",
    "w2 = x_train[last_window].flatten()\n",
    "\n",
    "# Plot first and last windows\n",
    "# Starting point on x axis - first element in window \n",
    "# Length - 288\n",
    "ax.plot(np.arange(w.shape[0]) + first_window, w, label='First')\n",
    "ax.plot(np.arange(w2.shape[0]) + last_window, w, label='Last')\n",
    "\n",
    "ax.legend(loc = \"upper right\");\n",
    "\n",
    "ax.set_title(\"Training Data with First and Last Windows\");"
   ]
  },
  {
   "cell_type": "markdown",
   "metadata": {},
   "source": [
    "## Neural Network\n",
    "\n",
    "***"
   ]
  },
  {
   "cell_type": "markdown",
   "metadata": {},
   "source": [
    "#### Type of Neural Network : Convolutional Reconstruction Autoencoder\n",
    "\n",
    "The model created to reconstruct our data set is a convolutional reconstruction autoencoder.\n",
    "This means that the neural network contains specialized layers called convolutional layers, which are intended to identify patterns in data. They receive input, transform it and output the transformed data to the next layer.\n",
    "\n",
    "\n",
    "A Reconstruction Autoencoder model is trained to copy its input to its output. A frequent use case for this type of model is image reconstruction; for example, given an image of a handwritten digit, the autoencoder converts the image to a lower-level compressed representation, then decodes this representation back to an image, while minimizing reconstruction error. In our case, the autoencoder model is being trained to recognize and recreate daily patterns in our dataset.\n",
    "\n",
    "##### Keras Keywords for  Layer Creation\n",
    "\n",
    "- **Input**: This is the input layer, which takes input of shape (batch_size, sequence_length, features).The sequence_length is set to 288, which is our total number of samples per day, and features is set to 1, as we only are dealing with one data point. The output of the model should have the same shape as the input.\n",
    "\n",
    "\n",
    "- **Convolutional Layers**: As mentioned above, the convolutional layers apply a convolutional operation to the input data,and the result is supplied as input to the next layer.\n",
    "    - **Filter and Kernel Size**: The input data is transformed by filters, which act like sliding windows over the data set; each window works independently on the data set. Kernel size corresponds to the size of the window; therefore, our first layer consists of 32 filters of size 7, and the second layer consists of 16. \n",
    "    - **Padding**: The padding parameter is set to \"same\" in our model, meaning that the output will be padded with 0s to ensure it has the same size as the input.\n",
    "    - **Strides**: The stride is the step size as the filter moves across the dataset, i.e. two elements to the right in this case.\n",
    "    - **Activation** : The activation function in a neural network is responsible for transforming the input data for each node in the network to the output for that node. In the below case, the relu, or Rectified Linear Activation function is used. This is the default activation function for many types of neural network as it is relatively easy to train and often achieves better performance than other functions. The function will directly output the input value if the input is positive, otherwise it will output 0.\n",
    "    \n",
    "    \n",
    "- **Dropout**: The dropout function in Keras randomly sets input units to 0, in in this case with a frequency rate of 0.2 per step during the training process. This helps to prevent overfitting, which is when the model memorizes the noise and fits too closely to the training data set, which will affect its ability to adapt to new input data."
   ]
  },
  {
   "cell_type": "code",
   "execution_count": 87,
   "metadata": {},
   "outputs": [],
   "source": [
    "# Create Model to identify patterns in/recreate dataset\n",
    "layers = [\n",
    "  #Input - generate input tensor with sequence size 288, and number features 1\n",
    "    keras.layers.Input(shape=(x_train.shape[1], x_train.shape[2])),\n",
    "  #Create first convolutional layer to act on input data\n",
    "  keras.layers.Conv1D(\n",
    "    filters=32, kernel_size=7, padding=\"same\", strides=2, activation=\"relu\"),\n",
    "  #Dropout - add 0s into data to prevent overfitting\n",
    "  keras.layers.Dropout(rate=0.2),\n",
    "  #Create second convolutional layer\n",
    "  keras.layers.Conv1D(\n",
    "    filters=16, kernel_size=7, padding=\"same\", strides=2, activation=\"relu\"),\n",
    "  #The transpose function inverts the output of the convolution layers and \n",
    "  #reconstructs the original input\n",
    "  #Autoencoder models - learn output and decode into the original input values\n",
    "  keras.layers.Conv1DTranspose(\n",
    "    filters=16, kernel_size=7, padding=\"same\", strides=2, activation=\"relu\"),\n",
    "  keras.layers.Dropout(rate=0.2),\n",
    "  keras.layers.Conv1DTranspose(\n",
    "    filters=32, kernel_size=7, padding=\"same\", strides=2, activation=\"relu\"),\n",
    "  keras.layers.Conv1DTranspose(filters=1, kernel_size=7, padding=\"same\"),\n",
    "]"
   ]
  },
  {
   "cell_type": "markdown",
   "metadata": {},
   "source": [
    "#### Optimization and Compilation of Model"
   ]
  },
  {
   "cell_type": "markdown",
   "metadata": {},
   "source": [
    "When the layers have been defined, we can create the model, passing the array of layers as an argument to the initialization function.\n",
    "\n",
    "Below, a sequential model is initiated. This is one of the more basic model types offered by Keras, consisting simply of a sequence of layers,one after the other. "
   ]
  },
  {
   "cell_type": "code",
   "execution_count": 81,
   "metadata": {},
   "outputs": [],
   "source": [
    "# Create model\n",
    "model = keras.Sequential(layers)"
   ]
  },
  {
   "cell_type": "markdown",
   "metadata": {},
   "source": [
    "Next, an optimizer is defined. These are used to change aspects of the model such as weights and learning rates in order to minimize its cost function. \n",
    "\n",
    "One type of algorithm used for this purpose is called Gradient Descent. The term gradient descent refers to the changes to the model that move it along a slope or gradient in a graph toward the lowest possible error value. Each time the algorithm is run, it moves stepwise towards in the direction of the steepest descent (negative). The size of each step is called the learning rate. Larger steps allow for a higher learning rate, but may be less precise, while smaller steps allow for greater precision but are more time-consuming to run on larger datasets. \n",
    "\n",
    "The Adaptive Movement Estimation (Adam) algorithm, which is the optimizer used for this model, is an extension to Gradient Descent. One limitation of traditional Gradient Descent algorithms is that a single learning rate is used for all input values. Adam automatically adapts the learning rate for each input variable by tracking the exponential moving averages of the gradient (first moment) and the square of the gradients (second moment). Consequently, the Adam algorithm generally achieves better results than other optimization algorithms, have faster processing times and require less parameters for fine tuning. Therefore, Adam is recommended as the default optimiser for most applications."
   ]
  },
  {
   "cell_type": "code",
   "execution_count": null,
   "metadata": {},
   "outputs": [],
   "source": [
    "# Create Optimizer\n",
    "# Learning rate is kept at default value - small steps\n",
    "optimizer = keras.optimizers.Adam(learning_rate=0.001)"
   ]
  },
  {
   "cell_type": "markdown",
   "metadata": {},
   "source": [
    "Next, the model is compiled. During compilation, the model is checked for errors, and the optimizer and loss functions are defined. Loss functions are special types of function that help minimize the error and reach as close as possible to the expected output. The loss function used for this model is Mean Standard Error (MSE). This function assesses the average squared difference between the observed (actual) values and those predicted by the model. When a model has no error, the MSE equals 0, and the MSE value increases as the error does. "
   ]
  },
  {
   "cell_type": "code",
   "execution_count": null,
   "metadata": {},
   "outputs": [],
   "source": [
    "# Compile model\n",
    "model.compile(optimizer=optimizer, loss=\"mse\")"
   ]
  },
  {
   "cell_type": "markdown",
   "metadata": {},
   "source": [
    "Below a summary of the compiled model is printed.\n",
    "\n",
    "The summary can be interpreted as follows:\n",
    "- **Output Shape**: Shape of output for each layer, the structure is the same as input (batch size, sequence length,features). The features corresponds to the filter number set for the layer. Note that for the conv1d layer the sequence length corresponds to half the total number of samples per day, as the stride length was set to 2. We can see that the final output has the same shape as the input layer, meaning the model should be reconstructing the original input data.\n",
    "- **Param #**: Total parameters trained for each layer. The total parameters are obtained by multiplying the filter value by the kernel size and adding the bias (total filters in layer), e.g. 32*7+32 = 256\n",
    "- **Trainable/Non-Trainable Parameters**: Trainable parameters have their values adjusted/modified during training in accordance to their gradient, while non-trainable parameters are those that are kept constant and not adjusted during training. Two potential types of non-trainable parameter include:\n",
    "    - Parameters we choose to keep constant during training, by setting the trainable boolean for the layer to false.\n",
    "    - The Batch Normalization layer, which is used to normalize input data, has built-in non-trainable weights. These are used to keep track of the mean and variance of input data during training.\n",
    "    - In our model, all parameters are trainable."
   ]
  },
  {
   "cell_type": "code",
   "execution_count": 88,
   "metadata": {
    "scrolled": false
   },
   "outputs": [
    {
     "name": "stdout",
     "output_type": "stream",
     "text": [
      "Model: \"sequential_4\"\n",
      "_________________________________________________________________\n",
      "Layer (type)                 Output Shape              Param #   \n",
      "=================================================================\n",
      "conv1d_20 (Conv1D)           (None, 144, 32)           256       \n",
      "_________________________________________________________________\n",
      "dropout_20 (Dropout)         (None, 144, 32)           0         \n",
      "_________________________________________________________________\n",
      "conv1d_21 (Conv1D)           (None, 72, 16)            3600      \n",
      "_________________________________________________________________\n",
      "conv1d_transpose_30 (Conv1DT (None, 144, 16)           1808      \n",
      "_________________________________________________________________\n",
      "dropout_21 (Dropout)         (None, 144, 16)           0         \n",
      "_________________________________________________________________\n",
      "conv1d_transpose_31 (Conv1DT (None, 288, 32)           3616      \n",
      "_________________________________________________________________\n",
      "conv1d_transpose_32 (Conv1DT (None, 288, 1)            225       \n",
      "=================================================================\n",
      "Total params: 9,505\n",
      "Trainable params: 9,505\n",
      "Non-trainable params: 0\n",
      "_________________________________________________________________\n"
     ]
    }
   ],
   "source": [
    "model.summary()"
   ]
  },
  {
   "cell_type": "markdown",
   "metadata": {},
   "source": [
    "#### Fitting the Model\n",
    "\n",
    "This step trains the model by slicing the input data into batches of a defined size, and repeatedly iterating over the dataset for a given number of epochs (iterations). \n",
    "\n",
    "The below code applies the fit function to our newly created model. Note that the x_train data is used for both training and target output, as we are trying to train the model to recognize and recreate the patterns in the small_noise data set. \n",
    "\n",
    "The funtion will iterate over the dataset 50 times, and the given batch size is 128. \n",
    "\n",
    "A validation split of 0.1 is specified; this means that 90% of the data will be used for training and 10% will be used for validation. This is required because using the training data to evaluate the performance of the model would result in a biased score. Instead, a portion of the data is isolated from the training set and used solely to evaluate the model, resulting in an unbiased assessment of performance. This is often called a train-test split approach to model evaluation.\n",
    "\n",
    "##### Callbacks - EarlyStopping\n",
    "Callbacks in Keras provide a way to execute code and interact with the training process automatically. The type of callback used for this model is EarlyStopping, which allows you to specify the performance monitor to trigger, and once triggered, this will stop the training process. In the below code, the callbacks are set to monitor validation loss, which evaluates performance of the model on the validation data set. The mode is set to min, which means the epoch will terminate when the minimum loss value is found. Patience refers to the number of epochs with no improvement before which training will be stopped. For this model, it has been set to 5, meaning training will stop after 5 iterations with no improvement to the validation loss. "
   ]
  },
  {
   "cell_type": "code",
   "execution_count": 67,
   "metadata": {
    "scrolled": true
   },
   "outputs": [
    {
     "name": "stdout",
     "output_type": "stream",
     "text": [
      "Epoch 1/50\n",
      "27/27 [==============================] - 2s 93ms/step - loss: 0.6854 - val_loss: 0.3863\n",
      "Epoch 2/50\n",
      "27/27 [==============================] - 3s 93ms/step - loss: 0.1349 - val_loss: 0.0531\n",
      "Epoch 3/50\n",
      "27/27 [==============================] - 2s 84ms/step - loss: 0.0601 - val_loss: 0.0399\n",
      "Epoch 4/50\n",
      "27/27 [==============================] - 2s 89ms/step - loss: 0.0512 - val_loss: 0.0349\n",
      "Epoch 5/50\n",
      "27/27 [==============================] - 3s 98ms/step - loss: 0.0441 - val_loss: 0.0304\n",
      "Epoch 6/50\n",
      "27/27 [==============================] - 2s 87ms/step - loss: 0.0380 - val_loss: 0.0281\n",
      "Epoch 7/50\n",
      "27/27 [==============================] - 3s 94ms/step - loss: 0.0337 - val_loss: 0.0279\n",
      "Epoch 8/50\n",
      "27/27 [==============================] - 2s 83ms/step - loss: 0.0309 - val_loss: 0.0273\n",
      "Epoch 9/50\n",
      "27/27 [==============================] - 2s 85ms/step - loss: 0.0288 - val_loss: 0.0277\n",
      "Epoch 10/50\n",
      "27/27 [==============================] - 2s 88ms/step - loss: 0.0270 - val_loss: 0.0277\n",
      "Epoch 11/50\n",
      "27/27 [==============================] - 2s 88ms/step - loss: 0.0256 - val_loss: 0.0258\n",
      "Epoch 12/50\n",
      "27/27 [==============================] - 2s 79ms/step - loss: 0.0244 - val_loss: 0.0275\n",
      "Epoch 13/50\n",
      "27/27 [==============================] - 2s 91ms/step - loss: 0.0234 - val_loss: 0.0253\n",
      "Epoch 14/50\n",
      "27/27 [==============================] - 2s 89ms/step - loss: 0.0227 - val_loss: 0.0273\n",
      "Epoch 15/50\n",
      "27/27 [==============================] - 3s 98ms/step - loss: 0.0218 - val_loss: 0.0253\n",
      "Epoch 16/50\n",
      "27/27 [==============================] - 3s 97ms/step - loss: 0.0211 - val_loss: 0.0267\n",
      "Epoch 17/50\n",
      "27/27 [==============================] - 2s 80ms/step - loss: 0.0205 - val_loss: 0.0262\n",
      "Epoch 18/50\n",
      "27/27 [==============================] - 3s 93ms/step - loss: 0.0199 - val_loss: 0.0261\n",
      "Epoch 19/50\n",
      "27/27 [==============================] - 2s 83ms/step - loss: 0.0193 - val_loss: 0.0248\n",
      "Epoch 20/50\n",
      "27/27 [==============================] - 2s 82ms/step - loss: 0.0187 - val_loss: 0.0238\n",
      "Epoch 21/50\n",
      "27/27 [==============================] - 2s 77ms/step - loss: 0.0183 - val_loss: 0.0242\n",
      "Epoch 22/50\n",
      "27/27 [==============================] - 3s 107ms/step - loss: 0.0178 - val_loss: 0.0250\n",
      "Epoch 23/50\n",
      "27/27 [==============================] - 2s 89ms/step - loss: 0.0173 - val_loss: 0.0261\n",
      "Epoch 24/50\n",
      "27/27 [==============================] - 2s 76ms/step - loss: 0.0169 - val_loss: 0.0239\n",
      "Epoch 25/50\n",
      "27/27 [==============================] - 2s 83ms/step - loss: 0.0164 - val_loss: 0.0258\n"
     ]
    }
   ],
   "source": [
    "# \n",
    "history = model.fit(\n",
    "    x_train,\n",
    "    x_train,\n",
    "    epochs=50,\n",
    "    batch_size=128,\n",
    "    validation_split=0.1,\n",
    "    callbacks=[\n",
    "        keras.callbacks.EarlyStopping(monitor=\"val_loss\", patience=5, mode=\"min\")\n",
    "    ],\n",
    ")"
   ]
  },
  {
   "cell_type": "markdown",
   "metadata": {},
   "source": [
    "Above, the results of the epochs are printed. The loss value refers to the performance of the model on the training set, and as mentioned above the val_loss metric indicates its performance on the validation set. "
   ]
  },
  {
   "cell_type": "markdown",
   "metadata": {},
   "source": [
    "## Evaluation\n",
    "\n",
    "***"
   ]
  },
  {
   "cell_type": "markdown",
   "metadata": {},
   "source": [
    "The Keras history object can be used to assess the results of the training step. History is another form of Keras callback that is automatically applied to each epoch, and"
   ]
  },
  {
   "cell_type": "code",
   "execution_count": 89,
   "metadata": {},
   "outputs": [
    {
     "name": "stdout",
     "output_type": "stream",
     "text": [
      "dict_keys(['loss', 'val_loss'])\n"
     ]
    }
   ],
   "source": [
    "print(history.history.keys())"
   ]
  },
  {
   "cell_type": "code",
   "execution_count": 43,
   "metadata": {
    "scrolled": false
   },
   "outputs": [
    {
     "data": {
      "text/plain": [
       "[0.5690252780914307,\n",
       " 0.22238513827323914,\n",
       " 0.06413883715867996,\n",
       " 0.04646361991763115,\n",
       " 0.039200957864522934,\n",
       " 0.03452721983194351,\n",
       " 0.03126921504735947,\n",
       " 0.028743121773004532,\n",
       " 0.02690424956381321,\n",
       " 0.0253772996366024,\n",
       " 0.02394309639930725,\n",
       " 0.022810552269220352,\n",
       " 0.021893588826060295,\n",
       " 0.020974792540073395,\n",
       " 0.020253365859389305,\n",
       " 0.01959056966006756,\n",
       " 0.018887996673583984,\n",
       " 0.018239367753267288,\n",
       " 0.017592644318938255,\n",
       " 0.016952136531472206,\n",
       " 0.01640777848660946,\n",
       " 0.01579337939620018,\n",
       " 0.015196586959064007,\n",
       " 0.014652401208877563,\n",
       " 0.014153114520013332,\n",
       " 0.013555461540818214,\n",
       " 0.01301147323101759,\n",
       " 0.012477628886699677,\n",
       " 0.01198225375264883,\n",
       " 0.011503142304718494,\n",
       " 0.011063246056437492,\n",
       " 0.01057976670563221,\n",
       " 0.01020937692373991,\n",
       " 0.009826011955738068,\n",
       " 0.009492211975157261,\n",
       " 0.009082047268748283,\n",
       " 0.008782835677266121,\n",
       " 0.008505412377417088,\n",
       " 0.008193534798920155,\n",
       " 0.007992717437446117,\n",
       " 0.007747524417936802,\n",
       " 0.0075449263677001,\n",
       " 0.007346887141466141,\n",
       " 0.007193868514150381,\n",
       " 0.006968340836465359,\n",
       " 0.006848284509032965,\n",
       " 0.006718231365084648,\n",
       " 0.00659723486751318,\n",
       " 0.00644967146217823,\n",
       " 0.006367670837789774]"
      ]
     },
     "execution_count": 43,
     "metadata": {},
     "output_type": "execute_result"
    }
   ],
   "source": [
    "history.history[\"loss\"]"
   ]
  },
  {
   "cell_type": "code",
   "execution_count": 44,
   "metadata": {
    "scrolled": true
   },
   "outputs": [
    {
     "data": {
      "text/plain": [
       "[0.37448015809059143,\n",
       " 0.07200631499290466,\n",
       " 0.035048771649599075,\n",
       " 0.032255351543426514,\n",
       " 0.026860620826482773,\n",
       " 0.026218093931674957,\n",
       " 0.026498688384890556,\n",
       " 0.026121092960238457,\n",
       " 0.026698177680373192,\n",
       " 0.02611420676112175,\n",
       " 0.027828466147184372,\n",
       " 0.026442144066095352,\n",
       " 0.02485203742980957,\n",
       " 0.02516832761466503,\n",
       " 0.02243974059820175,\n",
       " 0.025979749858379364,\n",
       " 0.02322378009557724,\n",
       " 0.022365504875779152,\n",
       " 0.020145442336797714,\n",
       " 0.018897246569395065,\n",
       " 0.018620841205120087,\n",
       " 0.0203412938863039,\n",
       " 0.017257235944271088,\n",
       " 0.01709476113319397,\n",
       " 0.014871635474264622,\n",
       " 0.014980082400143147,\n",
       " 0.013663490302860737,\n",
       " 0.013079782947897911,\n",
       " 0.012459841556847095,\n",
       " 0.01140872947871685,\n",
       " 0.011026943102478981,\n",
       " 0.01094808243215084,\n",
       " 0.010264880023896694,\n",
       " 0.009411320090293884,\n",
       " 0.009250464849174023,\n",
       " 0.008155275136232376,\n",
       " 0.008416611701250076,\n",
       " 0.008492888882756233,\n",
       " 0.008000088855624199,\n",
       " 0.007082298398017883,\n",
       " 0.0074034822173416615,\n",
       " 0.006723578087985516,\n",
       " 0.006131111178547144,\n",
       " 0.006493955384939909,\n",
       " 0.006395526695996523,\n",
       " 0.0066982051357626915,\n",
       " 0.006317293271422386,\n",
       " 0.00579155283048749,\n",
       " 0.0057954611256718636,\n",
       " 0.0052813319489359856]"
      ]
     },
     "execution_count": 44,
     "metadata": {},
     "output_type": "execute_result"
    }
   ],
   "source": [
    "history.history[\"val_loss\"]"
   ]
  },
  {
   "cell_type": "code",
   "execution_count": 45,
   "metadata": {},
   "outputs": [
    {
     "data": {
      "image/png": "[encoded data removed]",
      "text/plain": [
       "<Figure size 720x432 with 1 Axes>"
      ]
     },
     "metadata": {
      "needs_background": "light"
     },
     "output_type": "display_data"
    }
   ],
   "source": [
    "# \n",
    "fig, ax = plt.subplots(figsize=(10, 6))\n",
    "# \n",
    "ax.plot(history.history[\"loss\"], label=\"Training Loss\")\n",
    "# \n",
    "ax.plot(history.history[\"val_loss\"], label=\"Validation Loss\")\n",
    "# \n",
    "ax.legend();"
   ]
  },
  {
   "cell_type": "code",
   "execution_count": 46,
   "metadata": {},
   "outputs": [],
   "source": [
    "# Get train MAE loss.\n",
    "x_train_pred = model.predict(x_train)"
   ]
  },
  {
   "cell_type": "code",
   "execution_count": 47,
   "metadata": {},
   "outputs": [],
   "source": [
    "# Calculate loss...\n",
    "train_mae_loss = np.mean(np.abs(x_train_pred - x_train), axis=1)"
   ]
  },
  {
   "cell_type": "code",
   "execution_count": 48,
   "metadata": {},
   "outputs": [
    {
     "data": {
      "image/png": "[encoded data removed]",
      "text/plain": [
       "<Figure size 720x432 with 1 Axes>"
      ]
     },
     "metadata": {
      "needs_background": "light"
     },
     "output_type": "display_data"
    }
   ],
   "source": [
    "# \n",
    "fig, ax = plt.subplots(figsize=(10, 6))\n",
    "# \n",
    "ax.hist(train_mae_loss, bins=50)\n",
    "# \n",
    "ax.set_xlabel(\"Train MAE loss\")\n",
    "#\n",
    "ax.set_ylabel(\"No of samples\");"
   ]
  },
  {
   "cell_type": "code",
   "execution_count": 49,
   "metadata": {},
   "outputs": [
    {
     "data": {
      "text/plain": [
       "0.06973677580461893"
      ]
     },
     "execution_count": 49,
     "metadata": {},
     "output_type": "execute_result"
    }
   ],
   "source": [
    "# Get reconstruction loss threshold.\n",
    "threshold = np.max(train_mae_loss)\n",
    "\n",
    "# \n",
    "threshold"
   ]
  },
  {
   "cell_type": "code",
   "execution_count": 50,
   "metadata": {},
   "outputs": [
    {
     "data": {
      "image/png": "[encoded data removed]",
      "text/plain": [
       "<Figure size 720x432 with 1 Axes>"
      ]
     },
     "metadata": {
      "needs_background": "light"
     },
     "output_type": "display_data"
    }
   ],
   "source": [
    "# \n",
    "fig, ax = plt.subplots(figsize=(10, 6))\n",
    "\n",
    "# \n",
    "ax.plot(x_train[0])\n",
    "\n",
    "# \n",
    "ax.plot(x_train_pred[0]);"
   ]
  },
  {
   "cell_type": "code",
   "execution_count": 51,
   "metadata": {},
   "outputs": [],
   "source": [
    "# \n",
    "df_test_value = (df_daily_jumpsup - train_mean) / train_std"
   ]
  },
  {
   "cell_type": "code",
   "execution_count": 52,
   "metadata": {},
   "outputs": [
    {
     "data": {
      "image/png": "[encoded data removed]",
      "text/plain": [
       "<Figure size 720x432 with 1 Axes>"
      ]
     },
     "metadata": {
      "needs_background": "light"
     },
     "output_type": "display_data"
    }
   ],
   "source": [
    "# \n",
    "fig, ax = plt.subplots(figsize=(10, 6))\n",
    "\n",
    "# \n",
    "df_test_value.plot(legend=False, ax=ax);"
   ]
  },
  {
   "cell_type": "code",
   "execution_count": 53,
   "metadata": {},
   "outputs": [
    {
     "data": {
      "text/plain": [
       "(3745, 288, 1)"
      ]
     },
     "execution_count": 53,
     "metadata": {},
     "output_type": "execute_result"
    }
   ],
   "source": [
    "# Create sequences from test values.\n",
    "x_test = windows(df_test_value.values)\n",
    "\n",
    "x_test.shape"
   ]
  },
  {
   "cell_type": "code",
   "execution_count": 54,
   "metadata": {},
   "outputs": [],
   "source": [
    "# \n",
    "x_test_pred = model.predict(x_test)"
   ]
  },
  {
   "cell_type": "code",
   "execution_count": 55,
   "metadata": {},
   "outputs": [
    {
     "data": {
      "text/plain": [
       "array([[0.05187975],\n",
       "       [0.05349547],\n",
       "       [0.05402346],\n",
       "       ...,\n",
       "       [0.0518701 ],\n",
       "       [0.05508626],\n",
       "       [0.05363255]])"
      ]
     },
     "execution_count": 55,
     "metadata": {},
     "output_type": "execute_result"
    }
   ],
   "source": [
    "# \n",
    "test_mae_loss = np.mean(np.abs(x_test_pred - x_test), axis=1)\n",
    "\n",
    "test_mae_loss"
   ]
  },
  {
   "cell_type": "code",
   "execution_count": 56,
   "metadata": {},
   "outputs": [
    {
     "data": {
      "text/plain": [
       "array([0.05187975, 0.05349547, 0.05402346, ..., 0.0518701 , 0.05508626,\n",
       "       0.05363255])"
      ]
     },
     "execution_count": 56,
     "metadata": {},
     "output_type": "execute_result"
    }
   ],
   "source": [
    "# \n",
    "test_mae_loss = test_mae_loss.reshape((-1))\n",
    "\n",
    "test_mae_loss"
   ]
  },
  {
   "cell_type": "code",
   "execution_count": 57,
   "metadata": {},
   "outputs": [
    {
     "data": {
      "image/png": "[encoded data removed]",
      "text/plain": [
       "<Figure size 720x432 with 1 Axes>"
      ]
     },
     "metadata": {
      "needs_background": "light"
     },
     "output_type": "display_data"
    }
   ],
   "source": [
    "# \n",
    "fig, ax = plt.subplots(figsize=(10, 6))\n",
    "\n",
    "#\n",
    "ax.hist(test_mae_loss, bins=50)\n",
    "\n",
    "# \n",
    "ax.set_xlabel(\"test MAE loss\")\n",
    "\n",
    "# \n",
    "ax.set_ylabel(\"No of samples\");"
   ]
  },
  {
   "cell_type": "code",
   "execution_count": 58,
   "metadata": {},
   "outputs": [
    {
     "data": {
      "text/plain": [
       "407"
      ]
     },
     "execution_count": 58,
     "metadata": {},
     "output_type": "execute_result"
    }
   ],
   "source": [
    "# Detect all the samples which are anomalies.\n",
    "anomalies = test_mae_loss > threshold\n",
    "\n",
    "# NUmber of anomalies.\n",
    "np.sum(anomalies)"
   ]
  },
  {
   "cell_type": "code",
   "execution_count": 59,
   "metadata": {},
   "outputs": [],
   "source": [
    "# data i is an anomaly if samples [(i - timesteps + 1) to (i)] are anomalies\n",
    "inds = []\n",
    "\n",
    "for i in range(window_size - 1, len(df_test_value) - window_size + 1):\n",
    "    if np.all(anomalies[i - window_size + 1 : i]):\n",
    "        inds.append(i)"
   ]
  },
  {
   "cell_type": "code",
   "execution_count": 60,
   "metadata": {},
   "outputs": [],
   "source": [
    "# \n",
    "df_subset = df_daily_jumpsup.iloc[inds]"
   ]
  },
  {
   "cell_type": "code",
   "execution_count": 61,
   "metadata": {},
   "outputs": [
    {
     "data": {
      "image/png": "[encoded data removed]",
      "text/plain": [
       "<Figure size 720x432 with 1 Axes>"
      ]
     },
     "metadata": {
      "needs_background": "light"
     },
     "output_type": "display_data"
    }
   ],
   "source": [
    "#\n",
    "fig, ax = plt.subplots(figsize=(10, 6))\n",
    "\n",
    "# \n",
    "df_daily_jumpsup.plot(legend=False, ax=ax)\n",
    "\n",
    "# \n",
    "df_subset.plot(legend=False, ax=ax, color=\"r\");"
   ]
  },
  {
   "cell_type": "markdown",
   "metadata": {},
   "source": [
    "***\n",
    "\n",
    "## End"
   ]
  }
 ],
 "metadata": {
  "kernelspec": {
   "display_name": "Python 3 (ipykernel)",
   "language": "python",
   "name": "python3"
  },
  "language_info": {
   "codemirror_mode": {
    "name": "ipython",
    "version": 3
   },
   "file_extension": ".py",
   "mimetype": "text/x-python",
   "name": "python",
   "nbconvert_exporter": "python",
   "pygments_lexer": "ipython3",
   "version": "3.8.12"
  },
  "vscode": {
   "interpreter": {
    "hash": "585a938ec471c889bf0cce0aed741a99eaf47ca09c0fa8393793bc5bfe77ba11"
   }
  }
 },
 "nbformat": 4,
 "nbformat_minor": 4
}
