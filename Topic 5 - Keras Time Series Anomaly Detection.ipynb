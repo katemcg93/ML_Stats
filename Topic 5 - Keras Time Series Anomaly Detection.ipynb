{
 "cells": [
  {
   "cell_type": "markdown",
   "metadata": {},
   "source": [
    "# Keras Time Series Anomaly Detection"
   ]
  },
  {
   "cell_type": "markdown",
   "metadata": {},
   "source": [
    "# Introduction\n",
    "\n",
    "In this notebook, a neural network is developed using Keras to detect anomalies in the Numenta Anomaly benchmark dataset. The code and plots have been adapted from the Keras documentation, which can be accessed via the below link.\n",
    "\n",
    "https://keras.io/examples/timeseries/timeseries_anomaly_detection/.\n",
    "\n",
    "### Overview of Machine Learning and Neural Networks\n",
    "\n",
    "#### Machine Learning\n",
    "\n",
    "Machine learning is an area of computer science that allows computers to learn and act without being specifically programmed to do so. It entails building atnd adapting models that allow programmes to learn through experience. Algorithms are constructed to  adapt the models, which in turn gradually improves the predictions made by the programme. [1]\n",
    "\n",
    "The machine learning process begins with input data, such as examples, direct experience or instruction. The algorithm will look for patterns in the data so it can later make predictions based on the examples provided [2]. There are several ways the algorithm can be trained to identify patterns in data, including the following:\n",
    "- Supervised Learning: This is the most practical and widely used form of ML. It involves creating a function that relates input variables to labelled output values. The model is trained until it can detect the underlying patterns and relationships between the input and output data, meaning it can accurately predict output labels when presented with an entirely new dataset.In the real world, applications of supervised learning include risk assessment, image classification,fraud detection etc [3].\n",
    "- Unsupervised Learning: In this form, algorithims are trained on unlabeled data, and scans through the data sets looking for any meaningful connections. Hence, in unsupervised learning the algorithm finds the patterns/similarities within the data instead of relating the data to an external measurement. [3]\n",
    "- Semi-supervised Learning: This is a combination of the two previous approaches. This is where unsupervised learning algorithms generate labels for input data, which are then fed into supervised learning algorithms. In this approach, some of the input data is labelled by humans, and some are guessed by unsupervised learning, and all these datapoints/labels are given to supervised learning algorithms to generate the AI model. [3]\n",
    "\n",
    "#### Neural Networks\n",
    "\n",
    "Neural networks are a subset of machine learning. Their structure and name are inspired by the human brain, approximating the way that biological neurons signal to each other. Artificial Neural Networks are comprised of nodes (artificial neurons), which are arranged in layers. Generally, neural networks will include an input layer, an output layer and one or more hidden layers. The individual nodes in the layers are interconnected, and each node has a specific weight and threshold. If the output of any individual node is above the threshold value, the node is activated and sends data to the next layer of the network. If the threshold is not reached, activation does not occur. Neural networks rely on training data to learn and gradually improve their accuracy, but once they have been trained they are powerful machine learning tools, allowing us to classify and group data at speed. Tasks that may take hours for human experts, such as speech or image recognition, can be reduced to minutes using a neural network. One of the most famous neural networks is Google's search algorithm. [4]\n",
    "\n",
    "\n",
    "### Keras Overview\n",
    "Keras is an open-source Neural Network library written in Python, capable of running on Tensorflow, which is an end-to-end machine learning framework developed by Google. Keras is designed to simplify the process of implementing a neural network; it is relatively easy to learn and work with as it provides a Python frontend with a high level of abstraction. Additionally, it offers relatively simple APIs, reduces the number of commands required to implement a neural network and explains user error quickly. Although generally frameworks with a high level of abstraction can be slow to run, Keras is relatively fast as it runs on Tensorflow. Furthermore, as Keras is deeply integrated with Tensorflow, custom workflows and features can be easily implemented.[5]"
   ]
  },
  {
   "cell_type": "markdown",
   "metadata": {},
   "source": [
    "### The Numenta Anomaly Benchmark (NAB)\n",
    "\n",
    "The ability to detect anomalies in data sets has numerous applications in fields such as fraud detection for credit cards, fault detection in safety critical systems and to detect network breaches in cybersecurity. Due to its wide range of potential uses, the problem of anomaly detection has been thoroughly researched, and several algorithms for this purpose have been proposed. However, there was no dataset or framework available for evaluating and benchmarking these algorithims; hence the Numenta Anomaly Benchmark was introduced in 2015. The NAB was developed by Numenta, which is a research company blending neuroscience and machine learning to drive advances in the field of Artificial intellegence.\n",
    "\n",
    "The NAB is an open-source framework used to evaluate and compare anomaly detection algorithms. It includes a set of open-access, labelled data files and a common scoring system to compare the ability of different algorithms to detect anomalies in streaming data. Anomalies are patterns that do not match with previous patterns of behaviour for the relevant data stream. \n",
    "\n",
    "#### Data Files\n",
    "\n",
    "In addition to simulated data files, the NAB also includes real-world data with outliers/anomalies that have known causes. These data files have been collected by Numenta over years of interacting with customers and resolving their anomaly-related issues. The NAB dataset includes a wide range of different metrics, such as IoT sensor output, social media activity, web server traffic and network utilization data. For these metrics, a range of anomaly types are included - for example, both planned system shutdowns and real failures, as different behaviour should be displayed for different types. The files also include some challenges in terms of anomaly detection, such as noise  In addition, data files without anomalies are included as a reference point. \n",
    "\n",
    "#### Anomaly Detection Scoring\n",
    "An anomaly detection algorithm has two main functions: accepting data input such as that from the NAB files, and flagging anomalies within this data. According to Numenta, the perfect detector is one that:\n",
    "- Works in real time\n",
    "- Detects all anomalies in streaming data\n",
    "- Is fully automated across all potential datasets\n",
    "- Detects anomalies as soon as possible\n",
    "- Does not supply any false positives.\n",
    "\n",
    "The scoring mechanism proposed by the NAB, which aims to recognize algorithms with these traits, consists of three main components: \n",
    "\n",
    "1. Anomaly Windows\n",
    "Anomaly windows are defined ranges of data points that surround a recorded anomaly, which represent the time immediately before/after the anomaly occurs. Points are awarded to algorithms that detect anomalies within this window, hence giving credit to algorithms capable of early detection. If an algorithm is detected outside the window, it is marked as a false positive and given a negative score.\n",
    "\n",
    "2. Scoring Function\n",
    "The scoring function is connected to the anomaly window; as mentioned above, positive scores are given for detections within the anomaly window and negative scores for detections outside the window.\n",
    "\n",
    "3. Application Profiles\n",
    "Application profiles acknowledge that the value/implications of false negatives and positives vary between industries and applications. For example, a false negative on a hospital EKG tracker may have much more serious effects on patient helat than a false positive. \n",
    "\n",
    "#### Source Data\n",
    "\n",
    "The NAB source files are available on Kaggle at the below link:\n",
    "\n",
    "[NAB Source Data](https://www.kaggle.com/datasets/boltzmannbrain/nab)\n",
    "\n",
    "Below is the link to the Github repository for the project:\n",
    "\n",
    "[GitHub Link](https://github.com/numenta/NAB)\n",
    "\n",
    "As mentioned above, numerous real-world datasets are available, such as the following:\n",
    "- AWS Server Metrics: Collected by AmazonCloudwatch Service. Metrics include CPU utilization, Network Bytes in and Disk Read bytes.\n",
    "- Real Tweets: Collections of Twitter mentions of publicly traded companies, such as Google and IBM. \n",
    "- NYC Taxi Data: Number of of NYC taxi passengers, where anomalies include the NYC marathon, Thanksgiving, Christmas and a snow storm.\n",
    "\n",
    "There are also two types of artificially-generated data:\n",
    "- artificialNoAnomaly: Simulated data without anomalies\n",
    "- artificalWithAnomaly: Simulated data with varying types of anomaly\n",
    "\n",
    "This notebook uses one of the artificial data sets - daily_small_noise and daily_jump_up. Both files emulate the same data source, but while daily_small_noise does not contain any anomalies, these are present in daily_jump_up.\n",
    "\n",
    "The code in this notebook demonstrates how a neural network, developed using Keras, can be trained to detect anomalies in the second file, by using the first file as a training data source."
   ]
  },
  {
   "cell_type": "markdown",
   "metadata": {},
   "source": [
    "# Loading the data"
   ]
  },
  {
   "cell_type": "markdown",
   "metadata": {},
   "source": [
    "### Python Packages"
   ]
  },
  {
   "cell_type": "code",
   "execution_count": 1,
   "metadata": {},
   "outputs": [],
   "source": [
    "# Numerical arrays.\n",
    "import numpy as np\n",
    "\n",
    "# Spreadsheet-like Data Frames.\n",
    "import pandas as pd\n",
    "\n",
    "# Neural networks.\n",
    "import tensorflow.keras as keras\n",
    "\n",
    "# Plotting\n",
    "import matplotlib.pyplot as plt"
   ]
  },
  {
   "cell_type": "markdown",
   "metadata": {},
   "source": [
    "### Data Sources\n",
    "\n",
    "Both data sources are available on the NAB Github repository in CSV format. The below code gets the files in raw format that can be then fed into a Pandas dataframe - linking directly to Github will cause issues as HTML will be returned along with the CSV data."
   ]
  },
  {
   "cell_type": "code",
   "execution_count": 2,
   "metadata": {},
   "outputs": [],
   "source": [
    "# Root of URLs.\n",
    "root_url = 'https://raw.githubusercontent.com/numenta/NAB/master/data/'\n",
    "\n",
    "# Data file without anomaly.\n",
    "no_anomaly_url = root_url + 'artificialNoAnomaly/art_daily_small_noise.csv'\n",
    "\n",
    "# Data file with anomaly.\n",
    "with_anomaly_url = root_url + 'artificialWithAnomaly/art_daily_jumpsup.csv'"
   ]
  },
  {
   "cell_type": "markdown",
   "metadata": {},
   "source": [
    "### Pandas Dataframes\n",
    "\n",
    "The below code reads the small_noise dataset and converts it to a Pandas dataframe. The parse_dates parameter allows the timestamp for the measurement to be interpreted as a datetime field, and the index_col paramaterconverts the timestamp column to the index column. "
   ]
  },
  {
   "cell_type": "code",
   "execution_count": 3,
   "metadata": {},
   "outputs": [],
   "source": [
    "# \n",
    "df_small_noise = pd.read_csv(no_anomaly_url, parse_dates=True, index_col=\"timestamp\")"
   ]
  },
  {
   "cell_type": "markdown",
   "metadata": {},
   "source": [
    "Below we can see that the data frame is generated as expected, with the timestamp used as an index column instead of the default column number."
   ]
  },
  {
   "cell_type": "code",
   "execution_count": 4,
   "metadata": {},
   "outputs": [
    {
     "data": {
      "text/html": [
       "<div>\n",
       "<style scoped>\n",
       "    .dataframe tbody tr th:only-of-type {\n",
       "        vertical-align: middle;\n",
       "    }\n",
       "\n",
       "    .dataframe tbody tr th {\n",
       "        vertical-align: top;\n",
       "    }\n",
       "\n",
       "    .dataframe thead th {\n",
       "        text-align: right;\n",
       "    }\n",
       "</style>\n",
       "<table border=\"1\" class=\"dataframe\">\n",
       "  <thead>\n",
       "    <tr style=\"text-align: right;\">\n",
       "      <th></th>\n",
       "      <th>value</th>\n",
       "    </tr>\n",
       "    <tr>\n",
       "      <th>timestamp</th>\n",
       "      <th></th>\n",
       "    </tr>\n",
       "  </thead>\n",
       "  <tbody>\n",
       "    <tr>\n",
       "      <th>2014-04-01 00:00:00</th>\n",
       "      <td>18.324919</td>\n",
       "    </tr>\n",
       "    <tr>\n",
       "      <th>2014-04-01 00:05:00</th>\n",
       "      <td>21.970327</td>\n",
       "    </tr>\n",
       "    <tr>\n",
       "      <th>2014-04-01 00:10:00</th>\n",
       "      <td>18.624806</td>\n",
       "    </tr>\n",
       "    <tr>\n",
       "      <th>2014-04-01 00:15:00</th>\n",
       "      <td>21.953684</td>\n",
       "    </tr>\n",
       "    <tr>\n",
       "      <th>2014-04-01 00:20:00</th>\n",
       "      <td>21.909120</td>\n",
       "    </tr>\n",
       "  </tbody>\n",
       "</table>\n",
       "</div>"
      ],
      "text/plain": [
       "                         value\n",
       "timestamp                     \n",
       "2014-04-01 00:00:00  18.324919\n",
       "2014-04-01 00:05:00  21.970327\n",
       "2014-04-01 00:10:00  18.624806\n",
       "2014-04-01 00:15:00  21.953684\n",
       "2014-04-01 00:20:00  21.909120"
      ]
     },
     "execution_count": 4,
     "metadata": {},
     "output_type": "execute_result"
    }
   ],
   "source": [
    "# \n",
    "df_small_noise.head()"
   ]
  },
  {
   "cell_type": "markdown",
   "metadata": {},
   "source": [
    "Below descriptive statistics are generated for the dataset - in total there are 4032 values counted, which also can be checked by getting the shape of the dataframe. "
   ]
  },
  {
   "cell_type": "code",
   "execution_count": 5,
   "metadata": {},
   "outputs": [
    {
     "data": {
      "text/html": [
       "<div>\n",
       "<style scoped>\n",
       "    .dataframe tbody tr th:only-of-type {\n",
       "        vertical-align: middle;\n",
       "    }\n",
       "\n",
       "    .dataframe tbody tr th {\n",
       "        vertical-align: top;\n",
       "    }\n",
       "\n",
       "    .dataframe thead th {\n",
       "        text-align: right;\n",
       "    }\n",
       "</style>\n",
       "<table border=\"1\" class=\"dataframe\">\n",
       "  <thead>\n",
       "    <tr style=\"text-align: right;\">\n",
       "      <th></th>\n",
       "      <th>value</th>\n",
       "    </tr>\n",
       "  </thead>\n",
       "  <tbody>\n",
       "    <tr>\n",
       "      <th>count</th>\n",
       "      <td>4032.000000</td>\n",
       "    </tr>\n",
       "    <tr>\n",
       "      <th>mean</th>\n",
       "      <td>42.438353</td>\n",
       "    </tr>\n",
       "    <tr>\n",
       "      <th>std</th>\n",
       "      <td>28.077122</td>\n",
       "    </tr>\n",
       "    <tr>\n",
       "      <th>min</th>\n",
       "      <td>18.000964</td>\n",
       "    </tr>\n",
       "    <tr>\n",
       "      <th>25%</th>\n",
       "      <td>19.841390</td>\n",
       "    </tr>\n",
       "    <tr>\n",
       "      <th>50%</th>\n",
       "      <td>21.608487</td>\n",
       "    </tr>\n",
       "    <tr>\n",
       "      <th>75%</th>\n",
       "      <td>75.450282</td>\n",
       "    </tr>\n",
       "    <tr>\n",
       "      <th>max</th>\n",
       "      <td>87.976128</td>\n",
       "    </tr>\n",
       "  </tbody>\n",
       "</table>\n",
       "</div>"
      ],
      "text/plain": [
       "             value\n",
       "count  4032.000000\n",
       "mean     42.438353\n",
       "std      28.077122\n",
       "min      18.000964\n",
       "25%      19.841390\n",
       "50%      21.608487\n",
       "75%      75.450282\n",
       "max      87.976128"
      ]
     },
     "execution_count": 5,
     "metadata": {},
     "output_type": "execute_result"
    }
   ],
   "source": [
    "# \n",
    "df_small_noise.describe()"
   ]
  },
  {
   "cell_type": "code",
   "execution_count": 6,
   "metadata": {},
   "outputs": [
    {
     "data": {
      "text/plain": [
       "(4032, 1)"
      ]
     },
     "execution_count": 6,
     "metadata": {},
     "output_type": "execute_result"
    }
   ],
   "source": [
    "df_small_noise.shape"
   ]
  },
  {
   "cell_type": "markdown",
   "metadata": {},
   "source": [
    "We can also repeat this for the daily_jump_up dataset to see if any significant differences between the two are apparent. "
   ]
  },
  {
   "cell_type": "code",
   "execution_count": 7,
   "metadata": {},
   "outputs": [],
   "source": [
    "df_daily_jumpsup = pd.read_csv(with_anomaly_url, parse_dates=True, index_col=\"timestamp\")"
   ]
  },
  {
   "cell_type": "code",
   "execution_count": 8,
   "metadata": {},
   "outputs": [
    {
     "data": {
      "text/html": [
       "<div>\n",
       "<style scoped>\n",
       "    .dataframe tbody tr th:only-of-type {\n",
       "        vertical-align: middle;\n",
       "    }\n",
       "\n",
       "    .dataframe tbody tr th {\n",
       "        vertical-align: top;\n",
       "    }\n",
       "\n",
       "    .dataframe thead th {\n",
       "        text-align: right;\n",
       "    }\n",
       "</style>\n",
       "<table border=\"1\" class=\"dataframe\">\n",
       "  <thead>\n",
       "    <tr style=\"text-align: right;\">\n",
       "      <th></th>\n",
       "      <th>value</th>\n",
       "    </tr>\n",
       "    <tr>\n",
       "      <th>timestamp</th>\n",
       "      <th></th>\n",
       "    </tr>\n",
       "  </thead>\n",
       "  <tbody>\n",
       "    <tr>\n",
       "      <th>2014-04-01 00:00:00</th>\n",
       "      <td>19.761252</td>\n",
       "    </tr>\n",
       "    <tr>\n",
       "      <th>2014-04-01 00:05:00</th>\n",
       "      <td>20.500833</td>\n",
       "    </tr>\n",
       "    <tr>\n",
       "      <th>2014-04-01 00:10:00</th>\n",
       "      <td>19.961641</td>\n",
       "    </tr>\n",
       "    <tr>\n",
       "      <th>2014-04-01 00:15:00</th>\n",
       "      <td>21.490266</td>\n",
       "    </tr>\n",
       "    <tr>\n",
       "      <th>2014-04-01 00:20:00</th>\n",
       "      <td>20.187739</td>\n",
       "    </tr>\n",
       "  </tbody>\n",
       "</table>\n",
       "</div>"
      ],
      "text/plain": [
       "                         value\n",
       "timestamp                     \n",
       "2014-04-01 00:00:00  19.761252\n",
       "2014-04-01 00:05:00  20.500833\n",
       "2014-04-01 00:10:00  19.961641\n",
       "2014-04-01 00:15:00  21.490266\n",
       "2014-04-01 00:20:00  20.187739"
      ]
     },
     "execution_count": 8,
     "metadata": {},
     "output_type": "execute_result"
    }
   ],
   "source": [
    "df_daily_jumpsup.head()"
   ]
  },
  {
   "cell_type": "code",
   "execution_count": 9,
   "metadata": {},
   "outputs": [
    {
     "data": {
      "text/html": [
       "<div>\n",
       "<style scoped>\n",
       "    .dataframe tbody tr th:only-of-type {\n",
       "        vertical-align: middle;\n",
       "    }\n",
       "\n",
       "    .dataframe tbody tr th {\n",
       "        vertical-align: top;\n",
       "    }\n",
       "\n",
       "    .dataframe thead th {\n",
       "        text-align: right;\n",
       "    }\n",
       "</style>\n",
       "<table border=\"1\" class=\"dataframe\">\n",
       "  <thead>\n",
       "    <tr style=\"text-align: right;\">\n",
       "      <th></th>\n",
       "      <th>value</th>\n",
       "    </tr>\n",
       "  </thead>\n",
       "  <tbody>\n",
       "    <tr>\n",
       "      <th>count</th>\n",
       "      <td>4032.000000</td>\n",
       "    </tr>\n",
       "    <tr>\n",
       "      <th>mean</th>\n",
       "      <td>44.494254</td>\n",
       "    </tr>\n",
       "    <tr>\n",
       "      <th>std</th>\n",
       "      <td>32.432473</td>\n",
       "    </tr>\n",
       "    <tr>\n",
       "      <th>min</th>\n",
       "      <td>18.001010</td>\n",
       "    </tr>\n",
       "    <tr>\n",
       "      <th>25%</th>\n",
       "      <td>19.991382</td>\n",
       "    </tr>\n",
       "    <tr>\n",
       "      <th>50%</th>\n",
       "      <td>21.648503</td>\n",
       "    </tr>\n",
       "    <tr>\n",
       "      <th>75%</th>\n",
       "      <td>76.435943</td>\n",
       "    </tr>\n",
       "    <tr>\n",
       "      <th>max</th>\n",
       "      <td>164.947481</td>\n",
       "    </tr>\n",
       "  </tbody>\n",
       "</table>\n",
       "</div>"
      ],
      "text/plain": [
       "             value\n",
       "count  4032.000000\n",
       "mean     44.494254\n",
       "std      32.432473\n",
       "min      18.001010\n",
       "25%      19.991382\n",
       "50%      21.648503\n",
       "75%      76.435943\n",
       "max     164.947481"
      ]
     },
     "execution_count": 9,
     "metadata": {},
     "output_type": "execute_result"
    }
   ],
   "source": [
    "df_daily_jumpsup.describe()"
   ]
  },
  {
   "cell_type": "code",
   "execution_count": 10,
   "metadata": {},
   "outputs": [
    {
     "data": {
      "text/plain": [
       "(4032, 1)"
      ]
     },
     "execution_count": 10,
     "metadata": {},
     "output_type": "execute_result"
    }
   ],
   "source": [
    "df_daily_jumpsup.shape"
   ]
  },
  {
   "cell_type": "markdown",
   "metadata": {},
   "source": [
    "Based on this initial analysis, we can see the following characteristics for the two datasets:\n",
    "- The same number of observations/measurements exist for both datasets.\n",
    "- The mean value is slightly higher in the daily_jump_up dataset\n",
    "- The values for upper, median and lower quartiles are similar across the two datasets\n",
    "- The max value in the jump_up dataset is twice that of the small_noise dataset - this is likely due to the recorded anomaly in the jump_up data. "
   ]
  },
  {
   "cell_type": "markdown",
   "metadata": {},
   "source": [
    "Below the data from the small_noise dataset is plotted. We can see that the data is relatively uniform, with peaks occurring betwwen 80 and 90 at approximately the same time intervals."
   ]
  },
  {
   "cell_type": "code",
   "execution_count": 11,
   "metadata": {},
   "outputs": [
    {
     "data": {
      "image/png": "[encoded data removed]",
      "text/plain": [
       "<Figure size 720x288 with 1 Axes>"
      ]
     },
     "metadata": {
      "needs_background": "light"
     },
     "output_type": "display_data"
    }
   ],
   "source": [
    "fig, ax = plt.subplots(figsize=(10,4))\n",
    "\n",
    "# Use pandas to plot data frame.\n",
    "df_small_noise.plot(legend=False, ax=ax, color=\"#89eb34\");\n",
    "ax.set_title(\"Data Set without Anomalies\");"
   ]
  },
  {
   "cell_type": "code",
   "execution_count": 12,
   "metadata": {},
   "outputs": [
    {
     "data": {
      "image/png": "[encoded data removed]",
      "text/plain": [
       "<Figure size 720x288 with 1 Axes>"
      ]
     },
     "metadata": {
      "needs_background": "light"
     },
     "output_type": "display_data"
    }
   ],
   "source": [
    "# \n",
    "fig, ax = plt.subplots(figsize=(10,4))\n",
    "\n",
    "# Use pandas to plot data frame.\n",
    "df_daily_jumpsup.plot(legend=False, ax=ax, color = \"#cf2141\");\n",
    "ax.set_title(\"Data Set with Anomalies\");"
   ]
  },
  {
   "cell_type": "markdown",
   "metadata": {},
   "source": [
    "We can see the data distribution is very similar to that of the first dataset, except for one measurement that reaches approximately 160."
   ]
  },
  {
   "cell_type": "markdown",
   "metadata": {},
   "source": [
    "## Preprocessing\n",
    "***"
   ]
  },
  {
   "cell_type": "markdown",
   "metadata": {},
   "source": [
    "### Data Normalization\n",
    "\n",
    "Once both datasets have been converted to Pandas dataframes, the next step is to normalize the data.\n",
    "\n",
    "Data is normalized by subtracting each value in the dataset from the mean, and dividing the result by the standard deviation. The main benefit of normalizing input data for neural networks is that it simplifies the traning process. For data that has not undergone this step, numerical ranges of different features may differ significantly. For example, a machine learning application that predicts house prices may consider different numerical factors, such as age of the house or square footage. In this scenario, the potential ranges for these two variables would be very different. House ages may be in the range of 0 to 25, while square footage may vary between 100 and 500 m<sup>2</sup>. If this data was given to the algorithm in its unnormalized form, the rate of convergence for the neural network will be adversely affected. Convergence is the stage at which no further improvements or changes to the model are expected. It is the point at which the learning rate decreases and the cost for the algorithm reaches its minimum value. If the input datasets are all on the same scale (normalized, generally between -1 and 1), the time taken to reach the point of convergence is signficantly reduced [7].\n",
    "\n",
    "Below, the small noise data set is normalized, and the normalized data is added to a new column in the dataframe called df_train_vals.\n",
    "\n",
    "First, the mean and standard deviation values are obtained."
   ]
  },
  {
   "cell_type": "code",
   "execution_count": 13,
   "metadata": {},
   "outputs": [
    {
     "data": {
      "text/plain": [
       "value    42.438353\n",
       "dtype: float64"
      ]
     },
     "execution_count": 13,
     "metadata": {},
     "output_type": "execute_result"
    }
   ],
   "source": [
    "# \n",
    "train_mean = df_small_noise.mean()\n",
    "\n",
    "train_mean"
   ]
  },
  {
   "cell_type": "code",
   "execution_count": 14,
   "metadata": {},
   "outputs": [
    {
     "data": {
      "text/plain": [
       "value    28.077122\n",
       "dtype: float64"
      ]
     },
     "execution_count": 14,
     "metadata": {},
     "output_type": "execute_result"
    }
   ],
   "source": [
    "# \n",
    "train_std = df_small_noise.std()\n",
    "\n",
    "train_std"
   ]
  },
  {
   "cell_type": "markdown",
   "metadata": {},
   "source": [
    "Next, the mean is subtracted from each datapoint, and the result divided by the standard deviation. This is saved to a new column, df_train_vals. These values will be used to train the anomaly detection algorithm."
   ]
  },
  {
   "cell_type": "code",
   "execution_count": 15,
   "metadata": {},
   "outputs": [],
   "source": [
    "df_train_vals = (df_small_noise - train_mean) / train_std"
   ]
  },
  {
   "cell_type": "code",
   "execution_count": 16,
   "metadata": {},
   "outputs": [
    {
     "data": {
      "text/html": [
       "<div>\n",
       "<style scoped>\n",
       "    .dataframe tbody tr th:only-of-type {\n",
       "        vertical-align: middle;\n",
       "    }\n",
       "\n",
       "    .dataframe tbody tr th {\n",
       "        vertical-align: top;\n",
       "    }\n",
       "\n",
       "    .dataframe thead th {\n",
       "        text-align: right;\n",
       "    }\n",
       "</style>\n",
       "<table border=\"1\" class=\"dataframe\">\n",
       "  <thead>\n",
       "    <tr style=\"text-align: right;\">\n",
       "      <th></th>\n",
       "      <th>value</th>\n",
       "    </tr>\n",
       "    <tr>\n",
       "      <th>timestamp</th>\n",
       "      <th></th>\n",
       "    </tr>\n",
       "  </thead>\n",
       "  <tbody>\n",
       "    <tr>\n",
       "      <th>2014-04-01 00:00:00</th>\n",
       "      <td>-0.858829</td>\n",
       "    </tr>\n",
       "    <tr>\n",
       "      <th>2014-04-01 00:05:00</th>\n",
       "      <td>-0.728993</td>\n",
       "    </tr>\n",
       "    <tr>\n",
       "      <th>2014-04-01 00:10:00</th>\n",
       "      <td>-0.848148</td>\n",
       "    </tr>\n",
       "    <tr>\n",
       "      <th>2014-04-01 00:15:00</th>\n",
       "      <td>-0.729586</td>\n",
       "    </tr>\n",
       "    <tr>\n",
       "      <th>2014-04-01 00:20:00</th>\n",
       "      <td>-0.731173</td>\n",
       "    </tr>\n",
       "  </tbody>\n",
       "</table>\n",
       "</div>"
      ],
      "text/plain": [
       "                        value\n",
       "timestamp                    \n",
       "2014-04-01 00:00:00 -0.858829\n",
       "2014-04-01 00:05:00 -0.728993\n",
       "2014-04-01 00:10:00 -0.848148\n",
       "2014-04-01 00:15:00 -0.729586\n",
       "2014-04-01 00:20:00 -0.731173"
      ]
     },
     "execution_count": 16,
     "metadata": {},
     "output_type": "execute_result"
    }
   ],
   "source": [
    "# Sanity check for training data\n",
    "df_train_vals.head()"
   ]
  },
  {
   "cell_type": "markdown",
   "metadata": {},
   "source": [
    "The below code divides the steps of the normalization process into thir own dataframe columns: less_mean and div_std. Then the mean and standard deviation values are compared for each preprocessing step: unprocessed data, subtracted mean, and divided by the standard deviation."
   ]
  },
  {
   "cell_type": "code",
   "execution_count": 17,
   "metadata": {},
   "outputs": [],
   "source": [
    "# For each value - subtract mean and add to new column. Then divide result by standard deviation and add to column\n",
    "df_small_noise['less_mean'] = df_small_noise['value'] - df_small_noise['value'].mean()\n",
    "df_small_noise['div_std'] = df_small_noise['less_mean'] / df_small_noise['value'].std()"
   ]
  },
  {
   "cell_type": "code",
   "execution_count": 18,
   "metadata": {},
   "outputs": [
    {
     "data": {
      "text/html": [
       "<div>\n",
       "<style scoped>\n",
       "    .dataframe tbody tr th:only-of-type {\n",
       "        vertical-align: middle;\n",
       "    }\n",
       "\n",
       "    .dataframe tbody tr th {\n",
       "        vertical-align: top;\n",
       "    }\n",
       "\n",
       "    .dataframe thead th {\n",
       "        text-align: right;\n",
       "    }\n",
       "</style>\n",
       "<table border=\"1\" class=\"dataframe\">\n",
       "  <thead>\n",
       "    <tr style=\"text-align: right;\">\n",
       "      <th></th>\n",
       "      <th>value</th>\n",
       "      <th>less_mean</th>\n",
       "      <th>div_std</th>\n",
       "    </tr>\n",
       "    <tr>\n",
       "      <th>timestamp</th>\n",
       "      <th></th>\n",
       "      <th></th>\n",
       "      <th></th>\n",
       "    </tr>\n",
       "  </thead>\n",
       "  <tbody>\n",
       "    <tr>\n",
       "      <th>2014-04-01 00:00:00</th>\n",
       "      <td>18.324919</td>\n",
       "      <td>-24.113435</td>\n",
       "      <td>-0.858829</td>\n",
       "    </tr>\n",
       "    <tr>\n",
       "      <th>2014-04-01 00:05:00</th>\n",
       "      <td>21.970327</td>\n",
       "      <td>-20.468026</td>\n",
       "      <td>-0.728993</td>\n",
       "    </tr>\n",
       "    <tr>\n",
       "      <th>2014-04-01 00:10:00</th>\n",
       "      <td>18.624806</td>\n",
       "      <td>-23.813547</td>\n",
       "      <td>-0.848148</td>\n",
       "    </tr>\n",
       "    <tr>\n",
       "      <th>2014-04-01 00:15:00</th>\n",
       "      <td>21.953684</td>\n",
       "      <td>-20.484669</td>\n",
       "      <td>-0.729586</td>\n",
       "    </tr>\n",
       "    <tr>\n",
       "      <th>2014-04-01 00:20:00</th>\n",
       "      <td>21.909120</td>\n",
       "      <td>-20.529234</td>\n",
       "      <td>-0.731173</td>\n",
       "    </tr>\n",
       "    <tr>\n",
       "      <th>...</th>\n",
       "      <td>...</td>\n",
       "      <td>...</td>\n",
       "      <td>...</td>\n",
       "    </tr>\n",
       "    <tr>\n",
       "      <th>2014-04-14 23:35:00</th>\n",
       "      <td>20.211195</td>\n",
       "      <td>-22.227159</td>\n",
       "      <td>-0.791647</td>\n",
       "    </tr>\n",
       "    <tr>\n",
       "      <th>2014-04-14 23:40:00</th>\n",
       "      <td>20.531041</td>\n",
       "      <td>-21.907313</td>\n",
       "      <td>-0.780255</td>\n",
       "    </tr>\n",
       "    <tr>\n",
       "      <th>2014-04-14 23:45:00</th>\n",
       "      <td>19.032127</td>\n",
       "      <td>-23.406226</td>\n",
       "      <td>-0.833640</td>\n",
       "    </tr>\n",
       "    <tr>\n",
       "      <th>2014-04-14 23:50:00</th>\n",
       "      <td>21.798801</td>\n",
       "      <td>-20.639552</td>\n",
       "      <td>-0.735102</td>\n",
       "    </tr>\n",
       "    <tr>\n",
       "      <th>2014-04-14 23:55:00</th>\n",
       "      <td>18.682620</td>\n",
       "      <td>-23.755733</td>\n",
       "      <td>-0.846089</td>\n",
       "    </tr>\n",
       "  </tbody>\n",
       "</table>\n",
       "<p>4032 rows × 3 columns</p>\n",
       "</div>"
      ],
      "text/plain": [
       "                         value  less_mean   div_std\n",
       "timestamp                                          \n",
       "2014-04-01 00:00:00  18.324919 -24.113435 -0.858829\n",
       "2014-04-01 00:05:00  21.970327 -20.468026 -0.728993\n",
       "2014-04-01 00:10:00  18.624806 -23.813547 -0.848148\n",
       "2014-04-01 00:15:00  21.953684 -20.484669 -0.729586\n",
       "2014-04-01 00:20:00  21.909120 -20.529234 -0.731173\n",
       "...                        ...        ...       ...\n",
       "2014-04-14 23:35:00  20.211195 -22.227159 -0.791647\n",
       "2014-04-14 23:40:00  20.531041 -21.907313 -0.780255\n",
       "2014-04-14 23:45:00  19.032127 -23.406226 -0.833640\n",
       "2014-04-14 23:50:00  21.798801 -20.639552 -0.735102\n",
       "2014-04-14 23:55:00  18.682620 -23.755733 -0.846089\n",
       "\n",
       "[4032 rows x 3 columns]"
      ]
     },
     "execution_count": 18,
     "metadata": {},
     "output_type": "execute_result"
    }
   ],
   "source": [
    "#Sanity Check\n",
    "df_small_noise"
   ]
  },
  {
   "cell_type": "markdown",
   "metadata": {},
   "source": [
    "The dataframe sample printed above shows the majority of datapoints are between 18 and 20, becoming negative once the mean has been subtracted. When the result is divided by the standard deviation, the values range between 0.7 and 0.9. Therefore, the potential range of values is reduced significantly. \n",
    "\n",
    "Below, the mean and standard deviation values are compared at each preprocessing stage. The standard deviations are almost the same for steps one and two, but at step three (less_mean/standard deviation) the value is much lower, showing that the spread of values has been significantly reduced as a result of preprocessing."
   ]
  },
  {
   "cell_type": "code",
   "execution_count": 19,
   "metadata": {},
   "outputs": [
    {
     "data": {
      "text/plain": [
       "(42.438353335806646, -7.342627387941552e-14, -2.616541242931684e-15)"
      ]
     },
     "execution_count": 19,
     "metadata": {},
     "output_type": "execute_result"
    }
   ],
   "source": [
    "df_small_noise['value'].mean(), df_small_noise['less_mean'].mean(), df_small_noise['div_std'].mean()"
   ]
  },
  {
   "cell_type": "code",
   "execution_count": 20,
   "metadata": {},
   "outputs": [
    {
     "data": {
      "text/plain": [
       "(28.077122281262515, 28.077122281262508, 1.0000000000000018)"
      ]
     },
     "execution_count": 20,
     "metadata": {},
     "output_type": "execute_result"
    }
   ],
   "source": [
    "df_small_noise['value'].std(), df_small_noise['less_mean'].std(), df_small_noise['div_std'].std()"
   ]
  },
  {
   "cell_type": "markdown",
   "metadata": {},
   "source": [
    "Below the preprocessed data is plotted. Before normalization values for the dataset ranged between 20 and 90. Now the range is between -0.25 and 1.5, while the structure of the data has remained the same as the plot shows."
   ]
  },
  {
   "cell_type": "code",
   "execution_count": 21,
   "metadata": {},
   "outputs": [
    {
     "data": {
      "image/png": "[encoded data removed]",
      "text/plain": [
       "<Figure size 720x288 with 1 Axes>"
      ]
     },
     "metadata": {
      "needs_background": "light"
     },
     "output_type": "display_data"
    }
   ],
   "source": [
    "# \n",
    "fig, ax = plt.subplots(figsize=(10,4))\n",
    "\n",
    "# Use pandas to plot data frame.\n",
    "df_train_vals.plot(legend=False, ax=ax, color=\"#89eb34\");\n",
    "ax.set_title(\"Normalized Data - Daily Small Noise\");"
   ]
  },
  {
   "cell_type": "markdown",
   "metadata": {},
   "source": [
    "### Time Steps/Windows\n",
    "\n",
    "The next step is to divide the data set into windows or time steps. In neural networks, windows represent the number of units (seconds,minutes,hours,days etc) that are used to predict future steps. For example, if creating a neural network to predict hourly stock market changes, one hour could be considered a single timestep [8]\n",
    "\n",
    "Our dataset can be divided into daily timesteps, each consisting of 288 recorded datapoints, as calculated below:"
   ]
  },
  {
   "cell_type": "code",
   "execution_count": 22,
   "metadata": {},
   "outputs": [
    {
     "name": "stdout",
     "output_type": "stream",
     "text": [
      "Total recorded values per day : 288\n",
      "Total recorded values: 4032\n"
     ]
    }
   ],
   "source": [
    "#Get total datapoints in one day by getting total minutes in 1 day and dividing by 5\n",
    "# As we have one data point for every 5 minutes\n",
    "mins_day = 24 * 60\n",
    "samples_day = int(mins_day/5)\n",
    "print(\"Total recorded values per day : {}\".format(samples_day))\n",
    "\n",
    "#14 days of data in df - need to multiply daily values by 14\n",
    "print(\"Total recorded values: {}\".format(samples_day * 14))"
   ]
  },
  {
   "cell_type": "markdown",
   "metadata": {},
   "source": [
    "As seen above, our dataset consists of one dimension/column with 4032 values, and the window size is 288. "
   ]
  },
  {
   "cell_type": "code",
   "execution_count": 23,
   "metadata": {},
   "outputs": [],
   "source": [
    "# Variable to hold window size, this will be required to iterate through training data\n",
    "window_size = 288"
   ]
  },
  {
   "cell_type": "markdown",
   "metadata": {},
   "source": [
    "### Window Example\n",
    "\n",
    "The windows will be used to structure how data is passed to the neural network. In the case of this dataset, the datapoints will be passed in batches of 288, so the network will learn the typical pattern of recorded values for one 24-hour period. The entire dataset will be iterated through,with a new window created for each datapoint.\n",
    "\n",
    "The below code illustrates how the windows concept works with a smaller array.\n",
    "\n",
    "#### Step 1: Initialize Array and Define Windows\n",
    "\n",
    "First, an array of size 14 is defined. The windows for this array will consist of three elements each."
   ]
  },
  {
   "cell_type": "code",
   "execution_count": 24,
   "metadata": {},
   "outputs": [
    {
     "data": {
      "text/plain": [
       "14"
      ]
     },
     "execution_count": 24,
     "metadata": {},
     "output_type": "execute_result"
    }
   ],
   "source": [
    "# Window list example.\n",
    "L = [1, 1, 2, 4, 5, 6, 7,4,5, 1, 2, 3, 4, 5]\n",
    "# Example window size.\n",
    "win_size = 3\n",
    "# Length of L.\n",
    "len(L)"
   ]
  },
  {
   "cell_type": "markdown",
   "metadata": {},
   "source": [
    "#### Step 2: Create Windows\n",
    "\n",
    "The next step is to iterate through the array L and create windows of 3: the current element in the loop should be the first element in the window, and the next two elements should be those to its right.\n",
    "\n",
    "It will not be possible to create a new window for the last two elements, as they do not have two elements to their right. Therefore, we can calculate the number of windows required by subtracting 1 from the win_size variable and subtracting this from the length of our array."
   ]
  },
  {
   "cell_type": "code",
   "execution_count": 25,
   "metadata": {},
   "outputs": [
    {
     "data": {
      "text/plain": [
       "12"
      ]
     },
     "execution_count": 25,
     "metadata": {},
     "output_type": "execute_result"
    }
   ],
   "source": [
    "# Number of windows from L.\n",
    "len(L) - (win_size - 1)"
   ]
  },
  {
   "cell_type": "code",
   "execution_count": 26,
   "metadata": {},
   "outputs": [
    {
     "data": {
      "text/plain": [
       "12"
      ]
     },
     "execution_count": 26,
     "metadata": {},
     "output_type": "execute_result"
    }
   ],
   "source": [
    "# Remove brackets.\n",
    "len(L) - win_size + 1"
   ]
  },
  {
   "cell_type": "markdown",
   "metadata": {},
   "source": [
    "The below code generates and prints the windows. For each iteration, the current element along with the two values to its right are printed."
   ]
  },
  {
   "cell_type": "code",
   "execution_count": 27,
   "metadata": {},
   "outputs": [
    {
     "name": "stdout",
     "output_type": "stream",
     "text": [
      "[1, 1, 2]\n",
      "[1, 2, 4]\n",
      "[2, 4, 5]\n",
      "[4, 5, 6]\n",
      "[5, 6, 7]\n",
      "[6, 7, 4]\n",
      "[7, 4, 5]\n",
      "[4, 5, 1]\n",
      "[5, 1, 2]\n",
      "[1, 2, 3]\n",
      "[2, 3, 4]\n",
      "[3, 4, 5]\n",
      "Total Windows : 12\n"
     ]
    }
   ],
   "source": [
    "# Print the windows.\n",
    "count = 0\n",
    "for i in range(len(L) - win_size + 1):\n",
    "    count += 1\n",
    "    print(L[i:i + win_size])\n",
    "print(\"Total Windows : {}\".format(count))"
   ]
  },
  {
   "cell_type": "markdown",
   "metadata": {},
   "source": [
    "Note what happens when we attempt to print windows for each element in the array. Instead of 12 windows, 11 are returned: the window for the last full set of three (2,3,4) is printed and the last two elements are skipped."
   ]
  },
  {
   "cell_type": "code",
   "execution_count": 28,
   "metadata": {},
   "outputs": [
    {
     "name": "stdout",
     "output_type": "stream",
     "text": [
      "[1, 1, 2]\n",
      "[1, 2, 4]\n",
      "[2, 4, 5]\n",
      "[4, 5, 6]\n",
      "[5, 6, 7]\n",
      "[6, 7, 4]\n",
      "[7, 4, 5]\n",
      "[4, 5, 1]\n",
      "[5, 1, 2]\n",
      "[1, 2, 3]\n",
      "[2, 3, 4]\n",
      "Total Windows : 11\n"
     ]
    }
   ],
   "source": [
    "count = 0\n",
    "for i in range(len(L) - win_size):\n",
    "    count += 1\n",
    "    print(L[i:i + win_size])\n",
    "print(\"Total Windows : {}\".format(count))"
   ]
  },
  {
   "cell_type": "markdown",
   "metadata": {},
   "source": [
    "Next, the windows are appended to an empty array."
   ]
  },
  {
   "cell_type": "code",
   "execution_count": 29,
   "metadata": {
    "scrolled": true
   },
   "outputs": [
    {
     "data": {
      "text/plain": [
       "[[1, 1, 2],\n",
       " [1, 2, 4],\n",
       " [2, 4, 5],\n",
       " [4, 5, 6],\n",
       " [5, 6, 7],\n",
       " [6, 7, 4],\n",
       " [7, 4, 5],\n",
       " [4, 5, 1],\n",
       " [5, 1, 2],\n",
       " [1, 2, 3],\n",
       " [2, 3, 4]]"
      ]
     },
     "execution_count": 29,
     "metadata": {},
     "output_type": "execute_result"
    }
   ],
   "source": [
    "# For accumulating the windows.\n",
    "wins = []\n",
    "\n",
    "# Generate the windows\n",
    "for i in range(len(L) - win_size):\n",
    "    wins.append(L[i:i + win_size])\n",
    "\n",
    "wins"
   ]
  },
  {
   "cell_type": "markdown",
   "metadata": {},
   "source": [
    "#### Step 3 : Create 2D Array from windows\n",
    "\n",
    "The next step is to create a 2D NumPy array from the windows array, as this format is required when passing input data to the Keras model creation functions later."
   ]
  },
  {
   "cell_type": "code",
   "execution_count": 30,
   "metadata": {},
   "outputs": [
    {
     "data": {
      "text/plain": [
       "array([[1, 1, 2],\n",
       "       [1, 2, 4],\n",
       "       [2, 4, 5],\n",
       "       [4, 5, 6],\n",
       "       [5, 6, 7],\n",
       "       [6, 7, 4],\n",
       "       [7, 4, 5],\n",
       "       [4, 5, 1],\n",
       "       [5, 1, 2],\n",
       "       [1, 2, 3],\n",
       "       [2, 3, 4]])"
      ]
     },
     "execution_count": 30,
     "metadata": {},
     "output_type": "execute_result"
    }
   ],
   "source": [
    "# Create a 2D numpy array from wins.\n",
    "np.stack(wins)"
   ]
  },
  {
   "cell_type": "markdown",
   "metadata": {},
   "source": [
    "#### Step 4: Repeat to create windows for NAB Dataset\n",
    "\n",
    "Below, the steps detailed in the previous sections are repeated to create windows from the NAB small_noise dataset.\n",
    "\n",
    "The function takes two parameters, the array to be processed and the window size. It loops through each element in the array and creates a window, stopping at the last element from which a full window of 288 elements can be created. The resulting data is then converted to a 2-dimensional NumPy array."
   ]
  },
  {
   "cell_type": "code",
   "execution_count": 31,
   "metadata": {},
   "outputs": [],
   "source": [
    "\n",
    "def windows(vals, N=window_size):\n",
    "  # Initialize array to hold values\n",
    "  L = []\n",
    "  # Loop through data\n",
    "  for i in range(len(vals) - N + 1):\n",
    "    # Create new window and add to array\n",
    "    L.append(vals[i:i+N])\n",
    "  # Stack\n",
    "  return np.stack(L)"
   ]
  },
  {
   "cell_type": "markdown",
   "metadata": {},
   "source": [
    "Below, the preprocessed data (subtracted mean,divided by standard deviation) is passed to the function. The output is a 2D array, consisting of 3745 windows of 288 data points each. The window count goes up to 3745 as this is the last element with 287 elements to its right."
   ]
  },
  {
   "cell_type": "code",
   "execution_count": 32,
   "metadata": {
    "scrolled": false
   },
   "outputs": [
    {
     "name": "stdout",
     "output_type": "stream",
     "text": [
      "Total Windows : 3745\n",
      "Elements per Window : 288\n",
      "287\n"
     ]
    }
   ],
   "source": [
    "\n",
    "x_train= windows(df_train_vals);\n",
    "print(\"Total Windows : {}\".format(x_train.shape[0]))\n",
    "print(\"Elements per Window : {}\".format(x_train.shape[1]))\n",
    "\n",
    "#Subtract total windows from total values in data set, \n",
    "#expecting that last window is created for last element with 287 values after it, i.e. full window\n",
    "print(4032-3745)"
   ]
  },
  {
   "cell_type": "markdown",
   "metadata": {},
   "source": [
    "#### Step 5: Plot X Train Dataset\n",
    "\n",
    "The final preprocessing step is to conduct some sanity checks on the x-train data and visualize the dataset with a plot.\n",
    "\n",
    "##### Sanity Check"
   ]
  },
  {
   "cell_type": "code",
   "execution_count": 33,
   "metadata": {},
   "outputs": [
    {
     "data": {
      "text/plain": [
       "(array([-0.85882857]), array([-0.8460886]))"
      ]
     },
     "execution_count": 33,
     "metadata": {},
     "output_type": "execute_result"
    }
   ],
   "source": [
    "# Get the first and last datapoint in first and last windows\n",
    "# Last : Window 3744, element at index 287\n",
    "\n",
    "x_train[0][0], x_train[-1][-1]"
   ]
  },
  {
   "cell_type": "code",
   "execution_count": 34,
   "metadata": {},
   "outputs": [
    {
     "data": {
      "text/plain": [
       "(value   -0.858829\n",
       " Name: 2014-04-01 00:00:00, dtype: float64,\n",
       " value   -0.846089\n",
       " Name: 2014-04-14 23:55:00, dtype: float64)"
      ]
     },
     "execution_count": 34,
     "metadata": {},
     "output_type": "execute_result"
    }
   ],
   "source": [
    "# Get first and last element of original dataset, ensure they match\n",
    "df_train_vals.iloc[0], df_train_vals.iloc[-1]"
   ]
  },
  {
   "cell_type": "markdown",
   "metadata": {},
   "source": [
    "Based on the above, we can conclude all data points in the original training dataframe have been copied to the x_train array, as the first and last values in both are consistent."
   ]
  },
  {
   "cell_type": "markdown",
   "metadata": {},
   "source": [
    "##### Plot\n",
    "\n",
    "Next, the full training dataset is plotted (values and cumulative counts).  \n",
    "\n",
    "The first and last windows will be plotted in different colours to illustrate the distribution of values over a full day.\n",
    "\n",
    "As mentioned above, a 2D Numpy array is required as input to the Keras modelling function. However, we require the windows to be one-dimensional for use in plotting. This can be achieved using the numpy flatten method. "
   ]
  },
  {
   "cell_type": "code",
   "execution_count": 35,
   "metadata": {},
   "outputs": [
    {
     "data": {
      "text/plain": [
       "array([-0.85882857, -0.72899302, -0.84814772, -0.72958579, -0.731173  ,\n",
       "       -0.75730984, -0.77645641, -0.7880838 , -0.747012  , -0.829166  ,\n",
       "       -0.80377285, -0.7821597 , -0.81182078, -0.80949918, -0.82334701,\n",
       "       -0.79001779, -0.74922405, -0.84169024, -0.73727717, -0.77223023,\n",
       "       -0.75311352, -0.79116337, -0.75934728, -0.86809294, -0.75381057,\n",
       "       -0.86468256, -0.74361965, -0.72908121, -0.82850668, -0.84043795,\n",
       "       -0.76136364, -0.8343536 , -0.74708881, -0.85574949, -0.85245676,\n",
       "       -0.73090636, -0.77440264, -0.74974936, -0.82419543, -0.77402585,\n",
       "       -0.78574242, -0.7844733 , -0.77316412, -0.78843253, -0.80927467,\n",
       "       -0.83109167, -0.76090519, -0.83816509, -0.77176485, -0.83715923,\n",
       "       -0.78131343, -0.76396862, -0.83924191, -0.86186112, -0.85174179,\n",
       "       -0.78406773, -0.74938477, -0.86399047, -0.76581026, -0.82177506,\n",
       "       -0.80222751, -0.73807119, -0.82310669, -0.80410682, -0.86845167,\n",
       "       -0.85877599, -0.83356075, -0.86643297, -0.78045221, -0.8096542 ,\n",
       "       -0.79230956, -0.84551986, -0.82824105, -0.77582935, -0.73287933,\n",
       "       -0.86321832, -0.74355256, -0.7882157 , -0.79006227, -0.79912888,\n",
       "       -0.86051472, -0.85759665, -0.78479216, -0.82182635, -0.73972257,\n",
       "       -0.81247611, -0.84998837, -0.76857869, -0.82860841, -0.79553994,\n",
       "       -0.77098436, -0.74214503, -0.75754161, -0.77404332, -0.77357716,\n",
       "       -0.73564002, -0.82825643, -0.8702425 , -0.83165699, -0.83935909,\n",
       "       -0.77611284, -0.78011937, -0.78585361, -0.86808681, -0.76657575,\n",
       "       -0.82430925, -0.7756539 , -0.79110813,  0.83423034,  0.73340436,\n",
       "        0.71395293,  1.07098925,  1.11307181,  0.98296271,  0.71831972,\n",
       "        0.86295228,  1.02130195,  1.04594803,  0.72548104,  0.66823317,\n",
       "        1.36958529,  1.17305538,  1.11661005,  0.98307138,  1.27459976,\n",
       "        1.44642694,  1.50528567,  1.28866513,  1.26031743,  1.02295817,\n",
       "        1.27933882,  1.18598059,  1.3813925 ,  1.25767699,  1.1736019 ,\n",
       "        1.09127902,  1.21586925,  1.09223039,  1.13768838,  1.59675342,\n",
       "        1.28904484,  1.33876025,  1.53233922,  1.60141677,  1.38146244,\n",
       "        1.51223576,  1.23588256,  1.22381772,  1.2790048 ,  1.43257027,\n",
       "        1.43808241,  1.22922231,  1.12561563,  1.40974009,  1.12283575,\n",
       "        1.37905941,  1.44731563,  1.45141157,  1.48152744,  1.54954504,\n",
       "        1.33709539,  1.46829683,  1.4050141 ,  1.15859057,  1.06689361,\n",
       "        1.21436719,  1.30466379,  1.40383661,  1.53708371,  1.16457702,\n",
       "        1.12429225,  1.60177134,  1.11431721,  1.32540935,  1.38642273,\n",
       "        1.36124227,  1.10177385,  1.08524575,  1.1128578 ,  1.38643638,\n",
       "        1.36304532,  1.18604649,  1.41628631,  1.52016681,  1.07654239,\n",
       "        1.33670957,  1.44565443,  1.19662931,  1.22823281,  1.40253218,\n",
       "        1.56454005,  1.51438674,  1.38516952,  1.46899077,  1.26076513,\n",
       "        1.41812743,  1.31852542,  1.16110478,  1.45275926,  1.36997393,\n",
       "        1.25723151,  1.57220199,  1.06479764,  1.23281399,  1.08528647,\n",
       "        1.48968441,  1.45297419,  1.24169607,  1.43790453,  1.2785004 ,\n",
       "        1.48382995,  1.31169265,  1.28781332,  1.58553613,  1.19583776,\n",
       "        1.12151008, -0.35250349, -0.26479567, -0.39962031, -0.47160544,\n",
       "       -0.40840388, -0.37042247, -0.44883702, -0.33573617, -0.25831579,\n",
       "       -0.38277522, -0.40488824, -0.39440839, -0.77509723, -0.65253443,\n",
       "       -0.72728022, -0.73167631, -0.6882095 , -0.72293893, -0.69003755,\n",
       "       -0.78366561, -0.6636319 , -0.64340272, -0.68995268, -0.64115899,\n",
       "       -0.83292321, -0.78536741, -0.76722084, -0.77014874, -0.79644794,\n",
       "       -0.80569367, -0.83651316, -0.79786583, -0.83128515, -0.74788262,\n",
       "       -0.82454968, -0.84647101, -0.78825327, -0.78211741, -0.74251058,\n",
       "       -0.7847296 , -0.8178686 , -0.75237369, -0.78998354, -0.85597483,\n",
       "       -0.78632299, -0.73734213, -0.81059211, -0.82490508, -0.84932652,\n",
       "       -0.84818912, -0.80807162, -0.78484064, -0.8582896 , -0.73580158,\n",
       "       -0.76210229, -0.78613203, -0.75164888, -0.85835073, -0.80178754,\n",
       "       -0.77993325, -0.75220135, -0.75863962, -0.83079766, -0.73620985,\n",
       "       -0.85255954, -0.74557822, -0.73192653, -0.84503486, -0.76738913,\n",
       "       -0.86453747, -0.81250829, -0.79671155])"
      ]
     },
     "execution_count": 35,
     "metadata": {},
     "output_type": "execute_result"
    }
   ],
   "source": [
    "# \n",
    "x_train[0].flatten()"
   ]
  },
  {
   "cell_type": "code",
   "execution_count": 36,
   "metadata": {},
   "outputs": [
    {
     "data": {
      "image/png": "[encoded data removed]",
      "text/plain": [
       "<Figure size 1152x288 with 1 Axes>"
      ]
     },
     "metadata": {
      "needs_background": "light"
     },
     "output_type": "display_data"
    }
   ],
   "source": [
    "# Index for first and last window starting points\n",
    "first_window = 0\n",
    "last_window = 3744\n",
    "\n",
    "# Generate Plot\n",
    "fig, ax = plt.subplots(figsize=(16, 4))\n",
    "\n",
    "# Y axis - processed values in data frame\n",
    "y = df_train_vals['value'].values\n",
    "\n",
    "# Plot data - x axis represents cumulative value counts - 0 - 4032\n",
    "ax.plot(np.arange(y.shape[0]), y, label='signal')\n",
    "\n",
    "# Get elems for first and last window, flatten them so they can be plotted\n",
    "w = x_train[first_window].flatten()\n",
    "w2 = x_train[last_window].flatten()\n",
    "\n",
    "# Plot first and last windows\n",
    "# Starting point on x axis - first element in window \n",
    "# Length - 288\n",
    "ax.plot(np.arange(w.shape[0]) + first_window, w, label='First')\n",
    "ax.plot(np.arange(w2.shape[0]) + last_window, w, label='Last')\n",
    "\n",
    "ax.legend(loc = \"upper right\");\n",
    "\n",
    "ax.set_title(\"Training Data with First and Last Windows\");"
   ]
  },
  {
   "cell_type": "markdown",
   "metadata": {},
   "source": [
    "## Neural Network\n",
    "\n",
    "***"
   ]
  },
  {
   "cell_type": "markdown",
   "metadata": {},
   "source": [
    "#### Type of Neural Network : Convolutional Reconstruction Autoencoder\n",
    "\n",
    "The model created to reconstruct our data set is a convolutional reconstruction autoencoder.\n",
    "This means that the neural network contains specialized layers called convolutional layers, which are intended to identify patterns in data. They receive input, transform it and output the transformed data to the next layer [9].\n",
    "\n",
    "\n",
    "A Reconstruction Autoencoder model is trained to copy its input to its output. A frequent use case for this type of model is image reconstruction; for example, given an image of a handwritten digit, the autoencoder converts the image to a lower-level compressed representation, then decodes this representation back to an image, while minimizing reconstruction error [9]. In our case, the autoencoder model is being trained to recognize and recreate daily patterns in our dataset.\n",
    "\n",
    "##### Keras Keywords for  Layer Creation\n",
    "\n",
    "- **Input**: This is the input layer, which takes input of shape (batch_size, sequence_length, features).The sequence_length is set to 288, which is our total number of samples per day, and features is set to 1, as we only are dealing with one data point. The output of the model should have the same shape as the input.\n",
    "\n",
    "\n",
    "- **Convolutional Layers**: As mentioned above, the convolutional layers apply a convolutional operation to the input data,and the result is supplied as input to the next layer.\n",
    "    - **Filter and Kernel Size**: The input data is transformed by filters, which act like sliding windows over the data set; each window works independently on the data set. Kernel size corresponds to the size of the window; therefore, our first layer consists of 32 filters of size 7, and the second layer consists of 16. \n",
    "    - **Padding**: The padding parameter is set to \"same\" in our model, meaning that the output will be padded with 0s to ensure it has the same size as the input.\n",
    "    - **Strides**: The stride is the step size as the filter moves across the dataset, i.e. two elements to the right in this case.\n",
    "    - **Activation** : The activation function in a neural network is responsible for transforming the input data for each node in the network to the output for that node. In the below case, the relu, or Rectified Linear Activation function is used. This is the default activation function for many types of neural network as it is relatively easy to train and often achieves better performance than other functions. The function will directly output the input value if the input is positive, otherwise it will output 0 [10].\n",
    "    \n",
    "    \n",
    "- **Dropout**: The dropout function in Keras randomly sets input units to 0, in in this case with a frequency rate of 0.2 per step during the training process. This helps to prevent overfitting, which is when the model memorizes the noise and fits too closely to the training data set, which will affect its ability to adapt to new input data."
   ]
  },
  {
   "cell_type": "code",
   "execution_count": 37,
   "metadata": {},
   "outputs": [],
   "source": [
    "# Create Model to identify patterns in/recreate dataset\n",
    "layers = [\n",
    "  #Input - generate input tensor with sequence size 288, and number features 1\n",
    "    keras.layers.Input(shape=(x_train.shape[1], x_train.shape[2])),\n",
    "  #Create first convolutional layer to act on input data\n",
    "  keras.layers.Conv1D(\n",
    "    filters=32, kernel_size=7, padding=\"same\", strides=2, activation=\"relu\"),\n",
    "  #Dropout - add 0s into data to prevent overfitting\n",
    "  keras.layers.Dropout(rate=0.2),\n",
    "  #Create second convolutional layer\n",
    "  keras.layers.Conv1D(\n",
    "    filters=16, kernel_size=7, padding=\"same\", strides=2, activation=\"relu\"),\n",
    "  #The transpose function inverts the output of the convolution layers and \n",
    "  #reconstructs the original input\n",
    "  #Autoencoder models - learn output and decode into the original input values\n",
    "  keras.layers.Conv1DTranspose(\n",
    "    filters=16, kernel_size=7, padding=\"same\", strides=2, activation=\"relu\"),\n",
    "  keras.layers.Dropout(rate=0.2),\n",
    "  keras.layers.Conv1DTranspose(\n",
    "    filters=32, kernel_size=7, padding=\"same\", strides=2, activation=\"relu\"),\n",
    "  keras.layers.Conv1DTranspose(filters=1, kernel_size=7, padding=\"same\"),\n",
    "]"
   ]
  },
  {
   "cell_type": "markdown",
   "metadata": {},
   "source": [
    "#### Optimization and Compilation of Model"
   ]
  },
  {
   "cell_type": "markdown",
   "metadata": {},
   "source": [
    "When the layers have been defined, we can create the model, passing the array of layers as an argument to the initialization function.\n",
    "\n",
    "Below, a sequential model is initiated. This is one of the more basic model types offered by Keras, consisting simply of a sequence of layers,one after the other. "
   ]
  },
  {
   "cell_type": "code",
   "execution_count": 38,
   "metadata": {},
   "outputs": [],
   "source": [
    "# Create model\n",
    "model = keras.Sequential(layers)"
   ]
  },
  {
   "cell_type": "markdown",
   "metadata": {},
   "source": [
    "Next, an optimizer is defined. These are used to change aspects of the model such as weights and learning rates in order to minimize its cost function. \n",
    "\n",
    "One type of algorithm used for this purpose is called Gradient Descent. The term gradient descent refers to the changes to the model that move it along a slope or gradient in a graph toward the lowest possible error value. Each time the algorithm is run, it moves stepwise towards in the direction of the steepest descent (negative). The size of each step is called the learning rate. Larger steps allow for a higher learning rate, but may be less precise, while smaller steps allow for greater precision but are more time-consuming to run on larger datasets [11]. \n",
    "\n",
    "The Adaptive Movement Estimation (Adam) algorithm, which is the optimizer used for this model, is an extension to Gradient Descent. One limitation of traditional Gradient Descent algorithms is that a single learning rate is used for all input values. Adam automatically adapts the learning rate for each input variable by tracking the exponential moving averages of the gradient (first moment) and the square of the gradients (second moment). Consequently, the Adam algorithm generally achieves better results than other optimization algorithms, have faster processing times and require less parameters for fine tuning. Therefore, Adam is recommended as the default optimiser for most applications [12]"
   ]
  },
  {
   "cell_type": "code",
   "execution_count": 39,
   "metadata": {},
   "outputs": [],
   "source": [
    "# Create Optimizer\n",
    "# Learning rate is kept at default value - small steps\n",
    "optimizer = keras.optimizers.Adam(learning_rate=0.001)"
   ]
  },
  {
   "cell_type": "markdown",
   "metadata": {},
   "source": [
    "Next, the model is compiled. During compilation, the model is checked for errors, and the optimizer and loss functions are defined. Loss functions are special types of function that help minimize the error and reach as close as possible to the expected output. The loss function used for this model is Mean Standard Error (MSE). This function assesses the average squared difference between the observed (actual) values and those predicted by the model. When a model has no error, the MSE equals 0, and the MSE value increases as the error does [13]."
   ]
  },
  {
   "cell_type": "code",
   "execution_count": 40,
   "metadata": {},
   "outputs": [],
   "source": [
    "# Compile model\n",
    "model.compile(optimizer=optimizer, loss=\"mse\")"
   ]
  },
  {
   "cell_type": "markdown",
   "metadata": {},
   "source": [
    "Below a summary of the compiled model is printed.\n",
    "\n",
    "The summary can be interpreted as follows:\n",
    "- **Output Shape**: Shape of output for each layer, the structure is the same as input (batch size, sequence length,features). The features corresponds to the filter number set for the layer. Note that for the conv1d layer the sequence length corresponds to half the total number of samples per day, as the stride length was set to 2. We can see that the final output has the same shape as the input layer, meaning the model should be reconstructing the original input data.\n",
    "- **Param #**: Total parameters trained for each layer. The total parameters are obtained by multiplying the filter value by the kernel size and adding the bias (total filters in layer), e.g. 32*7+32 = 256\n",
    "- **Trainable/Non-Trainable Parameters**: Trainable parameters have their values adjusted/modified during training in accordance to their gradient, while non-trainable parameters are those that are kept constant and not adjusted during training. Two potential types of non-trainable parameter include:\n",
    "    - Parameters we choose to keep constant during training, by setting the trainable boolean for the layer to false.\n",
    "    - The Batch Normalization layer, which is used to normalize input data, has built-in non-trainable weights. These are used to keep track of the mean and variance of input data during training [14].\n",
    "    - In our model, all parameters are trainable."
   ]
  },
  {
   "cell_type": "code",
   "execution_count": 41,
   "metadata": {
    "scrolled": false
   },
   "outputs": [
    {
     "name": "stdout",
     "output_type": "stream",
     "text": [
      "Model: \"sequential\"\n",
      "_________________________________________________________________\n",
      "Layer (type)                 Output Shape              Param #   \n",
      "=================================================================\n",
      "conv1d (Conv1D)              (None, 144, 32)           256       \n",
      "_________________________________________________________________\n",
      "dropout (Dropout)            (None, 144, 32)           0         \n",
      "_________________________________________________________________\n",
      "conv1d_1 (Conv1D)            (None, 72, 16)            3600      \n",
      "_________________________________________________________________\n",
      "conv1d_transpose (Conv1DTran (None, 144, 16)           1808      \n",
      "_________________________________________________________________\n",
      "dropout_1 (Dropout)          (None, 144, 16)           0         \n",
      "_________________________________________________________________\n",
      "conv1d_transpose_1 (Conv1DTr (None, 288, 32)           3616      \n",
      "_________________________________________________________________\n",
      "conv1d_transpose_2 (Conv1DTr (None, 288, 1)            225       \n",
      "=================================================================\n",
      "Total params: 9,505\n",
      "Trainable params: 9,505\n",
      "Non-trainable params: 0\n",
      "_________________________________________________________________\n"
     ]
    }
   ],
   "source": [
    "model.summary()"
   ]
  },
  {
   "cell_type": "markdown",
   "metadata": {},
   "source": [
    "#### Fitting the Model\n",
    "\n",
    "This step trains the model by slicing the input data into batches of a defined size, and repeatedly iterating over the dataset for a given number of epochs (iterations). \n",
    "\n",
    "The below code applies the fit function to our newly created model. Note that the x_train data is used for both training and target output, as we are trying to train the model to recognize and recreate the patterns in the small_noise data set. \n",
    "\n",
    "The funtion will iterate over the dataset 50 times, and the given batch size is 128. \n",
    "\n",
    "A validation split of 0.1 is specified; this means that 90% of the data will be used for training and 10% will be used for validation. This is required because using the training data to evaluate the performance of the model would result in a biased score. Instead, a portion of the data is isolated from the training set and used solely to evaluate the model, resulting in an unbiased assessment of performance. This is often called a train-test split approach to model evaluation [15].\n",
    "\n",
    "##### Callbacks - EarlyStopping\n",
    "Callbacks in Keras provide a way to execute code and interact with the training process automatically. The type of callback used for this model is EarlyStopping, which allows you to specify the performance monitor to trigger, and once triggered, this will stop the training process [16]. In the below code, the callbacks are set to monitor validation loss, which evaluates performance of the model on the validation data set. The mode is set to min, which means the epoch will terminate when the minimum loss value is found. Patience refers to the number of epochs with no improvement before which training will be stopped. For this model, it has been set to 5, meaning training will stop after 5 iterations with no improvement to the validation loss. "
   ]
  },
  {
   "cell_type": "code",
   "execution_count": 42,
   "metadata": {
    "scrolled": false
   },
   "outputs": [
    {
     "name": "stdout",
     "output_type": "stream",
     "text": [
      "Epoch 1/50\n",
      "27/27 [==============================] - 3s 108ms/step - loss: 0.4725 - val_loss: 0.0633\n",
      "Epoch 2/50\n",
      "27/27 [==============================] - 2s 87ms/step - loss: 0.0784 - val_loss: 0.0463\n",
      "Epoch 3/50\n",
      "27/27 [==============================] - 2s 89ms/step - loss: 0.0582 - val_loss: 0.0361\n",
      "Epoch 4/50\n",
      "27/27 [==============================] - 2s 86ms/step - loss: 0.0502 - val_loss: 0.0318\n",
      "Epoch 5/50\n",
      "27/27 [==============================] - 2s 85ms/step - loss: 0.0442 - val_loss: 0.0283\n",
      "Epoch 6/50\n",
      "27/27 [==============================] - 2s 81ms/step - loss: 0.0386 - val_loss: 0.0256\n",
      "Epoch 7/50\n",
      "27/27 [==============================] - 2s 75ms/step - loss: 0.0340 - val_loss: 0.0233\n",
      "Epoch 8/50\n",
      "27/27 [==============================] - 2s 79ms/step - loss: 0.0305 - val_loss: 0.0232\n",
      "Epoch 9/50\n",
      "27/27 [==============================] - 2s 73ms/step - loss: 0.0278 - val_loss: 0.0228\n",
      "Epoch 10/50\n",
      "27/27 [==============================] - 2s 72ms/step - loss: 0.0257 - val_loss: 0.0222\n",
      "Epoch 11/50\n",
      "27/27 [==============================] - 2s 75ms/step - loss: 0.0241 - val_loss: 0.0206\n",
      "Epoch 12/50\n",
      "27/27 [==============================] - 2s 72ms/step - loss: 0.0227 - val_loss: 0.0203\n",
      "Epoch 13/50\n",
      "27/27 [==============================] - 2s 75ms/step - loss: 0.0215 - val_loss: 0.0200\n",
      "Epoch 14/50\n",
      "27/27 [==============================] - 2s 78ms/step - loss: 0.0206 - val_loss: 0.0186\n",
      "Epoch 15/50\n",
      "27/27 [==============================] - 2s 76ms/step - loss: 0.0199 - val_loss: 0.0178\n",
      "Epoch 16/50\n",
      "27/27 [==============================] - 2s 73ms/step - loss: 0.0190 - val_loss: 0.0186\n",
      "Epoch 17/50\n",
      "27/27 [==============================] - 2s 75ms/step - loss: 0.0184 - val_loss: 0.0169\n",
      "Epoch 18/50\n",
      "27/27 [==============================] - 2s 81ms/step - loss: 0.0178 - val_loss: 0.0167\n",
      "Epoch 19/50\n",
      "27/27 [==============================] - 3s 103ms/step - loss: 0.0172 - val_loss: 0.0169\n",
      "Epoch 20/50\n",
      "27/27 [==============================] - 3s 125ms/step - loss: 0.0166 - val_loss: 0.0159\n",
      "Epoch 21/50\n",
      "27/27 [==============================] - 2s 89ms/step - loss: 0.0160 - val_loss: 0.0150\n",
      "Epoch 22/50\n",
      "27/27 [==============================] - 2s 83ms/step - loss: 0.0154 - val_loss: 0.0141\n",
      "Epoch 23/50\n",
      "27/27 [==============================] - 3s 97ms/step - loss: 0.0148 - val_loss: 0.0151\n",
      "Epoch 24/50\n",
      "27/27 [==============================] - 3s 104ms/step - loss: 0.0141 - val_loss: 0.0137\n",
      "Epoch 25/50\n",
      "27/27 [==============================] - 3s 97ms/step - loss: 0.0135 - val_loss: 0.0126\n",
      "Epoch 26/50\n",
      "27/27 [==============================] - 2s 84ms/step - loss: 0.0129 - val_loss: 0.0119\n",
      "Epoch 27/50\n",
      "27/27 [==============================] - 2s 85ms/step - loss: 0.0124 - val_loss: 0.0120\n",
      "Epoch 28/50\n",
      "27/27 [==============================] - 2s 82ms/step - loss: 0.0119 - val_loss: 0.0116\n",
      "Epoch 29/50\n",
      "27/27 [==============================] - 2s 78ms/step - loss: 0.0114 - val_loss: 0.0109\n",
      "Epoch 30/50\n",
      "27/27 [==============================] - 2s 87ms/step - loss: 0.0110 - val_loss: 0.0106\n",
      "Epoch 31/50\n",
      "27/27 [==============================] - 2s 67ms/step - loss: 0.0107 - val_loss: 0.0092\n",
      "Epoch 32/50\n",
      "27/27 [==============================] - 2s 68ms/step - loss: 0.0102 - val_loss: 0.0093\n",
      "Epoch 33/50\n",
      "27/27 [==============================] - 2s 68ms/step - loss: 0.0100 - val_loss: 0.0093\n",
      "Epoch 34/50\n",
      "27/27 [==============================] - 2s 78ms/step - loss: 0.0097 - val_loss: 0.0077\n",
      "Epoch 35/50\n",
      "27/27 [==============================] - 2s 90ms/step - loss: 0.0094 - val_loss: 0.0073\n",
      "Epoch 36/50\n",
      "27/27 [==============================] - 3s 105ms/step - loss: 0.0091 - val_loss: 0.0075\n",
      "Epoch 37/50\n",
      "27/27 [==============================] - 2s 88ms/step - loss: 0.0088 - val_loss: 0.0066\n",
      "Epoch 38/50\n",
      "27/27 [==============================] - 2s 83ms/step - loss: 0.0086 - val_loss: 0.0066\n",
      "Epoch 39/50\n",
      "27/27 [==============================] - 3s 99ms/step - loss: 0.0083 - val_loss: 0.0068\n",
      "Epoch 40/50\n",
      "27/27 [==============================] - 2s 86ms/step - loss: 0.0081 - val_loss: 0.0061\n",
      "Epoch 41/50\n",
      "27/27 [==============================] - 2s 81ms/step - loss: 0.0079 - val_loss: 0.0062\n",
      "Epoch 42/50\n",
      "27/27 [==============================] - 3s 101ms/step - loss: 0.0078 - val_loss: 0.0056: 1s -\n",
      "Epoch 43/50\n",
      "27/27 [==============================] - 3s 93ms/step - loss: 0.0076 - val_loss: 0.0053\n",
      "Epoch 44/50\n",
      "27/27 [==============================] - 2s 90ms/step - loss: 0.0075 - val_loss: 0.0054\n",
      "Epoch 45/50\n",
      "27/27 [==============================] - 3s 98ms/step - loss: 0.0073 - val_loss: 0.0051\n",
      "Epoch 46/50\n",
      "27/27 [==============================] - 3s 115ms/step - loss: 0.0072 - val_loss: 0.0053\n",
      "Epoch 47/50\n",
      "27/27 [==============================] - 3s 108ms/step - loss: 0.0070 - val_loss: 0.0052\n",
      "Epoch 48/50\n",
      "27/27 [==============================] - 2s 85ms/step - loss: 0.0069 - val_loss: 0.0052\n",
      "Epoch 49/50\n",
      "27/27 [==============================] - 2s 81ms/step - loss: 0.0069 - val_loss: 0.0048\n",
      "Epoch 50/50\n",
      "27/27 [==============================] - 2s 77ms/step - loss: 0.0067 - val_loss: 0.0050\n"
     ]
    }
   ],
   "source": [
    "# \n",
    "history = model.fit(\n",
    "    x_train,\n",
    "    x_train,\n",
    "    epochs=50,\n",
    "    batch_size=128,\n",
    "    validation_split=0.1,\n",
    "    callbacks=[\n",
    "        keras.callbacks.EarlyStopping(monitor=\"val_loss\", patience=5, mode=\"min\")\n",
    "    ],\n",
    ")"
   ]
  },
  {
   "cell_type": "markdown",
   "metadata": {},
   "source": [
    "Above, the results of the epochs are printed. The loss value refers to the performance of the model on the training set, and as mentioned above the val_loss metric indicates its performance on the validation set. "
   ]
  },
  {
   "cell_type": "markdown",
   "metadata": {},
   "source": [
    "## Evaluation\n",
    "\n",
    "***"
   ]
  },
  {
   "cell_type": "markdown",
   "metadata": {},
   "source": [
    "The Keras history object can be used to assess the results of the training step. History is another form of Keras callback that is automatically applied to each epoch, and tracks two values, the loss and validation loss."
   ]
  },
  {
   "cell_type": "code",
   "execution_count": 43,
   "metadata": {},
   "outputs": [
    {
     "name": "stdout",
     "output_type": "stream",
     "text": [
      "dict_keys(['loss', 'val_loss'])\n"
     ]
    }
   ],
   "source": [
    "print(history.history.keys())"
   ]
  },
  {
   "cell_type": "markdown",
   "metadata": {},
   "source": [
    "If we print the values for loss and val_loss, we can see the performance of the model at each epoch."
   ]
  },
  {
   "cell_type": "code",
   "execution_count": 44,
   "metadata": {
    "scrolled": false
   },
   "outputs": [
    {
     "data": {
      "text/plain": [
       "[0.4725233018398285,\n",
       " 0.07835064083337784,\n",
       " 0.05821758136153221,\n",
       " 0.050213273614645004,\n",
       " 0.04418591782450676,\n",
       " 0.03863789513707161,\n",
       " 0.033999182283878326,\n",
       " 0.030524753034114838,\n",
       " 0.027778886258602142,\n",
       " 0.02570372074842453,\n",
       " 0.024085070937871933,\n",
       " 0.022655785083770752,\n",
       " 0.02154063619673252,\n",
       " 0.020634295418858528,\n",
       " 0.019870178773999214,\n",
       " 0.019029663875699043,\n",
       " 0.018397068604826927,\n",
       " 0.01779857464134693,\n",
       " 0.01720331609249115,\n",
       " 0.01655946671962738,\n",
       " 0.015995454043149948,\n",
       " 0.015388731844723225,\n",
       " 0.014754465781152248,\n",
       " 0.014093765057623386,\n",
       " 0.013480966910719872,\n",
       " 0.01289669144898653,\n",
       " 0.012368399649858475,\n",
       " 0.011872458271682262,\n",
       " 0.011409449391067028,\n",
       " 0.011020551435649395,\n",
       " 0.010670100338757038,\n",
       " 0.010246187448501587,\n",
       " 0.009971980936825275,\n",
       " 0.009656460955739021,\n",
       " 0.009382886812090874,\n",
       " 0.009074120782315731,\n",
       " 0.008812317624688148,\n",
       " 0.008554615080356598,\n",
       " 0.00830012559890747,\n",
       " 0.008118627592921257,\n",
       " 0.007883857004344463,\n",
       " 0.007802863139659166,\n",
       " 0.007600878365337849,\n",
       " 0.007463506888598204,\n",
       " 0.007341388147324324,\n",
       " 0.007216245401650667,\n",
       " 0.007038887124508619,\n",
       " 0.006916765123605728,\n",
       " 0.006863183341920376,\n",
       " 0.006728060077875853]"
      ]
     },
     "execution_count": 44,
     "metadata": {},
     "output_type": "execute_result"
    }
   ],
   "source": [
    "history.history[\"loss\"]"
   ]
  },
  {
   "cell_type": "code",
   "execution_count": 45,
   "metadata": {},
   "outputs": [
    {
     "data": {
      "text/plain": [
       "[0.0633307471871376,\n",
       " 0.04625748097896576,\n",
       " 0.03606139123439789,\n",
       " 0.03177783638238907,\n",
       " 0.02827225811779499,\n",
       " 0.025587569922208786,\n",
       " 0.023322880268096924,\n",
       " 0.02317580208182335,\n",
       " 0.022845378145575523,\n",
       " 0.022152936086058617,\n",
       " 0.020571008324623108,\n",
       " 0.020271677523851395,\n",
       " 0.020031685009598732,\n",
       " 0.018598301336169243,\n",
       " 0.017845813184976578,\n",
       " 0.01855018176138401,\n",
       " 0.016856158152222633,\n",
       " 0.016699805855751038,\n",
       " 0.016926636919379234,\n",
       " 0.015917139127850533,\n",
       " 0.014984235167503357,\n",
       " 0.01410964597016573,\n",
       " 0.015142743475735188,\n",
       " 0.013675118796527386,\n",
       " 0.012644012458622456,\n",
       " 0.011902272701263428,\n",
       " 0.011970259249210358,\n",
       " 0.01156945526599884,\n",
       " 0.010865144431591034,\n",
       " 0.010584302246570587,\n",
       " 0.009243311360478401,\n",
       " 0.00933930929750204,\n",
       " 0.009280738420784473,\n",
       " 0.007705782074481249,\n",
       " 0.0073077622801065445,\n",
       " 0.007540605962276459,\n",
       " 0.00658595934510231,\n",
       " 0.006571781821548939,\n",
       " 0.006774340756237507,\n",
       " 0.006061099935323,\n",
       " 0.006176586728543043,\n",
       " 0.005573373753577471,\n",
       " 0.005316702648997307,\n",
       " 0.005408511031419039,\n",
       " 0.005116247106343508,\n",
       " 0.005345838610082865,\n",
       " 0.005207434296607971,\n",
       " 0.0052010114304721355,\n",
       " 0.004764952231198549,\n",
       " 0.0050178891979157925]"
      ]
     },
     "execution_count": 45,
     "metadata": {},
     "output_type": "execute_result"
    }
   ],
   "source": [
    "history.history[\"val_loss\"]"
   ]
  },
  {
   "cell_type": "markdown",
   "metadata": {},
   "source": [
    "Below, the training and validation loss data sets are plotted together, to give a visual representation of the effect of training on model performance."
   ]
  },
  {
   "cell_type": "code",
   "execution_count": 46,
   "metadata": {},
   "outputs": [
    {
     "data": {
      "image/png": "[encoded data removed]",
      "text/plain": [
       "<Figure size 720x432 with 1 Axes>"
      ]
     },
     "metadata": {
      "needs_background": "light"
     },
     "output_type": "display_data"
    }
   ],
   "source": [
    "# \n",
    "fig, ax = plt.subplots(figsize=(10, 6))\n",
    "# \n",
    "ax.plot(history.history[\"loss\"], label=\"Training Loss\")\n",
    "# \n",
    "ax.plot(history.history[\"val_loss\"], label=\"Validation Loss\")\n",
    "# \n",
    "ax.legend();"
   ]
  },
  {
   "cell_type": "markdown",
   "metadata": {},
   "source": [
    "The plot provides the following insights on our model and the impact of training: \n",
    "- After 50 epochs, both the training and validation loss are very low (close to 0), which suggests our model is able to accurately reconstruct the data set\n",
    "- The model also appears to have learned to reconstruct the data set relatively quickly, as the largest drops in training and validation loss are seen in the first 10 epochs\n",
    "- After 25-30 epochs, no discernible improvements in either training or validation loss are visible, as the values are already close to 0; we could potentially have stopped training after 30 epochs and achieved the same result."
   ]
  },
  {
   "cell_type": "markdown",
   "metadata": {},
   "source": [
    "After training, the next step is to call the predict method on the model class, and pass the x_train data as input. The expected output is a replication of the values observed in the dataset."
   ]
  },
  {
   "cell_type": "code",
   "execution_count": 47,
   "metadata": {},
   "outputs": [],
   "source": [
    "# Get train MAE loss.\n",
    "x_train_pred = model.predict(x_train)"
   ]
  },
  {
   "cell_type": "markdown",
   "metadata": {},
   "source": [
    "We can then determine how effective the model was in predicting the correct values by calculating the loss. The Mean Absolute Loss (MAE) formula is used for this purpose. MAE is the average absolute error between actual and predicted values, as opposed to MSE which uses the average squared difference between the two values. The main difference between these two methods is that MSE punishes large deviations to a greater degree than MAE, as the errors are squared instead of just calculating the distance. Hence, MSE is preferred for models where large occasional errors sohuld be minimized, while MAE is preferred for models where this is not a concern, and interpretability is a priority [17]."
   ]
  },
  {
   "cell_type": "code",
   "execution_count": 48,
   "metadata": {},
   "outputs": [],
   "source": [
    "# Calculate loss...\n",
    "train_mae_loss = np.mean(np.abs(x_train_pred - x_train), axis=1)"
   ]
  },
  {
   "cell_type": "markdown",
   "metadata": {},
   "source": [
    "Below, the MAE value for each sample in the data set is plotted."
   ]
  },
  {
   "cell_type": "code",
   "execution_count": 49,
   "metadata": {},
   "outputs": [
    {
     "data": {
      "image/png": "[encoded data removed]",
      "text/plain": [
       "<Figure size 720x432 with 1 Axes>"
      ]
     },
     "metadata": {
      "needs_background": "light"
     },
     "output_type": "display_data"
    }
   ],
   "source": [
    "# Create Plot\n",
    "fig, ax = plt.subplots(figsize=(10, 6))\n",
    "# Histogram  plotting distribution of MAE Values for each sample\n",
    "ax.hist(train_mae_loss, bins=50)\n",
    "ax.set_xlabel(\"Train MAE loss\")\n",
    "ax.set_ylabel(\"No of samples\");"
   ]
  },
  {
   "cell_type": "markdown",
   "metadata": {},
   "source": [
    "We can see that the MAE for the majority of samples is between 0.050 and 0.050.\n",
    "\n",
    "Next, we find the reconstruction loss threshold, which is the maximum MAE value observed in the training data set. This will be used later to detect anomalies in the daily jump up data; any value that is outside of this MAE threshold will be flagged as an anomaly."
   ]
  },
  {
   "cell_type": "code",
   "execution_count": 50,
   "metadata": {},
   "outputs": [
    {
     "data": {
      "text/plain": [
       "0.06394172595729354"
      ]
     },
     "execution_count": 50,
     "metadata": {},
     "output_type": "execute_result"
    }
   ],
   "source": [
    "# Get reconstruction loss threshold.\n",
    "threshold = np.max(train_mae_loss)\n",
    "\n",
    "# Print the value - any values in the daily_jump_up dataset that exceeds this MAE will be flagged as an anomaly\n",
    "threshold"
   ]
  },
  {
   "cell_type": "markdown",
   "metadata": {},
   "source": [
    "Next, the accuracy of the predictions made by our model is evaluated by plotting the predicted alongside the actual data.\n",
    "\n",
    "In the below plot, the first window of 288 values is taken from each dataset, corresponding to measurements from one 24-hour period."
   ]
  },
  {
   "cell_type": "code",
   "execution_count": 51,
   "metadata": {},
   "outputs": [
    {
     "data": {
      "image/png": "[encoded data removed]",
      "text/plain": [
       "<Figure size 720x432 with 1 Axes>"
      ]
     },
     "metadata": {
      "needs_background": "light"
     },
     "output_type": "display_data"
    }
   ],
   "source": [
    "# Initiate plot\n",
    "fig, ax = plt.subplots(figsize=(10, 6))\n",
    "\n",
    "\n",
    "#First 288 values of both datasets\n",
    "ax.plot(x_train[0], label = \"Actual Values\") \n",
    "ax.plot(x_train_pred[0], label = \"Predicted Values\");\n",
    "\n",
    "ax.set_title(\"Actual vs Predicted Daily Values\")\n",
    "\n",
    "plt.legend();"
   ]
  },
  {
   "cell_type": "markdown",
   "metadata": {},
   "source": [
    "We can see that the predicted values match the actual values quite closely, although the smaller jumps are not captured as accurately as the larger increases."
   ]
  },
  {
   "cell_type": "markdown",
   "metadata": {},
   "source": [
    "Now that we have confirmed our model can predict the patterns in the daily_small_noise data set, we can use it to detect anomalies in the daily_jumpsup data set.\n",
    "\n",
    "First, the data must be processed according to the procedure we used for the daily_small_noise data set.\n",
    "\n",
    "Below, the daily_jumpsup data set is normalized, using the same process as that followed for the daily_small_noise data."
   ]
  },
  {
   "cell_type": "code",
   "execution_count": 52,
   "metadata": {},
   "outputs": [],
   "source": [
    "# Normalize data by subtracting mean and dividing result by standard deviation\n",
    "df_test_value = (df_daily_jumpsup - train_mean) / train_std"
   ]
  },
  {
   "cell_type": "markdown",
   "metadata": {},
   "source": [
    "Next, the df_test_value dataframe is plotted to ensure the shape of the data has not been affected by the normalization."
   ]
  },
  {
   "cell_type": "code",
   "execution_count": 53,
   "metadata": {},
   "outputs": [
    {
     "data": {
      "image/png": "[encoded data removed]",
      "text/plain": [
       "<Figure size 720x432 with 1 Axes>"
      ]
     },
     "metadata": {
      "needs_background": "light"
     },
     "output_type": "display_data"
    }
   ],
   "source": [
    "# \n",
    "fig, ax = plt.subplots(figsize=(10, 6))\n",
    "\n",
    "# \n",
    "df_test_value.plot(legend=False, ax=ax);"
   ]
  },
  {
   "cell_type": "markdown",
   "metadata": {},
   "source": [
    "The data frame has maintained the correct shape, with one anomalous set of daily values.\n",
    "\n",
    "Next, we call the windows function to generate time steps/windows for the data set, and ensure that the shape/value counts match the training data set."
   ]
  },
  {
   "cell_type": "code",
   "execution_count": 54,
   "metadata": {},
   "outputs": [
    {
     "data": {
      "text/plain": [
       "(3745, 288, 1)"
      ]
     },
     "execution_count": 54,
     "metadata": {},
     "output_type": "execute_result"
    }
   ],
   "source": [
    "# Create windows for jump up data set.\n",
    "x_test = windows(df_test_value.values)\n",
    "\n",
    "x_test.shape"
   ]
  },
  {
   "cell_type": "markdown",
   "metadata": {},
   "source": [
    "The next step is to pass the test data to the model and call the predict method. The MAE loss is calculated for this dataset; as the model was trained on data without any significant jumps, we expect it will not predict the anomalous set of values, and that the MAE value for these will exceed the threshold value."
   ]
  },
  {
   "cell_type": "code",
   "execution_count": 55,
   "metadata": {},
   "outputs": [],
   "source": [
    "# Model passed daily jump up data and predict method is called\n",
    "x_test_pred = model.predict(x_test)"
   ]
  },
  {
   "cell_type": "code",
   "execution_count": 56,
   "metadata": {},
   "outputs": [
    {
     "data": {
      "text/plain": [
       "array([[0.05229745],\n",
       "       [0.0504821 ],\n",
       "       [0.05220174],\n",
       "       ...,\n",
       "       [0.05258803],\n",
       "       [0.0530771 ],\n",
       "       [0.05163327]])"
      ]
     },
     "execution_count": 56,
     "metadata": {},
     "output_type": "execute_result"
    }
   ],
   "source": [
    "# Get MAE Loss for predicted vs actual values\n",
    "test_mae_loss = np.mean(np.abs(x_test_pred - x_test), axis=1)\n",
    "\n",
    "test_mae_loss"
   ]
  },
  {
   "cell_type": "code",
   "execution_count": 57,
   "metadata": {},
   "outputs": [
    {
     "data": {
      "text/plain": [
       "array([0.05229745, 0.0504821 , 0.05220174, ..., 0.05258803, 0.0530771 ,\n",
       "       0.05163327])"
      ]
     },
     "execution_count": 57,
     "metadata": {},
     "output_type": "execute_result"
    }
   ],
   "source": [
    "#Reshape data to a 1D array to plot distribution\n",
    "test_mae_loss = test_mae_loss.reshape((-1))\n",
    "\n",
    "test_mae_loss"
   ]
  },
  {
   "cell_type": "markdown",
   "metadata": {},
   "source": [
    "Next, we plot the MAE distribution for the test data set, and see how many samples exceeded the MAE threshold of 0.063941."
   ]
  },
  {
   "cell_type": "code",
   "execution_count": 63,
   "metadata": {},
   "outputs": [
    {
     "data": {
      "image/png": "[encoded data removed]",
      "text/plain": [
       "<Figure size 720x432 with 1 Axes>"
      ]
     },
     "metadata": {
      "needs_background": "light"
     },
     "output_type": "display_data"
    }
   ],
   "source": [
    "fig, ax = plt.subplots(figsize=(10, 6))\n",
    "\n",
    "# Histogram to plot MAE Loss distribution\n",
    "ax.hist(test_mae_loss, bins=50)\n",
    "ax.set_xlabel(\"test MAE loss\") \n",
    "ax.set_ylabel(\"No of samples\");"
   ]
  },
  {
   "cell_type": "markdown",
   "metadata": {},
   "source": [
    "The above plot suggests that the majority of the values were accurately predicted by the model, except for a small number of outliers. This is as expected, as the outliers likely represent the anomalous daily data. \n",
    "\n",
    "The below code gets the total number of samples where the MAE loss value exceeds the threshold and outputs the total anomalous samples."
   ]
  },
  {
   "cell_type": "code",
   "execution_count": 64,
   "metadata": {},
   "outputs": [
    {
     "data": {
      "text/plain": [
       "436"
      ]
     },
     "execution_count": 64,
     "metadata": {},
     "output_type": "execute_result"
    }
   ],
   "source": [
    "# Detect all the samples which are anomalies.\n",
    "anomalies = test_mae_loss > threshold\n",
    "\n",
    "# NUmber of anomalies.\n",
    "np.sum(anomalies)"
   ]
  },
  {
   "cell_type": "markdown",
   "metadata": {},
   "source": [
    "The below code keeps track of the indices of anomalies in the data set. It iterates through each window in the data set, and checks if all samples within the window are anomalies (i.e. if the previous 288 values all exceed the MAE threshold). If all data in the window for the current index are anomalies, the index of the window is added to the inds array."
   ]
  },
  {
   "cell_type": "code",
   "execution_count": 83,
   "metadata": {},
   "outputs": [
    {
     "name": "stdout",
     "output_type": "stream",
     "text": [
      "[2985, 2986, 2987, 2988, 2989, 2990, 2991, 2992, 2993, 2994, 2995, 2996, 2997, 2998, 2999, 3000, 3001, 3002, 3003, 3004, 3005, 3006, 3007, 3008, 3009, 3010, 3011, 3012, 3013, 3014, 3015, 3016, 3017, 3018, 3019, 3020, 3021, 3022, 3023, 3024, 3025, 3026, 3027, 3028, 3029, 3030, 3031, 3032, 3033, 3034, 3035, 3036, 3037, 3038, 3039, 3040, 3041, 3042, 3043, 3044, 3045, 3046, 3047, 3048, 3049, 3050, 3051, 3052, 3053, 3054, 3055, 3056, 3057, 3058, 3059, 3060, 3061, 3062, 3063, 3064, 3065, 3066, 3067, 3068, 3069, 3070, 3071, 3072, 3073, 3074, 3075, 3076, 3077, 3078, 3079, 3080, 3081, 3082, 3083, 3084, 3085, 3086, 3087, 3088, 3089, 3090, 3091, 3092, 3093, 3094, 3095, 3096]\n"
     ]
    }
   ],
   "source": [
    "# data i is an anomaly if samples [(i - timesteps + 1) to (i)] are anomalies\n",
    "inds = []\n",
    "\n",
    "for i in range(window_size - 1, len(df_test_value) - window_size + 1):\n",
    "    if np.all(anomalies[i - window_size + 1 : i]):\n",
    "        inds.append(i)\n",
    "\n",
    "print(inds)"
   ]
  },
  {
   "cell_type": "markdown",
   "metadata": {},
   "source": [
    "Above we can see the range of windows with anomalies; the anomalous values start at window 2985 and end at 3096.\n",
    "\n",
    "Next, we create a subset of the daily_jumps_up data with just the anomalies."
   ]
  },
  {
   "cell_type": "code",
   "execution_count": 77,
   "metadata": {
    "scrolled": true
   },
   "outputs": [
    {
     "name": "stdout",
     "output_type": "stream",
     "text": [
      "                          value\n",
      "timestamp                      \n",
      "2014-04-11 08:45:00   21.563032\n",
      "2014-04-11 08:50:00   21.658233\n",
      "2014-04-11 08:55:00   19.675483\n",
      "2014-04-11 09:00:00  127.882020\n",
      "2014-04-11 09:05:00  115.705719\n",
      "...                         ...\n",
      "2014-04-11 17:40:00  156.009099\n",
      "2014-04-11 17:45:00  164.947481\n",
      "2014-04-11 17:50:00  145.758267\n",
      "2014-04-11 17:55:00  161.890865\n",
      "2014-04-11 18:00:00   44.913766\n",
      "\n",
      "[112 rows x 1 columns]\n"
     ]
    }
   ],
   "source": [
    "# Create subset of data with anomalies\n",
    "# Iloc returns data at a specified index\n",
    "# Passing index values for anomalies obtained in previous function\n",
    "df_subset = df_daily_jumpsup.iloc[inds]\n",
    "print(df_subset)"
   ]
  },
  {
   "cell_type": "markdown",
   "metadata": {},
   "source": [
    "Below, the original values for the daily_jump_up data set are plotted. The subset of anomalies is overlaid in red, we can see that all of the values in the single 24 hour jump are captured in this set."
   ]
  },
  {
   "cell_type": "code",
   "execution_count": 90,
   "metadata": {},
   "outputs": [
    {
     "data": {
      "image/png": "[encoded data removed]",
      "text/plain": [
       "<Figure size 720x432 with 1 Axes>"
      ]
     },
     "metadata": {
      "needs_background": "light"
     },
     "output_type": "display_data"
    }
   ],
   "source": [
    "# Generate Plot\n",
    "fig, ax = plt.subplots(figsize=(10, 6))\n",
    "\n",
    "# \n",
    "df_daily_jumpsup.plot(legend=False, ax=ax)\n",
    "\n",
    "# \n",
    "df_subset.plot(legend=False, ax=ax, color=\"r\");\n",
    "\n",
    "ax.set_title(\"Daily Jump Up Data with Recorded Anomaly\");\n"
   ]
  },
  {
   "cell_type": "markdown",
   "metadata": {},
   "source": [
    "***\n",
    "\n",
    "## Conclusion\n",
    "\n",
    "In summary, machine learning entails building models that allow programmes to learn through experience, and ultimately act without being instructed to do so. Neural networks are a subset of machine learning that mimics the functioning of the human brain. Neural networks consist of an input layer, output layer and multiple hidden layers that recieve and transform input data. Some applications of neural networks include image and speech recongnition and search engines.  \n",
    "\n",
    "This notebook demonstrated how a neural network, developed using Keras, could be trained to recognize and replicate patterns in a given data set. The input data in this case was taken from the Numenta Anomaly Benchmark source data: NAB is an open-source framework for evaluating and benchmarking anomaly detection algorithms. In addition to real-world anomaly examples, the NAB source data also includes simulated anomaly files. This model was trained to reconstruct one of these simulated data sets, daily_small_noise. This data set emulates small daily variations in a given system. \n",
    "\n",
    "The input data is first normalized and divided into windows/time steps. Next, an Reconstructor autoencoder model is initiated using Keras; the purpose of this model is to recreate the input data. The model is then trained on the data set: this entails passing the data to the model in defined batches for a given number of iterations (epochs). \n",
    "\n",
    "When the MSE value for the model has been minimized, training is complete, and the model can be used to predict the data set. This means that the model can also be used to identify anomalies in input data. First we identify the reconstruction loss threshold by comparing the predicted and actual values for the training data set and finding the maximum MAE value recorded for the samples. Then, we pass input data from a second source file to the model, with the same structure as the daily_small_noise data set but one set of anomalous values. As the model has been trained to predict only small values in the data set, the MAE for the anomalies far exceeds the reconstruction loss threshold. We can then flag these values where the MAE is higher than the threshold as anomalies.\n",
    "\n",
    "To conclude, our neural network can be used to emulate data sets and also identify when input data does not match the expected patterns, i.e. detect anomalies."
   ]
  },
  {
   "cell_type": "markdown",
   "metadata": {},
   "source": [
    "# References\n",
    "\n",
    "1. Burns, Ed. “What Is Machine Learning and Why Is It Important?” Enterprise AI. TechTarget, March 30, 2021. https://www.techtarget.com/searchenterpriseai/definition/machine-learning-ML. \n",
    "2. Raj, Ravish. “Supervised, Unsupervised and Semi-Supervised Learning with Real-Life USECASE.” enjoyalgorithms. Accessed January 7, 2023. https://www.enjoyalgorithms.com/blogs/supervised-unsupervised-and-semisupervised-learning. \n",
    "3. Selig, Jay. “What Is Machine Learning? A Definition.” expert.ai, July 4, 2022. https://www.expert.ai/blog/machine-learning-definition/. \n",
    "4. “What Are Neural Networks?” IBM. Accessed January 7, 2023. https://www.ibm.com/topics/neural-networks.\n",
    "5. Simplilearn. “What Is Keras and Why It so Popular in 2021: Simplilearn.” Simplilearn.com. Simplilearn, December 8, 2022. https://www.simplilearn.com/tutorials/deep-learning-tutorial/what-is-keras. \n",
    "6. Fintelics. “Everything You Need to Know about Numenta Anomaly Benchmark (NAB).” Medium. Medium, August 31, 2021. https://fintelics.medium.com/everything-you-need-to-know-about-numenta-anomaly-benchmark-nab-b43ab7f014df. \n",
    "7. Zhang, Zixuan. “Understand Data Normalization in Machine Learning.” Medium. Towards Data Science, August 11, 2019. https://towardsdatascience.com/understand-data-normalization-in-machine-learning-8ff3062101f0. \n",
    "8. Brownlee, Jason. “How to Use Timesteps in LSTM Networks for Time Series Forecasting.” MachineLearningMastery.com, August 27, 2020. https://machinelearningmastery.com/use-timesteps-lstm-networks-time-series-forecasting/. \n",
    "9. Intro to Autoencoders &nbsp;: &nbsp; Tensorflow Core. TensorFlow. Accessed January 7, 2023. https://www.tensorflow.org/tutorials/generative/autoencoder. \n",
    "10. Brownlee, Jason. “A Gentle Introduction to the Rectified Linear Unit (ReLU).” MachineLearningMastery.com, August 20, 2020. https://machinelearningmastery.com/rectified-linear-activation-function-for-deep-learning-neural-networks/. \n",
    "11. “What Is Gradient Descent?” IBM. Accessed January 7, 2023. https://www.ibm.com/topics/gradient-descent. \n",
    "12. Brownlee, Jason. “Gentle Introduction to the Adam Optimization Algorithm for Deep Learning.” MachineLearningMastery.com, January 12, 2021. https://machinelearningmastery.com/adam-optimization-algorithm-for-deep-learning/#:~:text=Adam%20is%20a%20replacement%20optimization,sparse%20gradients%20on%20noisy%20problems. \n",
    "13. Tuovila, Alicia. “Standard Error of the Mean vs. Standard Deviation: What's the Difference?” Investopedia. Investopedia, December 25, 2022. https://www.investopedia.com/ask/answers/042415/what-difference-between-standard-error-means-and-standard-deviation.asp. \n",
    "14. “What Is the Definition of a Non-Trainable Parameter?” Stack Overflow, December 1, 2022. https://stackoverflow.com/questions/47312219/what-is-the-definition-of-a-non-trainable-parameter. \n",
    "15. Brownlee, Jason. “What Is the Difference between Test and Validation Datasets?” MachineLearningMastery.com, August 14, 2020. https://machinelearningmastery.com/difference-test-validation-datasets/. \n",
    "16. Brownlee, Jason. “Use Early Stopping to Halt the Training of Neural Networks at the Right Time.” MachineLearningMastery.com, August 25, 2020. https://machinelearningmastery.com/how-to-stop-training-deep-neural-networks-at-the-right-time-using-early-stopping/. \n",
    "17. Statistics How To. “Absolute Error &amp; Mean Absolute Error (MAE).” Statistics How To, December 28, 2020. https://www.statisticshowto.com/absolute-error/. "
   ]
  }
 ],
 "metadata": {
  "kernelspec": {
   "display_name": "Python 3 (ipykernel)",
   "language": "python",
   "name": "python3"
  },
  "language_info": {
   "codemirror_mode": {
    "name": "ipython",
    "version": 3
   },
   "file_extension": ".py",
   "mimetype": "text/x-python",
   "name": "python",
   "nbconvert_exporter": "python",
   "pygments_lexer": "ipython3",
   "version": "3.8.12"
  },
  "vscode": {
   "interpreter": {
    "hash": "585a938ec471c889bf0cce0aed741a99eaf47ca09c0fa8393793bc5bfe77ba11"
   }
  }
 },
 "nbformat": 4,
 "nbformat_minor": 4
}
