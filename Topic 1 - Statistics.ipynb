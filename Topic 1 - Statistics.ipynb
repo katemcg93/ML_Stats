{
 "cells": [
  {
   "cell_type": "markdown",
   "id": "b1d6fbba-c790-4385-8180-1de8049e988e",
   "metadata": {},
   "source": [
    "# Notebook 1 : Statistics"
   ]
  },
  {
   "cell_type": "markdown",
   "id": "6ac92b08-19ae-4be2-b2f1-b28473e74257",
   "metadata": {},
   "source": [
    "#### 1. Calculate the minimum number of cups of tea required to ensure the probability of randomly selecting the correct cups is less than or equal to 1%."
   ]
  },
  {
   "cell_type": "markdown",
   "id": "a2f799b1-aae5-4448-9b4b-d4d58b552d94",
   "metadata": {},
   "source": [
    "The math.comb function can be used for this purpose. Math.comb returns the total number of ways of picking k items from n items without repetition or order. We can then get the probabilty of selecting the correct cups by dividing the total selection options by 1. Multiplying the result by 100 will give the percentage probability."
   ]
  },
  {
   "cell_type": "code",
   "execution_count": 1,
   "id": "bda8dcd1-ca5d-47b2-9604-b41961ae0ea0",
   "metadata": {},
   "outputs": [],
   "source": [
    "# Import Math and other required modules for this notebook\n",
    "import math\n",
    "import itertools\n",
    "import random\n",
    "import numpy as np\n",
    "import matplotlib.pyplot as plt\n",
    "import seaborn as sns\n",
    "import scipy.stats as stats"
   ]
  },
  {
   "cell_type": "markdown",
   "id": "ea7d985e-c057-470b-a206-609147955c24",
   "metadata": {},
   "source": [
    "First, we will calculate the probability of selecting 4 cups correctly from 8, per the original experiment. "
   ]
  },
  {
   "cell_type": "code",
   "execution_count": 2,
   "id": "6a7cc673-2c76-4e51-9afd-822e5ce97909",
   "metadata": {},
   "outputs": [
    {
     "data": {
      "text/plain": [
       "1.4285714285714286"
      ]
     },
     "execution_count": 2,
     "metadata": {},
     "output_type": "execute_result"
    }
   ],
   "source": [
    "(1/math.comb(8,4)) * 100"
   ]
  },
  {
   "cell_type": "markdown",
   "id": "785bf9db-79e3-464b-a5ef-2d3a1aea3461",
   "metadata": {},
   "source": [
    "The probability of selecting all 4 cups correctly is 1.4%. To decrease the probability of randomly selecting the correct cups, we must increase the sample size. The more possibilities we have for selection, the less chance we have of randomly selecting the correct set. Below, the sample size is increased to 10, and the probability of getting 5 correct is calculated."
   ]
  },
  {
   "cell_type": "code",
   "execution_count": 3,
   "id": "0d00f5f6-a25c-4945-82fa-42465434e1eb",
   "metadata": {},
   "outputs": [
    {
     "data": {
      "text/plain": [
       "0.3968253968253968"
      ]
     },
     "execution_count": 3,
     "metadata": {},
     "output_type": "execute_result"
    }
   ],
   "source": [
    "(1/math.comb(10,5)) * 100"
   ]
  },
  {
   "cell_type": "markdown",
   "id": "77e24eaa-da7e-4af7-b275-f3e222ea7656",
   "metadata": {},
   "source": [
    "The probability of getting all five correct cups by selecting randomly is 0.4%. Therefore, 10 cups is the minimum sample size required to ensure a probability of less than 1%."
   ]
  },
  {
   "cell_type": "markdown",
   "id": "213d3b2f-54c7-4b5f-9d80-3c3b2ae372d0",
   "metadata": {},
   "source": [
    "#### 2. Bonus: How many would be required if you were to let the taster get one cup wrong while maintaining the 1% threshold?\n",
    "\n"
   ]
  },
  {
   "cell_type": "markdown",
   "id": "769ebba0-249c-4d5f-88ab-42253ebc9c60",
   "metadata": {},
   "source": [
    "Allowing the taster to get one cup wrong will increase the number of potential combinations to choose from. Therefore, we must increase the sample size to counter this, as this will increase the number of available choices, and reduce the probability of randomly selecting the correct cups.\n",
    "\n",
    "The below function is based on the code used to plot the possibilities of total correct answers for the original sample size of 8. It takes a single parameter, n, which corresponds to the total number of cups. It generates a list of integers of length n, and the number of choices corresponds to n/2. All possible combinations are generated and stored in the array poss. A sample is randomly chosen to correspond to the cups with the milk added. The function then iterates through all potential combinations, and counts the total cups with the milk in them first. Every time all cups except one are correct, the count is increased. The total count of times where just one cup is incorrect are divided by the total potential options to get the probability of random selection"
   ]
  },
  {
   "cell_type": "code",
   "execution_count": 4,
   "id": "15bae8e4-0463-4d68-8407-1a835694efd0",
   "metadata": {},
   "outputs": [],
   "source": [
    "def find_probability (n) :\n",
    "    cups = np.arange(0, n)\n",
    "    choices = int(n/2)\n",
    "    poss = list(itertools.combinations(cups, choices))\n",
    "    total_options = len(poss)\n",
    "    milkfirst = set(random.choice(poss))\n",
    "\n",
    "    count = 0\n",
    "\n",
    "    for i in itertools.combinations(cups,choices):\n",
    "        no_correct = len(milkfirst & set(i))\n",
    "        if no_correct == choices - 1 :\n",
    "            count +=1\n",
    "        \n",
    "    probability = count/total_options\n",
    "    return probability*100\n",
    "    "
   ]
  },
  {
   "cell_type": "markdown",
   "id": "af5e8a81-843d-4157-8c6d-b3abdc0622e2",
   "metadata": {},
   "source": [
    "Below is the probability of getting 3 cups correct and 1 incorrect, when the sample size is 8. This is calculated as a sanity check, if the function is correct we would expect it to return a probability of approximately 20%."
   ]
  },
  {
   "cell_type": "code",
   "execution_count": 5,
   "id": "cbe1e4a7-2f62-4a41-ba3f-791b6fe13991",
   "metadata": {},
   "outputs": [
    {
     "data": {
      "text/plain": [
       "22.857142857142858"
      ]
     },
     "execution_count": 5,
     "metadata": {},
     "output_type": "execute_result"
    }
   ],
   "source": [
    "find_probability(8)"
   ]
  },
  {
   "cell_type": "markdown",
   "id": "2a17ef4d-c603-42dd-bf0b-567de6e39f3f",
   "metadata": {},
   "source": [
    "The first even number to return a value of <1 is 16, hence we can say that 16 cups are required to allow the tester to get 1 wrong while maintaining a probability of random selection of ~1%."
   ]
  },
  {
   "cell_type": "code",
   "execution_count": 6,
   "id": "ab9cbfaa-c5c7-44af-921c-612eeb567cbe",
   "metadata": {},
   "outputs": [
    {
     "data": {
      "text/plain": [
       "0.4972804972804973"
      ]
     },
     "execution_count": 6,
     "metadata": {},
     "output_type": "execute_result"
    }
   ],
   "source": [
    "find_probability(16)"
   ]
  },
  {
   "cell_type": "markdown",
   "id": "8a41f7ab-24f7-4ec7-95c2-f45344bcc2dd",
   "metadata": {},
   "source": [
    "#### 3. Use scipy's version of Fisher's exact test to simulate the Lady Tasting Tea problem.\n",
    "\n",
    "##### Contingency Table:\n",
    "|             | Tea First (Actual) |Milk First (Actual |\n",
    "| ----------- | -----------------  |-----------        |\n",
    "| Tea First (Selected)      | 4       |0       |\n",
    "| Milk First (Selected)   | 0        |4        |"
   ]
  },
  {
   "cell_type": "markdown",
   "id": "5e3d1822-c82c-47cd-a456-a4d08f0d7a05",
   "metadata": {},
   "source": [
    "## Scipy Stats Independent T-Test"
   ]
  },
  {
   "cell_type": "markdown",
   "id": "bccf0d28-ba73-49a6-8d02-9f0c5371788a",
   "metadata": {},
   "source": [
    "### Overview of Independent T - Tests\n",
    "\n",
    "An independent t-test compares the means of two unrelated groups on one continuous dependent variable. For example, an independent t-test might be used to determine if men are more active than women by comparing the mean active minutes per week for both groups.  It is a type of inferential statistic, meaning that the test is conducted on a representative sample of the two groups. The results are then used to draw conclusions on the groups from which the samples were drawn. The independent t-test allows us to establish whether any differences in means between the two groups occurred by random chance.\n",
    "\n",
    "### Assumptions of Independent T - Tests\n",
    "\n",
    "An independent t-test should only be used when our data meets the following assumptions:\n",
    "\n",
    "1. **Independence**: The two test groups should be based on unrelated, non-numerical (categorical) variables. In the above example, men and women would represent the two independent variables for the test.\n",
    "2. **Normality**: The dependent variable, i.e. the measure we're comparing the means for, should be approximately normally distributed and measured on a continuous scale. In the above example, active minutes per week would be considered the dependent variable.\n",
    "3. **Homogeneity of Variances**: The variances of the dependent variable should be equal. \n",
    "\n",
    "### Hypotheses\n",
    "\n",
    "Independent t-tests have the following hypotheses:\n",
    " - **Null Hypothesis**: The means for the two populations are equal.\n",
    " - **Alternative Hypothesis**: The means for the population are not equal.\n",
    " \n",
    "The test returns two results, the t-statistic and p-value. Higher t-values (positive or negative) suggest a significant difference between the two groups, and p-values below 5% indicate a very low likelihood that the results occured by chance. Therefore, the p-value, in conjunction with the t-statistic, tell us whether the null hypothesis that both populations are equal can be rejected."
   ]
  },
  {
   "cell_type": "markdown",
   "id": "6c5e4680-5532-4ae0-a520-2e3a0d3f875f",
   "metadata": {},
   "source": [
    "### SciPy Stats T Test Function"
   ]
  },
  {
   "cell_type": "markdown",
   "id": "46067bfe-7fd3-4f66-921d-51ebf6933951",
   "metadata": {},
   "source": [
    "[Link to Documentation](https://docs.scipy.org/doc/scipy/reference/generated/scipy.stats.ttest_ind.html)"
   ]
  },
  {
   "cell_type": "markdown",
   "id": "0639cad8-2179-4a54-8f40-800760b85cc1",
   "metadata": {
    "tags": []
   },
   "source": [
    "The Scipy Stats ttest_ind function performs an independent samples t-test on two independent samples and returns the calculated t-statistic and p-values.\n",
    "\n",
    "The structure of the function is as follows:\n",
    "~~~~\n",
    "scipy.stats.ttest_ind(a, b, axis=0, equal_var=True, nan_policy='propagate', permutations=None, random_state=None, alternative='two-sided', trim=0)[source]\n",
    "~~~~\n",
    "\n",
    "### Input\n",
    "\n",
    "##### Required\n",
    "- *a, b* : Two NumPy arrays to represent the population samples, both should have the same shape (number of dimensions)\n",
    "\n",
    "##### Optional\n",
    "- *axis: int.*  Where multiple axees exist in a and b, choose axis along which to perform t-test. If none selected, results will be calculated over whole arrays.\n",
    "- *equal_var: bool* : If set to true, equal variances are assumed for a and b, i.e. the average squared distance from the mean is the same in both samples. If set to false, equal variances are not assumed and Welch's t-test is performed instead of student's t-test.\n",
    "- *nan_policy: {propogate, raise, omit}*: Specifies how non-numeric values should be dealt with. Propogate will return NaN as a result, raise will return an error and omit will perform calculations ignorning non-numeric values.\n",
    "- *Permutations: int*: If set to 0, the p-value is obtained by comparing the t-statistic of the test data with a hypothetical t-distribution. If a value is given for permutations that is less than the total number of potential distinct combinations for the pooled data, the samples are aggregated and randomly assigned to group a or b and the t-statistic is calculated. This is repeated multiple times, according to the value set for Permutations, and a t-statistic under the null hypothesis is generated. Subsequently, the t-statistic of the observed data is then compared to this value and a p-value is determined. If the value for Permutations exceeds the binomial coefficient, the data will be separated into a and b in each distinct way exactly once and an exact test will be carried out.\n",
    "- *trim: float*: Valid values range between 0 and 0.5. If this is set to a non-zero value, elements will be trimmed from both tails of the samples. The total trimmed elements is calculated as follows: floor(trim) * total elements in array. Trimming is recommended in cases with multiple outliers or where the distribution is long-tailed. \n",
    "### Output\n",
    "- *statistic*: T-statistic representing difference between means: float or array depending on number of dimensions in a and b.\n",
    "- *pvalue*: Probability that results occured by chance: float or array as above."
   ]
  },
  {
   "cell_type": "markdown",
   "id": "25676644-c4d2-494c-8f08-7f3cd6ac3b79",
   "metadata": {},
   "source": [
    "### Function Examples\n",
    "\n",
    "The below examples are adapted from the scipy.stats documentation for the ttest_ind function."
   ]
  },
  {
   "cell_type": "markdown",
   "id": "3332c2b4-5436-4400-81f7-ef018db6bb04",
   "metadata": {},
   "source": [
    "#### Example 1: Two Samples with Identical Means\n",
    "\n",
    "When the t-test is run on two samples with identical means, we would expect a low t-statistic as output as the difference between means will be negligible. "
   ]
  },
  {
   "cell_type": "code",
   "execution_count": 7,
   "id": "c0b6b30c-7ac8-465e-9077-59596bba8d3c",
   "metadata": {},
   "outputs": [
    {
     "name": "stdout",
     "output_type": "stream",
     "text": [
      "Mean 1: 5.197\n",
      "Mean 2: 4.679\n"
     ]
    }
   ],
   "source": [
    "rng = np.random.default_rng()\n",
    "\n",
    "# Generate two samples from normal distribution with same mean values\n",
    "rvs1 = stats.norm.rvs(loc=5, scale=10, size=500, random_state=rng)\n",
    "rvs2 = stats.norm.rvs(loc=5, scale=10, size=500, random_state=rng)\n",
    "\n",
    "print (\"Mean 1: {}\".format(round(np.mean(rvs1),3)))\n",
    "print (\"Mean 2: {}\".format(round(np.mean(rvs2),3)))"
   ]
  },
  {
   "cell_type": "markdown",
   "id": "403b596c-0925-4f6a-88a6-d6a157a42531",
   "metadata": {},
   "source": [
    "As seen above, the difference in means between the two samples is relatively low. Additionally, when the distribution of the samples is plotted, we can see a peak at approximately 5 in both cases."
   ]
  },
  {
   "cell_type": "code",
   "execution_count": 8,
   "id": "27bbe90e-f8de-41f2-8a53-e216d45c7b98",
   "metadata": {},
   "outputs": [
    {
     "data": {
      "image/png": "[encoded data removed]",
      "text/plain": [
       "<Figure size 720x360 with 2 Axes>"
      ]
     },
     "metadata": {
      "needs_background": "light"
     },
     "output_type": "display_data"
    }
   ],
   "source": [
    "fig,(ax1, ax2) = plt.subplots(1,2)\n",
    "fig.set_size_inches(10,5)\n",
    "sns.histplot(rvs1, ax = ax1, kde = True)\n",
    "sns.histplot(rvs2, ax = ax2, kde = True)\n",
    "sns.despine()\n",
    "plt.show()\n",
    "plt.close()"
   ]
  },
  {
   "cell_type": "code",
   "execution_count": 9,
   "id": "82f78026-fa87-416e-88a7-4adc5875afab",
   "metadata": {},
   "outputs": [
    {
     "name": "stdout",
     "output_type": "stream",
     "text": [
      "\n",
      "Equal Variances Assumed \n",
      "T-statistic 0.8429230957197735, p-value 0.3994734237671165\n",
      "--------------------------------------------------------------------------------\n",
      "\n",
      "Unequal Variances Assumed \n",
      "T-statistic 0.8429230957197735, p-value 0.3994735691008098\n",
      "--------------------------------------------------------------------------------\n"
     ]
    }
   ],
   "source": [
    "# Performing t-test on both samples, first assuming equal variances then unequal\n",
    "\n",
    "def equal_unequal(a,b):\n",
    "    equal_var = stats.ttest_ind(a, b)\n",
    "    print(\"\\nEqual Variances Assumed \\nT-statistic {}, p-value {}\".format(equal_var[0],equal_var[1]))\n",
    "    print(\"-\" *80)\n",
    "    unequal_var = stats.ttest_ind(a, b, equal_var = False)\n",
    "    print(\"\\nUnequal Variances Assumed \\nT-statistic {}, p-value {}\".format(unequal_var[0],unequal_var[1]))\n",
    "    print(\"-\" *80)\n",
    "\n",
    "equal_unequal(rvs1,rvs2)    "
   ]
  },
  {
   "cell_type": "markdown",
   "id": "fca753d3-6483-45ca-a33f-855360777de8",
   "metadata": {},
   "source": [
    "As the above results show, the difference between the two means is insignificant, as indicated by the low t-statistic value. Additionally, the p-value is above 0.5; these two values combined suggest that we must accept the null hypothesis that both samples are the same. We can see that the p-value is slightly higher when unequal variances are assumed, suggesting that when Welch's t-test is performed the p-value is underestimated. However, the t-statistic values obtained from both tests are identical. This indicates when the mean values of the sample populations are the same, the value obtained for the t-statistic will be the same regardless of whether equal variances are assumed.\n",
    "\n",
    "#### Example 2: Two Samples with Identical Means and Varying Scales\n",
    "\n",
    "The below code generates a random array with the same mean value as rvs1 and rvs2, but with a higher value for Scale. This will result in an increased spread in the distribution of values in the array."
   ]
  },
  {
   "cell_type": "code",
   "execution_count": 10,
   "id": "5534850c-dda6-4343-90b0-9eeb57d19ab4",
   "metadata": {},
   "outputs": [
    {
     "name": "stdout",
     "output_type": "stream",
     "text": [
      "Mean 1: 5.197\n",
      "Mean 2: 4.679\n",
      "Mean 3: 4.564\n"
     ]
    }
   ],
   "source": [
    "# Generate third array with higher scale and plotting to see difference\n",
    "rvs3 = stats.norm.rvs(loc=5, scale=20, size=500, random_state=rng)\n",
    "print (\"Mean 1: {}\".format(round(np.mean(rvs1),3)))\n",
    "print (\"Mean 2: {}\".format(round(np.mean(rvs2),3)))\n",
    "print (\"Mean 3: {}\".format(round(np.mean(rvs3),3)))"
   ]
  },
  {
   "cell_type": "code",
   "execution_count": 11,
   "id": "8d436b11-e53e-451b-92dc-257d0e5e6573",
   "metadata": {},
   "outputs": [
    {
     "data": {
      "image/png": "[encoded data removed]",
      "text/plain": [
       "<Figure size 720x360 with 2 Axes>"
      ]
     },
     "metadata": {
      "needs_background": "light"
     },
     "output_type": "display_data"
    }
   ],
   "source": [
    "#Plotting against rvs2 for comparison\n",
    "fig,(ax1, ax2) = plt.subplots(1,2)\n",
    "fig.set_size_inches(10,5)\n",
    "sns.histplot(rvs1, ax = ax1, kde = True)\n",
    "sns.histplot(rvs3, ax = ax2, kde = True)\n",
    "sns.despine()\n",
    "plt.show()"
   ]
  },
  {
   "cell_type": "markdown",
   "id": "a2865f08-dcf8-44d1-aafb-fc0bc93044e6",
   "metadata": {},
   "source": [
    "We can see that although the peak of both distributions remains the same, values are spread over a wider range for the rvs3 array, resulting in a less steep curve."
   ]
  },
  {
   "cell_type": "markdown",
   "id": "cc58dbf9-f9db-40c9-8a7d-2ae2fce849ea",
   "metadata": {},
   "source": [
    "Below, the t-test is conducted using rvs1 and rvs3 as input, with both equal and unequal variances assumed."
   ]
  },
  {
   "cell_type": "code",
   "execution_count": 12,
   "id": "d11cbc14-2a90-4f13-9415-5a7df49a2fc5",
   "metadata": {},
   "outputs": [
    {
     "name": "stdout",
     "output_type": "stream",
     "text": [
      "\n",
      "Equal Variances Assumed \n",
      "T-statistic 0.6383807079725001, p-value 0.5233723449291257\n",
      "--------------------------------------------------------------------------------\n",
      "\n",
      "Unequal Variances Assumed \n",
      "T-statistic 0.6383807079725001, p-value 0.5234261347508569\n",
      "--------------------------------------------------------------------------------\n"
     ]
    }
   ],
   "source": [
    "equal_unequal(rvs1,rvs3)    "
   ]
  },
  {
   "cell_type": "markdown",
   "id": "a1ade559-6ad6-4c09-89a3-41abed7180ab",
   "metadata": {},
   "source": [
    "Again, the t-statistic value is identical when equal and unequal variances are assumed. The t-statistic is approximately -1, suggesting that the difference in means between the groups is still negligible, despite the increased spread in rvs3. As above, the p-value is slightly higher when equal variances are not assumed. When variances between two samples are not equal, it is more likely that any differences in means occured by random chance."
   ]
  },
  {
   "cell_type": "markdown",
   "id": "c28cb7c1-1741-4067-b52d-d1567e494220",
   "metadata": {},
   "source": [
    "#### Example 3: Two Samples with Identical Means and Different Sample Sizes\n",
    "\n",
    "The below code generates an additional array with the same mean value but a smaller sample size than the previous arrays (n=100)."
   ]
  },
  {
   "cell_type": "code",
   "execution_count": 13,
   "id": "10e57d3b-1228-4aec-8536-cecb11af3c02",
   "metadata": {},
   "outputs": [],
   "source": [
    "rvs4 = stats.norm.rvs(loc=5, scale=20, size=100, random_state=rng)"
   ]
  },
  {
   "cell_type": "markdown",
   "id": "b21bfb8d-b20c-43a6-879b-eeffd1eb5563",
   "metadata": {},
   "source": [
    "As sample size increases, the variation between individual elements increases but the variance of the mean (standard error) decreases. Hence, we would expect that variances between the rsv4 and any of the previous arrays would not be equal; we can verify this using Levene's test, which tests the null hypothesis that variances between input samples are equal. If the returned p-value is less than 0.05, we can reject this and conclude unequal variances."
   ]
  },
  {
   "cell_type": "code",
   "execution_count": 14,
   "id": "aa793454-6b2e-4f2c-a41a-6641878756c7",
   "metadata": {},
   "outputs": [
    {
     "name": "stdout",
     "output_type": "stream",
     "text": [
      "Unequal Variances\n"
     ]
    }
   ],
   "source": [
    "def equal_variances  (a,b):\n",
    "    stat, p = stats.levene(rvs1,rvs4)\n",
    "    if p <0.05:\n",
    "        print(\"Unequal Variances\")\n",
    "    else:\n",
    "        print(\"Equal Variances\")\n",
    "\n",
    "equal_variances(rvs1,rvs4)"
   ]
  },
  {
   "cell_type": "markdown",
   "id": "3a3e4906-d9ac-4100-9deb-d7f3b46755e3",
   "metadata": {},
   "source": [
    "Levene's test indicates unequal variances between rvs1 and rvs4. Therefore, if we assume equal variances when running the t-test on the two samples, this is likely to affect the accuracy of the results."
   ]
  },
  {
   "cell_type": "code",
   "execution_count": 15,
   "id": "54f4cf01-51ca-495b-b4eb-313669b3b72e",
   "metadata": {},
   "outputs": [
    {
     "name": "stdout",
     "output_type": "stream",
     "text": [
      "\n",
      "Equal Variances Assumed \n",
      "T-statistic 1.1041057919818782, p-value 0.2699913191235692\n",
      "--------------------------------------------------------------------------------\n",
      "\n",
      "Unequal Variances Assumed \n",
      "T-statistic 0.6902580113592458, p-value 0.491521209556225\n",
      "--------------------------------------------------------------------------------\n"
     ]
    }
   ],
   "source": [
    "equal_unequal(rvs1,rvs4)"
   ]
  },
  {
   "cell_type": "markdown",
   "id": "9a669eeb-6314-4c24-a2e7-1c658bfd5ebe",
   "metadata": {},
   "source": [
    "As seen above, the  t-statistc and p-values are overestimated when equal variances are assumed. We know in this case that the mean value of both samples is 5, hence the values returned by Welch's t-test are much more accurate than those from the standard t-test."
   ]
  },
  {
   "cell_type": "markdown",
   "id": "59dd422f-d1d0-41ef-8a61-e7fa9634301f",
   "metadata": {},
   "source": [
    "#### Example 3: Two Samples with Identical Means and Different Sample Sizes\n",
    "\n",
    "In this case, we would expect the t-test would allow us to reject the null hypothesis that both samples have the same mean. As the sample sizes are different, we should not assume equal variances. This can again be verified using Levene's test."
   ]
  },
  {
   "cell_type": "code",
   "execution_count": 16,
   "id": "ed71afca-6280-4945-b5db-d444eb267dc6",
   "metadata": {},
   "outputs": [
    {
     "name": "stdout",
     "output_type": "stream",
     "text": [
      "Unequal Variances\n"
     ]
    }
   ],
   "source": [
    "rvs5 = stats.norm.rvs(loc=8, scale=20, size=100, random_state=rng)\n",
    "equal_variances(rvs1,rvs5)"
   ]
  },
  {
   "cell_type": "markdown",
   "id": "7c4379be-64ba-4709-96fc-3f6f4f59669f",
   "metadata": {},
   "source": [
    "The below code runs the t-test on the two different-sized arrays. The test is repeated for equal arrays of varying sample sizes, to see the impact of increased sample size on accuracy of results"
   ]
  },
  {
   "cell_type": "code",
   "execution_count": 17,
   "id": "4a195226-0f7e-4496-8834-a02a200f7331",
   "metadata": {},
   "outputs": [
    {
     "name": "stdout",
     "output_type": "stream",
     "text": [
      "\n",
      "Equal Variances Assumed \n",
      "T-statistic -2.4447776204826415, p-value 0.014781722330905177\n",
      "--------------------------------------------------------------------------------\n",
      "\n",
      "Unequal Variances Assumed \n",
      "T-statistic -1.4811625038420213, p-value 0.14152171849947187\n",
      "--------------------------------------------------------------------------------\n"
     ]
    }
   ],
   "source": [
    "equal_unequal(rvs1,rvs5)"
   ]
  },
  {
   "cell_type": "code",
   "execution_count": 18,
   "id": "d45b4263-18bf-4b60-a349-b685a7d0b062",
   "metadata": {},
   "outputs": [
    {
     "name": "stdout",
     "output_type": "stream",
     "text": [
      "\n",
      "Equal Variances Assumed \n",
      "T-statistic -1.582877928920746, p-value 0.115045264805476\n",
      "--------------------------------------------------------------------------------\n",
      "\n",
      "Unequal Variances Assumed \n",
      "T-statistic -1.582877928920746, p-value 0.11505275676094222\n",
      "--------------------------------------------------------------------------------\n"
     ]
    }
   ],
   "source": [
    "equal_unequal(rvs4,rvs5)"
   ]
  },
  {
   "cell_type": "code",
   "execution_count": null,
   "id": "cf9b6b20-33e6-42ca-8e35-2531367ecedb",
   "metadata": {},
   "outputs": [],
   "source": [
    "rvs6 = stats.norm.rvs(loc=8, scale=20, size=500, random_state=rng)\n",
    "equal_unequal(rvs1,rvs6)"
   ]
  }
 ],
 "metadata": {
  "kernelspec": {
   "display_name": "Python 3 (ipykernel)",
   "language": "python",
   "name": "python3"
  },
  "language_info": {
   "codemirror_mode": {
    "name": "ipython",
    "version": 3
   },
   "file_extension": ".py",
   "mimetype": "text/x-python",
   "name": "python",
   "nbconvert_exporter": "python",
   "pygments_lexer": "ipython3",
   "version": "3.8.12"
  },
  "vscode": {
   "interpreter": {
    "hash": "585a938ec471c889bf0cce0aed741a99eaf47ca09c0fa8393793bc5bfe77ba11"
   }
  }
 },
 "nbformat": 4,
 "nbformat_minor": 5
}
